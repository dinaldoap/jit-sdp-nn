{
  "nbformat": 4,
  "nbformat_minor": 0,
  "metadata": {
    "colab": {
      "name": "JIT-SDP.ipynb",
      "provenance": [],
      "collapsed_sections": [],
      "include_colab_link": true
    },
    "kernelspec": {
      "name": "python3",
      "display_name": "Python 3"
    },
    "accelerator": "GPU"
  },
  "cells": [
    {
      "cell_type": "markdown",
      "metadata": {
        "colab_type": "text",
        "id": "view-in-github"
      },
      "source": [
        "<a href=\"https://colab.research.google.com/github/dinaldoap/jit-sdp-nn/blob/master/notebook/mlp.ipynb\" target=\"_parent\"><img src=\"https://colab.research.google.com/assets/colab-badge.svg\" alt=\"Open In Colab\"/></a>"
      ]
    },
    {
      "cell_type": "code",
      "execution_count": 9,
      "metadata": {},
      "outputs": [
        {
          "name": "stdout",
          "output_type": "stream",
          "text": "The autoreload extension is already loaded. To reload it, use:\n  %reload_ext autoreload\n"
        }
      ],
      "source": [
        "%load_ext autoreload\n",
        "%autoreload 2"
      ]
    },
    {
      "cell_type": "code",
      "execution_count": 10,
      "metadata": {},
      "outputs": [],
      "source": [
        "import numpy as np\n",
        "import pandas as pd\n",
        "import torch\n",
        "import torch.nn as nn\n",
        "import torch.nn.functional as F\n",
        "import torch.optim as optim\n",
        "import torch.utils.data as data\n",
        "from sklearn.model_selection import train_test_split\n",
        "from sklearn.preprocessing import StandardScaler\n",
        "import random\n",
        "from scipy.stats import mstats\n",
        "import math\n",
        "import re\n",
        "\n",
        "from jitsdp import metrics\n",
        "from jitsdp.classifier import Classifier\n",
        "from jitsdp.pipeline import Pipeline"
      ]
    },
    {
      "cell_type": "code",
      "execution_count": 11,
      "metadata": {},
      "outputs": [
        {
          "data": {
            "text/html": "<div>\n<style scoped>\n    .dataframe tbody tr th:only-of-type {\n        vertical-align: middle;\n    }\n\n    .dataframe tbody tr th {\n        vertical-align: top;\n    }\n\n    .dataframe thead th {\n        text-align: right;\n    }\n</style>\n<table border=\"1\" class=\"dataframe\">\n  <thead>\n    <tr style=\"text-align: right;\">\n      <th></th>\n      <th>commit_hash</th>\n      <th>author_name</th>\n      <th>author_date_unix_timestamp</th>\n      <th>author_email</th>\n      <th>author_date</th>\n      <th>commit_message</th>\n      <th>fix</th>\n      <th>classification</th>\n      <th>linked</th>\n      <th>contains_bug</th>\n      <th>...</th>\n      <th>nuc</th>\n      <th>exp</th>\n      <th>rexp</th>\n      <th>sexp</th>\n      <th>glm_probability</th>\n      <th>rf_probability</th>\n      <th>repository_id</th>\n      <th>issue_id</th>\n      <th>issue_date</th>\n      <th>issue_type</th>\n    </tr>\n  </thead>\n  <tbody>\n    <tr>\n      <td>0</td>\n      <td>4f97facc3a992c6e2459c3da86c9d69b0688d5ab</td>\n      <td>Adrin Jalali</td>\n      <td>1574678405</td>\n      <td>adrin.jalali@gmail.com</td>\n      <td>Mon Nov 25 11:40:05 2019 +0100</td>\n      <td>DOC Further 0.22 whats_new cleanup (#15675) * ...</td>\n      <td>True</td>\n      <td>Corrective</td>\n      <td>True</td>\n      <td>False</td>\n      <td>...</td>\n      <td>2.0</td>\n      <td>166.0</td>\n      <td>9.115754</td>\n      <td>55.0</td>\n      <td>0.439104</td>\n      <td>0.576</td>\n      <td>9498e9cb-538a-4aa0-87f1-ffd09b852bb5</td>\n      <td>NaN</td>\n      <td>NaN</td>\n      <td>NaN</td>\n    </tr>\n    <tr>\n      <td>1</td>\n      <td>fc46a13d57be800da2a8a6b2f8e2621d132ac508</td>\n      <td>Hanmin Qin</td>\n      <td>1574674713</td>\n      <td>qinhanmin2005@sina.com</td>\n      <td>Mon Nov 25 03:38:33 2019 -0600</td>\n      <td>DOC Wrong statement in release highlight (#157...</td>\n      <td>True</td>\n      <td>Corrective</td>\n      <td>True</td>\n      <td>False</td>\n      <td>...</td>\n      <td>1.0</td>\n      <td>460.0</td>\n      <td>9.833898</td>\n      <td>57.0</td>\n      <td>0.421690</td>\n      <td>0.364</td>\n      <td>9498e9cb-538a-4aa0-87f1-ffd09b852bb5</td>\n      <td>NaN</td>\n      <td>NaN</td>\n      <td>NaN</td>\n    </tr>\n    <tr>\n      <td>2</td>\n      <td>9f5b97119b08789740876e384d04b4a2e314bc8b</td>\n      <td>Thomas J Fan</td>\n      <td>1574667294</td>\n      <td>thomasjpfan@gmail.com</td>\n      <td>Mon Nov 25 02:34:54 2019 -0500</td>\n      <td>CLN Removes ccp_alpha from RandomTreesEmbeddin...</td>\n      <td>False</td>\n      <td>None</td>\n      <td>False</td>\n      <td>False</td>\n      <td>...</td>\n      <td>2.0</td>\n      <td>163.0</td>\n      <td>24.037563</td>\n      <td>79.5</td>\n      <td>0.396111</td>\n      <td>0.154</td>\n      <td>9498e9cb-538a-4aa0-87f1-ffd09b852bb5</td>\n      <td>NaN</td>\n      <td>NaN</td>\n      <td>NaN</td>\n    </tr>\n    <tr>\n      <td>3</td>\n      <td>c1ba7bfe43c2157a3fbb0acc1a49c9f14363f49c</td>\n      <td>J-A16</td>\n      <td>1574617549</td>\n      <td>Jeremy.Alexandr@gmail.com</td>\n      <td>Sun Nov 24 12:45:49 2019 -0500</td>\n      <td>DOC versionadded labels for NearestNeighbors, ...</td>\n      <td>False</td>\n      <td>Feature Addition</td>\n      <td>False</td>\n      <td>False</td>\n      <td>...</td>\n      <td>2.0</td>\n      <td>0.0</td>\n      <td>0.000000</td>\n      <td>0.0</td>\n      <td>0.465131</td>\n      <td>0.150</td>\n      <td>9498e9cb-538a-4aa0-87f1-ffd09b852bb5</td>\n      <td>NaN</td>\n      <td>NaN</td>\n      <td>NaN</td>\n    </tr>\n    <tr>\n      <td>4</td>\n      <td>308a54e3aed87ec54348a976f8b07f346200b033</td>\n      <td>Jérémie du Boisberranger</td>\n      <td>1574458060</td>\n      <td>34657725+jeremiedbb@users.noreply.github.com</td>\n      <td>Fri Nov 22 22:27:40 2019 +0100</td>\n      <td>CI Use new conda syntax to select blas (#15705)</td>\n      <td>False</td>\n      <td>Feature Addition</td>\n      <td>False</td>\n      <td>False</td>\n      <td>...</td>\n      <td>2.0</td>\n      <td>3.0</td>\n      <td>1.500000</td>\n      <td>1.0</td>\n      <td>0.511461</td>\n      <td>0.320</td>\n      <td>9498e9cb-538a-4aa0-87f1-ffd09b852bb5</td>\n      <td>NaN</td>\n      <td>NaN</td>\n      <td>NaN</td>\n    </tr>\n  </tbody>\n</table>\n<p>5 rows × 31 columns</p>\n</div>",
            "text/plain": "                                commit_hash               author_name  \\\n0  4f97facc3a992c6e2459c3da86c9d69b0688d5ab              Adrin Jalali   \n1  fc46a13d57be800da2a8a6b2f8e2621d132ac508                Hanmin Qin   \n2  9f5b97119b08789740876e384d04b4a2e314bc8b              Thomas J Fan   \n3  c1ba7bfe43c2157a3fbb0acc1a49c9f14363f49c                     J-A16   \n4  308a54e3aed87ec54348a976f8b07f346200b033  Jérémie du Boisberranger   \n\n   author_date_unix_timestamp                                  author_email  \\\n0                  1574678405                        adrin.jalali@gmail.com   \n1                  1574674713                        qinhanmin2005@sina.com   \n2                  1574667294                         thomasjpfan@gmail.com   \n3                  1574617549                     Jeremy.Alexandr@gmail.com   \n4                  1574458060  34657725+jeremiedbb@users.noreply.github.com   \n\n                      author_date  \\\n0  Mon Nov 25 11:40:05 2019 +0100   \n1  Mon Nov 25 03:38:33 2019 -0600   \n2  Mon Nov 25 02:34:54 2019 -0500   \n3  Sun Nov 24 12:45:49 2019 -0500   \n4  Fri Nov 22 22:27:40 2019 +0100   \n\n                                      commit_message    fix    classification  \\\n0  DOC Further 0.22 whats_new cleanup (#15675) * ...   True        Corrective   \n1  DOC Wrong statement in release highlight (#157...   True        Corrective   \n2  CLN Removes ccp_alpha from RandomTreesEmbeddin...  False              None   \n3  DOC versionadded labels for NearestNeighbors, ...  False  Feature Addition   \n4   CI Use new conda syntax to select blas (#15705)   False  Feature Addition   \n\n   linked  contains_bug  ...  nuc    exp       rexp  sexp  glm_probability  \\\n0    True         False  ...  2.0  166.0   9.115754  55.0         0.439104   \n1    True         False  ...  1.0  460.0   9.833898  57.0         0.421690   \n2   False         False  ...  2.0  163.0  24.037563  79.5         0.396111   \n3   False         False  ...  2.0    0.0   0.000000   0.0         0.465131   \n4   False         False  ...  2.0    3.0   1.500000   1.0         0.511461   \n\n   rf_probability                         repository_id issue_id  issue_date  \\\n0           0.576  9498e9cb-538a-4aa0-87f1-ffd09b852bb5      NaN         NaN   \n1           0.364  9498e9cb-538a-4aa0-87f1-ffd09b852bb5      NaN         NaN   \n2           0.154  9498e9cb-538a-4aa0-87f1-ffd09b852bb5      NaN         NaN   \n3           0.150  9498e9cb-538a-4aa0-87f1-ffd09b852bb5      NaN         NaN   \n4           0.320  9498e9cb-538a-4aa0-87f1-ffd09b852bb5      NaN         NaN   \n\n   issue_type  \n0         NaN  \n1         NaN  \n2         NaN  \n3         NaN  \n4         NaN  \n\n[5 rows x 31 columns]"
          },
          "execution_count": 11,
          "metadata": {},
          "output_type": "execute_result"
        }
      ],
      "source": [
        "df = pd.read_csv('https://raw.githubusercontent.com/dinaldoap/jit-sdp-data/master/scikit-learn.csv')\n",
        "df.head()"
      ]
    },
    {
      "cell_type": "code",
      "execution_count": 12,
      "metadata": {},
      "outputs": [
        {
          "data": {
            "text/html": "<div>\n<style scoped>\n    .dataframe tbody tr th:only-of-type {\n        vertical-align: middle;\n    }\n\n    .dataframe tbody tr th {\n        vertical-align: top;\n    }\n\n    .dataframe thead th {\n        text-align: right;\n    }\n</style>\n<table border=\"1\" class=\"dataframe\">\n  <thead>\n    <tr style=\"text-align: right;\">\n      <th></th>\n      <th>commit_hash</th>\n      <th>author_date_unix_timestamp</th>\n      <th>fixes</th>\n      <th>fix</th>\n      <th>ns</th>\n      <th>nd</th>\n      <th>nf</th>\n      <th>entropy</th>\n      <th>la</th>\n      <th>ld</th>\n      <th>...</th>\n      <th>ndev</th>\n      <th>age</th>\n      <th>nuc</th>\n      <th>exp</th>\n      <th>rexp</th>\n      <th>sexp</th>\n      <th>contains_bug</th>\n      <th>day</th>\n      <th>commit_hash_fix</th>\n      <th>day_fix</th>\n    </tr>\n  </thead>\n  <tbody>\n    <tr>\n      <td>24875</td>\n      <td>92fbeab6ad94b6683377e26e8af7dd1cb86d615e</td>\n      <td>1262697992</td>\n      <td>NaN</td>\n      <td>False</td>\n      <td>0.0</td>\n      <td>0.0</td>\n      <td>0.0</td>\n      <td>0.000000</td>\n      <td>0.0</td>\n      <td>0.0</td>\n      <td>...</td>\n      <td>0.0</td>\n      <td>0.000000</td>\n      <td>0.0</td>\n      <td>0.0</td>\n      <td>0.0</td>\n      <td>0.0</td>\n      <td>0</td>\n      <td>0</td>\n      <td>NaN</td>\n      <td>NaN</td>\n    </tr>\n    <tr>\n      <td>24874</td>\n      <td>619da3419bf6e07c8216f8c952c41a0ea37fcabf</td>\n      <td>1262698358</td>\n      <td>NaN</td>\n      <td>False</td>\n      <td>1.0</td>\n      <td>1.0</td>\n      <td>1.0</td>\n      <td>0.000000</td>\n      <td>1.0</td>\n      <td>0.0</td>\n      <td>...</td>\n      <td>2.0</td>\n      <td>0.000012</td>\n      <td>1.0</td>\n      <td>1548.0</td>\n      <td>0.0</td>\n      <td>1005.0</td>\n      <td>0</td>\n      <td>0</td>\n      <td>NaN</td>\n      <td>NaN</td>\n    </tr>\n    <tr>\n      <td>24873</td>\n      <td>fbb3c512ecbffc97825eaaaf925c9af580608fa8</td>\n      <td>1262698396</td>\n      <td>[\"61bc9aae6a501219c853c7023fecb880a8055f9c\", \"...</td>\n      <td>False</td>\n      <td>2.0</td>\n      <td>4.0</td>\n      <td>15.0</td>\n      <td>3.287953</td>\n      <td>920.0</td>\n      <td>0.0</td>\n      <td>...</td>\n      <td>33.0</td>\n      <td>0.000012</td>\n      <td>1.0</td>\n      <td>1549.0</td>\n      <td>2.0</td>\n      <td>578.0</td>\n      <td>1</td>\n      <td>0</td>\n      <td>61bc9aae6a501219c853c7023fecb880a8055f9c</td>\n      <td>0.0</td>\n    </tr>\n    <tr>\n      <td>24872</td>\n      <td>def073bedb0cd71fbdc1e06d5fed1acf07960388</td>\n      <td>1262698420</td>\n      <td>[\"9afe33919a67a9131d8e3fc85e5d513c0df1d322\"]</td>\n      <td>False</td>\n      <td>1.0</td>\n      <td>3.0</td>\n      <td>7.0</td>\n      <td>2.217487</td>\n      <td>421.0</td>\n      <td>0.0</td>\n      <td>...</td>\n      <td>3.0</td>\n      <td>0.000012</td>\n      <td>1.0</td>\n      <td>1550.0</td>\n      <td>4.0</td>\n      <td>1007.0</td>\n      <td>1</td>\n      <td>0</td>\n      <td>9afe33919a67a9131d8e3fc85e5d513c0df1d322</td>\n      <td>65.0</td>\n    </tr>\n    <tr>\n      <td>24871</td>\n      <td>2cc9f2be7bf7fbd36484bec76b4446704971bbbc</td>\n      <td>1262698458</td>\n      <td>NaN</td>\n      <td>False</td>\n      <td>1.0</td>\n      <td>2.0</td>\n      <td>11.0</td>\n      <td>1.622267</td>\n      <td>22489.0</td>\n      <td>0.0</td>\n      <td>...</td>\n      <td>1.0</td>\n      <td>0.000011</td>\n      <td>1.0</td>\n      <td>1551.0</td>\n      <td>6.0</td>\n      <td>1008.0</td>\n      <td>0</td>\n      <td>0</td>\n      <td>NaN</td>\n      <td>NaN</td>\n    </tr>\n  </tbody>\n</table>\n<p>5 rows × 21 columns</p>\n</div>",
            "text/plain": "                                    commit_hash  author_date_unix_timestamp  \\\n24875  92fbeab6ad94b6683377e26e8af7dd1cb86d615e                  1262697992   \n24874  619da3419bf6e07c8216f8c952c41a0ea37fcabf                  1262698358   \n24873  fbb3c512ecbffc97825eaaaf925c9af580608fa8                  1262698396   \n24872  def073bedb0cd71fbdc1e06d5fed1acf07960388                  1262698420   \n24871  2cc9f2be7bf7fbd36484bec76b4446704971bbbc                  1262698458   \n\n                                                   fixes    fix   ns   nd  \\\n24875                                                NaN  False  0.0  0.0   \n24874                                                NaN  False  1.0  1.0   \n24873  [\"61bc9aae6a501219c853c7023fecb880a8055f9c\", \"...  False  2.0  4.0   \n24872       [\"9afe33919a67a9131d8e3fc85e5d513c0df1d322\"]  False  1.0  3.0   \n24871                                                NaN  False  1.0  2.0   \n\n         nf   entropy       la   ld  ...  ndev       age  nuc     exp  rexp  \\\n24875   0.0  0.000000      0.0  0.0  ...   0.0  0.000000  0.0     0.0   0.0   \n24874   1.0  0.000000      1.0  0.0  ...   2.0  0.000012  1.0  1548.0   0.0   \n24873  15.0  3.287953    920.0  0.0  ...  33.0  0.000012  1.0  1549.0   2.0   \n24872   7.0  2.217487    421.0  0.0  ...   3.0  0.000012  1.0  1550.0   4.0   \n24871  11.0  1.622267  22489.0  0.0  ...   1.0  0.000011  1.0  1551.0   6.0   \n\n         sexp  contains_bug  day                           commit_hash_fix  \\\n24875     0.0             0    0                                       NaN   \n24874  1005.0             0    0                                       NaN   \n24873   578.0             1    0  61bc9aae6a501219c853c7023fecb880a8055f9c   \n24872  1007.0             1    0  9afe33919a67a9131d8e3fc85e5d513c0df1d322   \n24871  1008.0             0    0                                       NaN   \n\n      day_fix  \n24875     NaN  \n24874     NaN  \n24873     0.0  \n24872    65.0  \n24871     NaN  \n\n[5 rows x 21 columns]"
          },
          "execution_count": 12,
          "metadata": {},
          "output_type": "execute_result"
        }
      ],
      "source": [
        "label_col = 'contains_bug'\n",
        "features_cols = ['fix', 'ns', 'nd', 'nf', 'entropy', 'la', 'ld', 'lt', 'ndev', 'age', 'nuc', 'exp', 'rexp', 'sexp']\n",
        "preprocess_cols = ['commit_hash', 'author_date_unix_timestamp', 'fixes'] + features_cols + [label_col]\n",
        "seconds_by_day = 24 * 60 * 60\n",
        "df_preprocess = df[preprocess_cols]\n",
        "# timeline order\n",
        "df_preprocess = df_preprocess[::-1]\n",
        "# contains_bug\n",
        "df_preprocess[label_col] = df_preprocess[label_col].astype('int')\n",
        "# day\n",
        "first_timestamp = df_preprocess['author_date_unix_timestamp'].min()\n",
        "df_preprocess['day'] = df_preprocess['author_date_unix_timestamp'] - first_timestamp\n",
        "df_preprocess['day'] = df_preprocess['day'] / seconds_by_day\n",
        "df_preprocess['day'] = df_preprocess['day'].astype('int')\n",
        "# fixes\n",
        "df_preprocess['commit_hash_fix'] = df_preprocess['fixes'].dropna().apply(lambda x: re.findall('\\\\b\\\\w+\\\\b', x)[0])\n",
        "df_fix = df_preprocess[['commit_hash', 'day']].set_index('commit_hash')\n",
        "df_preprocess = df_preprocess.join(df_fix, on='commit_hash_fix', how='left', rsuffix='_fix')\n",
        "df_preprocess.head()\n",
        "\n"
      ]
    },
    {
      "cell_type": "code",
      "execution_count": 13,
      "metadata": {},
      "outputs": [
        {
          "data": {
            "text/html": "<div>\n<style scoped>\n    .dataframe tbody tr th:only-of-type {\n        vertical-align: middle;\n    }\n\n    .dataframe tbody tr th {\n        vertical-align: top;\n    }\n\n    .dataframe thead th {\n        text-align: right;\n    }\n</style>\n<table border=\"1\" class=\"dataframe\">\n  <thead>\n    <tr style=\"text-align: right;\">\n      <th></th>\n      <th>day</th>\n      <th>day_fix</th>\n      <th>fix</th>\n      <th>ns</th>\n      <th>nd</th>\n      <th>nf</th>\n      <th>entropy</th>\n      <th>la</th>\n      <th>ld</th>\n      <th>lt</th>\n      <th>ndev</th>\n      <th>age</th>\n      <th>nuc</th>\n      <th>exp</th>\n      <th>rexp</th>\n      <th>sexp</th>\n      <th>contains_bug</th>\n    </tr>\n  </thead>\n  <tbody>\n    <tr>\n      <td>24875</td>\n      <td>0</td>\n      <td>NaN</td>\n      <td>False</td>\n      <td>0.0</td>\n      <td>0.0</td>\n      <td>0.0</td>\n      <td>0.000000</td>\n      <td>0.0</td>\n      <td>0.0</td>\n      <td>0.0</td>\n      <td>0.0</td>\n      <td>0.000000</td>\n      <td>0.0</td>\n      <td>0.0</td>\n      <td>0.0</td>\n      <td>0.0</td>\n      <td>0</td>\n    </tr>\n    <tr>\n      <td>24874</td>\n      <td>0</td>\n      <td>NaN</td>\n      <td>False</td>\n      <td>1.0</td>\n      <td>1.0</td>\n      <td>1.0</td>\n      <td>0.000000</td>\n      <td>1.0</td>\n      <td>0.0</td>\n      <td>0.0</td>\n      <td>2.0</td>\n      <td>0.000012</td>\n      <td>1.0</td>\n      <td>1548.0</td>\n      <td>0.0</td>\n      <td>1005.0</td>\n      <td>0</td>\n    </tr>\n    <tr>\n      <td>24873</td>\n      <td>0</td>\n      <td>0.0</td>\n      <td>False</td>\n      <td>2.0</td>\n      <td>4.0</td>\n      <td>15.0</td>\n      <td>3.287953</td>\n      <td>920.0</td>\n      <td>0.0</td>\n      <td>0.0</td>\n      <td>33.0</td>\n      <td>0.000012</td>\n      <td>1.0</td>\n      <td>1549.0</td>\n      <td>2.0</td>\n      <td>578.0</td>\n      <td>1</td>\n    </tr>\n    <tr>\n      <td>24872</td>\n      <td>0</td>\n      <td>65.0</td>\n      <td>False</td>\n      <td>1.0</td>\n      <td>3.0</td>\n      <td>7.0</td>\n      <td>2.217487</td>\n      <td>421.0</td>\n      <td>0.0</td>\n      <td>0.0</td>\n      <td>3.0</td>\n      <td>0.000012</td>\n      <td>1.0</td>\n      <td>1550.0</td>\n      <td>4.0</td>\n      <td>1007.0</td>\n      <td>1</td>\n    </tr>\n    <tr>\n      <td>24871</td>\n      <td>0</td>\n      <td>NaN</td>\n      <td>False</td>\n      <td>1.0</td>\n      <td>2.0</td>\n      <td>11.0</td>\n      <td>1.622267</td>\n      <td>22489.0</td>\n      <td>0.0</td>\n      <td>0.0</td>\n      <td>1.0</td>\n      <td>0.000011</td>\n      <td>1.0</td>\n      <td>1551.0</td>\n      <td>6.0</td>\n      <td>1008.0</td>\n      <td>0</td>\n    </tr>\n  </tbody>\n</table>\n</div>",
            "text/plain": "       day  day_fix    fix   ns   nd    nf   entropy       la   ld   lt  ndev  \\\n24875    0      NaN  False  0.0  0.0   0.0  0.000000      0.0  0.0  0.0   0.0   \n24874    0      NaN  False  1.0  1.0   1.0  0.000000      1.0  0.0  0.0   2.0   \n24873    0      0.0  False  2.0  4.0  15.0  3.287953    920.0  0.0  0.0  33.0   \n24872    0     65.0  False  1.0  3.0   7.0  2.217487    421.0  0.0  0.0   3.0   \n24871    0      NaN  False  1.0  2.0  11.0  1.622267  22489.0  0.0  0.0   1.0   \n\n            age  nuc     exp  rexp    sexp  contains_bug  \n24875  0.000000  0.0     0.0   0.0     0.0             0  \n24874  0.000012  1.0  1548.0   0.0  1005.0             0  \n24873  0.000012  1.0  1549.0   2.0   578.0             1  \n24872  0.000012  1.0  1550.0   4.0  1007.0             1  \n24871  0.000011  1.0  1551.0   6.0  1008.0             0  "
          },
          "execution_count": 13,
          "metadata": {},
          "output_type": "execute_result"
        }
      ],
      "source": [
        "prequential_cols = ['day', 'day_fix'] + features_cols + [label_col]\n",
        "df_prequential = df_preprocess[prequential_cols]\n",
        "df_prequential.head()"
      ]
    },
    {
      "cell_type": "code",
      "execution_count": 14,
      "metadata": {},
      "outputs": [],
      "source": [
        "def create_pipeline():\n",
        "    scaler = StandardScaler()\n",
        "    criterion = nn.BCELoss()\n",
        "    classifier = Classifier(input_size=len(features_cols), hidden_size=len(features_cols), drop_prob=0.5)\n",
        "    optimizer = optim.Adam(params=classifier.parameters(), lr=0.003)\n",
        "    return Pipeline(steps=[scaler], classifier=classifier, optimizer=optimizer, criterion=criterion, max_epochs=200, fading_factor=0.9999)"
      ]
    },
    {
      "cell_type": "code",
      "execution_count": 15,
      "metadata": {},
      "outputs": [],
      "source": [
        "  def evaluate(pipeline, X_train, y_train, X_test, y_test):\n",
        "    train_gmean, train_recalls = pipeline.evaluate(X_train, y_train)\n",
        "    test_gmean, test_recalls = pipeline.evaluate(X_test, y_test)\n",
        "    print('Epoch: {}'.format(pipeline.epoch))\n",
        "    print('Train g-mean: {}, recalls: {}'.format(train_gmean.item(), train_recalls))\n",
        "    print('Test g-mean: {}, recalls: {}'.format(test_gmean.item(), test_recalls))"
      ]
    },
    {
      "cell_type": "code",
      "execution_count": 16,
      "metadata": {},
      "outputs": [
        {
          "name": "stderr",
          "output_type": "stream",
          "text": "/home/pytorch/.conda/envs/pytorch/lib/python3.7/site-packages/ipykernel_launcher.py:11: UserWarning: Boolean Series key will be reindexed to match DataFrame index.\n  # This is added back by InteractiveShellApp.init_path()\n"
        },
        {
          "ename": "RuntimeError",
          "evalue": "reduce failed to synchronize: cudaErrorAssert: device-side assert triggered",
          "output_type": "error",
          "traceback": [
            "\u001b[0;31m---------------------------------------------------------------------------\u001b[0m",
            "\u001b[0;31mRuntimeError\u001b[0m                              Traceback (most recent call last)",
            "\u001b[0;32m<ipython-input-16-c189013d5aa2>\u001b[0m in \u001b[0;36m<module>\u001b[0;34m\u001b[0m\n\u001b[1;32m     18\u001b[0m     \u001b[0;31m# train and evaluate\u001b[0m\u001b[0;34m\u001b[0m\u001b[0;34m\u001b[0m\u001b[0m\n\u001b[1;32m     19\u001b[0m     \u001b[0mpipeline\u001b[0m \u001b[0;34m=\u001b[0m \u001b[0mcreate_pipeline\u001b[0m\u001b[0;34m(\u001b[0m\u001b[0;34m)\u001b[0m\u001b[0;34m\u001b[0m\u001b[0m\n\u001b[0;32m---> 20\u001b[0;31m     \u001b[0mpipeline\u001b[0m\u001b[0;34m.\u001b[0m\u001b[0mtrain\u001b[0m\u001b[0;34m(\u001b[0m\u001b[0mX_train\u001b[0m\u001b[0;34m,\u001b[0m \u001b[0my_train\u001b[0m\u001b[0;34m)\u001b[0m\u001b[0;34m\u001b[0m\u001b[0m\n\u001b[0m\u001b[1;32m     21\u001b[0m     \u001b[0mevaluate\u001b[0m\u001b[0;34m(\u001b[0m\u001b[0mpipeline\u001b[0m\u001b[0;34m,\u001b[0m \u001b[0mX_train\u001b[0m\u001b[0;34m,\u001b[0m \u001b[0my_train\u001b[0m\u001b[0;34m,\u001b[0m \u001b[0mX_test\u001b[0m\u001b[0;34m,\u001b[0m \u001b[0my_test\u001b[0m\u001b[0;34m)\u001b[0m\u001b[0;34m\u001b[0m\u001b[0m\n\u001b[1;32m     22\u001b[0m \u001b[0;34m\u001b[0m\u001b[0m\n",
            "\u001b[0;32m/workspace/jitsdp/pipeline.py\u001b[0m in \u001b[0;36mtrain\u001b[0;34m(self, X, y)\u001b[0m\n\u001b[1;32m     42\u001b[0m \u001b[0;34m\u001b[0m\u001b[0m\n\u001b[1;32m     43\u001b[0m                 \u001b[0moutputs\u001b[0m \u001b[0;34m=\u001b[0m \u001b[0mself\u001b[0m\u001b[0;34m.\u001b[0m\u001b[0mclassifier\u001b[0m\u001b[0;34m(\u001b[0m\u001b[0minputs\u001b[0m\u001b[0;34m.\u001b[0m\u001b[0mfloat\u001b[0m\u001b[0;34m(\u001b[0m\u001b[0;34m)\u001b[0m\u001b[0;34m)\u001b[0m\u001b[0;34m\u001b[0m\u001b[0m\n\u001b[0;32m---> 44\u001b[0;31m                 \u001b[0mloss\u001b[0m \u001b[0;34m=\u001b[0m \u001b[0mself\u001b[0m\u001b[0;34m.\u001b[0m\u001b[0mcriterion\u001b[0m\u001b[0;34m(\u001b[0m\u001b[0moutputs\u001b[0m\u001b[0;34m.\u001b[0m\u001b[0msqueeze\u001b[0m\u001b[0;34m(\u001b[0m\u001b[0;34m)\u001b[0m\u001b[0;34m,\u001b[0m \u001b[0mtargets\u001b[0m\u001b[0;34m.\u001b[0m\u001b[0mfloat\u001b[0m\u001b[0;34m(\u001b[0m\u001b[0;34m)\u001b[0m\u001b[0;34m)\u001b[0m\u001b[0;34m\u001b[0m\u001b[0m\n\u001b[0m\u001b[1;32m     45\u001b[0m                 \u001b[0mtrain_loss\u001b[0m \u001b[0;34m+=\u001b[0m \u001b[0mloss\u001b[0m\u001b[0;34m.\u001b[0m\u001b[0mitem\u001b[0m\u001b[0;34m(\u001b[0m\u001b[0;34m)\u001b[0m\u001b[0;34m\u001b[0m\u001b[0m\n\u001b[1;32m     46\u001b[0m \u001b[0;34m\u001b[0m\u001b[0m\n",
            "\u001b[0;32m~/.conda/envs/pytorch/lib/python3.7/site-packages/torch/nn/modules/module.py\u001b[0m in \u001b[0;36m__call__\u001b[0;34m(self, *input, **kwargs)\u001b[0m\n\u001b[1;32m    539\u001b[0m             \u001b[0mresult\u001b[0m \u001b[0;34m=\u001b[0m \u001b[0mself\u001b[0m\u001b[0;34m.\u001b[0m\u001b[0m_slow_forward\u001b[0m\u001b[0;34m(\u001b[0m\u001b[0;34m*\u001b[0m\u001b[0minput\u001b[0m\u001b[0;34m,\u001b[0m \u001b[0;34m**\u001b[0m\u001b[0mkwargs\u001b[0m\u001b[0;34m)\u001b[0m\u001b[0;34m\u001b[0m\u001b[0m\n\u001b[1;32m    540\u001b[0m         \u001b[0;32melse\u001b[0m\u001b[0;34m:\u001b[0m\u001b[0;34m\u001b[0m\u001b[0m\n\u001b[0;32m--> 541\u001b[0;31m             \u001b[0mresult\u001b[0m \u001b[0;34m=\u001b[0m \u001b[0mself\u001b[0m\u001b[0;34m.\u001b[0m\u001b[0mforward\u001b[0m\u001b[0;34m(\u001b[0m\u001b[0;34m*\u001b[0m\u001b[0minput\u001b[0m\u001b[0;34m,\u001b[0m \u001b[0;34m**\u001b[0m\u001b[0mkwargs\u001b[0m\u001b[0;34m)\u001b[0m\u001b[0;34m\u001b[0m\u001b[0m\n\u001b[0m\u001b[1;32m    542\u001b[0m         \u001b[0;32mfor\u001b[0m \u001b[0mhook\u001b[0m \u001b[0;32min\u001b[0m \u001b[0mself\u001b[0m\u001b[0;34m.\u001b[0m\u001b[0m_forward_hooks\u001b[0m\u001b[0;34m.\u001b[0m\u001b[0mvalues\u001b[0m\u001b[0;34m(\u001b[0m\u001b[0;34m)\u001b[0m\u001b[0;34m:\u001b[0m\u001b[0;34m\u001b[0m\u001b[0m\n\u001b[1;32m    543\u001b[0m             \u001b[0mhook_result\u001b[0m \u001b[0;34m=\u001b[0m \u001b[0mhook\u001b[0m\u001b[0;34m(\u001b[0m\u001b[0mself\u001b[0m\u001b[0;34m,\u001b[0m \u001b[0minput\u001b[0m\u001b[0;34m,\u001b[0m \u001b[0mresult\u001b[0m\u001b[0;34m)\u001b[0m\u001b[0;34m\u001b[0m\u001b[0m\n",
            "\u001b[0;32m~/.conda/envs/pytorch/lib/python3.7/site-packages/torch/nn/modules/loss.py\u001b[0m in \u001b[0;36mforward\u001b[0;34m(self, input, target)\u001b[0m\n\u001b[1;32m    496\u001b[0m \u001b[0;34m\u001b[0m\u001b[0m\n\u001b[1;32m    497\u001b[0m     \u001b[0;32mdef\u001b[0m \u001b[0mforward\u001b[0m\u001b[0;34m(\u001b[0m\u001b[0mself\u001b[0m\u001b[0;34m,\u001b[0m \u001b[0minput\u001b[0m\u001b[0;34m,\u001b[0m \u001b[0mtarget\u001b[0m\u001b[0;34m)\u001b[0m\u001b[0;34m:\u001b[0m\u001b[0;34m\u001b[0m\u001b[0m\n\u001b[0;32m--> 498\u001b[0;31m         \u001b[0;32mreturn\u001b[0m \u001b[0mF\u001b[0m\u001b[0;34m.\u001b[0m\u001b[0mbinary_cross_entropy\u001b[0m\u001b[0;34m(\u001b[0m\u001b[0minput\u001b[0m\u001b[0;34m,\u001b[0m \u001b[0mtarget\u001b[0m\u001b[0;34m,\u001b[0m \u001b[0mweight\u001b[0m\u001b[0;34m=\u001b[0m\u001b[0mself\u001b[0m\u001b[0;34m.\u001b[0m\u001b[0mweight\u001b[0m\u001b[0;34m,\u001b[0m \u001b[0mreduction\u001b[0m\u001b[0;34m=\u001b[0m\u001b[0mself\u001b[0m\u001b[0;34m.\u001b[0m\u001b[0mreduction\u001b[0m\u001b[0;34m)\u001b[0m\u001b[0;34m\u001b[0m\u001b[0m\n\u001b[0m\u001b[1;32m    499\u001b[0m \u001b[0;34m\u001b[0m\u001b[0m\n\u001b[1;32m    500\u001b[0m \u001b[0;34m\u001b[0m\u001b[0m\n",
            "\u001b[0;32m~/.conda/envs/pytorch/lib/python3.7/site-packages/torch/nn/functional.py\u001b[0m in \u001b[0;36mbinary_cross_entropy\u001b[0;34m(input, target, weight, size_average, reduce, reduction)\u001b[0m\n\u001b[1;32m   2063\u001b[0m \u001b[0;34m\u001b[0m\u001b[0m\n\u001b[1;32m   2064\u001b[0m     return torch._C._nn.binary_cross_entropy(\n\u001b[0;32m-> 2065\u001b[0;31m         input, target, weight, reduction_enum)\n\u001b[0m\u001b[1;32m   2066\u001b[0m \u001b[0;34m\u001b[0m\u001b[0m\n\u001b[1;32m   2067\u001b[0m \u001b[0;34m\u001b[0m\u001b[0m\n",
            "\u001b[0;31mRuntimeError\u001b[0m: reduce failed to synchronize: cudaErrorAssert: device-side assert triggered"
          ]
        }
      ],
      "source": [
        "# split dataset in chunks for testing and iterate over them (chunk from current to current + interval or end)\n",
        "# the previous chunks are used for training (chunks from start to current)\n",
        "start = 30\n",
        "interval = 30\n",
        "end = df_prequential['day'].max() # last day\n",
        "end = math.ceil((end - start) / interval) * interval + start # last chunk\n",
        "\n",
        "for current in range(start, end, interval):\n",
        "    df_train = df_prequential[df_prequential['day'] < current]\n",
        "    df_test = df_prequential[df_prequential['day'] < min(current + interval, end)]\n",
        "    df_test = df_test[df_prequential['day'] >= current]  \n",
        "    # TODO: check if fix has been done (bug) or verification latency has passed (normal), otherwise exclude commit\n",
        "    # convert to numpy array\n",
        "    X_train = df_train[features_cols].values\n",
        "    y_train = df_train[label_col].values\n",
        "    X_test = df_test[features_cols].values\n",
        "    y_test = df_test[label_col].values\n",
        "    # train and evaluate\n",
        "    pipeline = create_pipeline()\n",
        "    pipeline.train(X_train, y_train)\n",
        "    evaluate(pipeline, X_train, y_train, X_test, y_test)\n",
        "    \n"
      ]
    },
    {
      "cell_type": "code",
      "execution_count": 0,
      "metadata": {
        "colab": {},
        "colab_type": "code",
        "id": "L_t4Gh43GYWl"
      },
      "outputs": [],
      "source": []
    }
  ]
}