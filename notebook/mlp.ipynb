{
  "nbformat": 4,
  "nbformat_minor": 0,
  "metadata": {
    "colab": {
      "name": "JIT-SDP.ipynb",
      "provenance": [],
      "collapsed_sections": [],
      "include_colab_link": true
    },
    "kernelspec": {
      "name": "python37064bite406851a25184002a8fe65dca1936b2d",
      "display_name": "Python 3.7.0 64-bit"
    },
    "accelerator": "GPU"
  },
  "cells": [
    {
      "cell_type": "markdown",
      "metadata": {
        "colab_type": "text",
        "id": "view-in-github"
      },
      "source": [
        "<a href=\"https://colab.research.google.com/github/dinaldoap/jit-sdp-nn/blob/master/notebook/mlp.ipynb\" target=\"_parent\"><img src=\"https://colab.research.google.com/assets/colab-badge.svg\" alt=\"Open In Colab\"/></a>"
      ]
    },
    {
      "cell_type": "code",
      "execution_count": 42,
      "metadata": {},
      "outputs": [
        {
          "name": "stdout",
          "output_type": "stream",
          "text": "The autoreload extension is already loaded. To reload it, use:\n  %reload_ext autoreload\n"
        }
      ],
      "source": [
        "%load_ext autoreload\n",
        "%autoreload 2"
      ]
    },
    {
      "cell_type": "code",
      "execution_count": 43,
      "metadata": {},
      "outputs": [
        {
          "name": "stdout",
          "output_type": "stream",
          "text": "/workspace\n"
        }
      ],
      "source": [
        "%cd /workspace/"
      ]
    },
    {
      "cell_type": "code",
      "execution_count": 44,
      "metadata": {},
      "outputs": [],
      "source": [
        "import numpy as np\n",
        "import pandas as pd\n",
        "import torch\n",
        "import torch.nn as nn\n",
        "import torch.nn.functional as F\n",
        "import torch.optim as optim\n",
        "import torch.utils.data as data\n",
        "from sklearn.model_selection import train_test_split\n",
        "from sklearn.preprocessing import StandardScaler\n",
        "import random\n",
        "from scipy.stats import mstats\n",
        "import math\n",
        "import re\n",
        "\n",
        "from jitsdp import metrics\n",
        "from jitsdp.classifier import Classifier\n",
        "from jitsdp.pipeline import Pipeline\n",
        "\n",
        "import logging"
      ]
    },
    {
      "cell_type": "code",
      "execution_count": 45,
      "metadata": {},
      "outputs": [],
      "source": [
        "logging.getLogger('').handlers = []\n",
        "logging.basicConfig(filename='notebook/mlp.log', filemode='w', level=logging.DEBUG)"
      ]
    },
    {
      "cell_type": "code",
      "execution_count": 46,
      "metadata": {},
      "outputs": [
        {
          "data": {
            "text/html": "<div>\n<style scoped>\n    .dataframe tbody tr th:only-of-type {\n        vertical-align: middle;\n    }\n\n    .dataframe tbody tr th {\n        vertical-align: top;\n    }\n\n    .dataframe thead th {\n        text-align: right;\n    }\n</style>\n<table border=\"1\" class=\"dataframe\">\n  <thead>\n    <tr style=\"text-align: right;\">\n      <th></th>\n      <th>commit_hash</th>\n      <th>author_name</th>\n      <th>author_date_unix_timestamp</th>\n      <th>author_email</th>\n      <th>author_date</th>\n      <th>commit_message</th>\n      <th>fix</th>\n      <th>classification</th>\n      <th>linked</th>\n      <th>contains_bug</th>\n      <th>...</th>\n      <th>fileschanged</th>\n      <th>lt</th>\n      <th>ndev</th>\n      <th>age</th>\n      <th>nuc</th>\n      <th>exp</th>\n      <th>rexp</th>\n      <th>sexp</th>\n      <th>glm_probability</th>\n      <th>repository_id</th>\n    </tr>\n  </thead>\n  <tbody>\n    <tr>\n      <td>0</td>\n      <td>b96625a4b8e0aaaf58ca56082ed29dbc588e9379</td>\n      <td>ficristo</td>\n      <td>1512664331</td>\n      <td>ficristo.work@gmail.com</td>\n      <td>Thu Dec 7 17:32:11 2017 +0100</td>\n      <td>Remove PanelManager (#11589)</td>\n      <td>False</td>\n      <td>None</td>\n      <td>False</td>\n      <td>False</td>\n      <td>...</td>\n      <td>src/brackets.js,CAS_DELIMITER,src/search/Searc...</td>\n      <td>0.0</td>\n      <td>1.0</td>\n      <td>0.0</td>\n      <td>0.0</td>\n      <td>2.0</td>\n      <td>0.0</td>\n      <td>2.0</td>\n      <td>0.450896</td>\n      <td>62af12f4-9856-421d-a18b-16a4d7b39c63</td>\n    </tr>\n    <tr>\n      <td>1</td>\n      <td>51417390f9b7aedf983f0f847d578dd819765c6d</td>\n      <td>ficristo</td>\n      <td>1512664256</td>\n      <td>ficristo.work@gmail.com</td>\n      <td>Thu Dec 7 17:30:56 2017 +0100</td>\n      <td>Add wrapper functions to call the fs-extra one...</td>\n      <td>False</td>\n      <td>Feature Addition</td>\n      <td>False</td>\n      <td>False</td>\n      <td>...</td>\n      <td>test/node/TestingDomain.js,CAS_DELIMITER</td>\n      <td>0.0</td>\n      <td>1.0</td>\n      <td>0.0</td>\n      <td>0.0</td>\n      <td>0.0</td>\n      <td>0.0</td>\n      <td>0.0</td>\n      <td>0.401964</td>\n      <td>62af12f4-9856-421d-a18b-16a4d7b39c63</td>\n    </tr>\n    <tr>\n      <td>2</td>\n      <td>13af302a2a5bbbe459fa7ac060203dd410de97e9</td>\n      <td>Naveen Choudhary</td>\n      <td>1512657100</td>\n      <td>navch@users.noreply.github.com</td>\n      <td>Thu Dec 7 20:01:40 2017 +0530</td>\n      <td>Merge pull request #13945 from JungGaBin/fixtt...</td>\n      <td>False</td>\n      <td>Merge</td>\n      <td>False</td>\n      <td>False</td>\n      <td>...</td>\n      <td>NaN</td>\n      <td>0.0</td>\n      <td>0.0</td>\n      <td>0.0</td>\n      <td>0.0</td>\n      <td>0.0</td>\n      <td>0.0</td>\n      <td>0.0</td>\n      <td>0.201657</td>\n      <td>62af12f4-9856-421d-a18b-16a4d7b39c63</td>\n    </tr>\n    <tr>\n      <td>3</td>\n      <td>63e07fd375fcf6a29fe37b566464d4591f8f0b69</td>\n      <td>Prashanth Nethi</td>\n      <td>1512448426</td>\n      <td>prashant@adobe.com</td>\n      <td>Tue Dec 5 10:03:46 2017 +0530</td>\n      <td>Merge pull request #13852 from toryherman/1377...</td>\n      <td>False</td>\n      <td>Merge</td>\n      <td>False</td>\n      <td>False</td>\n      <td>...</td>\n      <td>NaN</td>\n      <td>0.0</td>\n      <td>0.0</td>\n      <td>0.0</td>\n      <td>0.0</td>\n      <td>0.0</td>\n      <td>0.0</td>\n      <td>0.0</td>\n      <td>0.201657</td>\n      <td>62af12f4-9856-421d-a18b-16a4d7b39c63</td>\n    </tr>\n    <tr>\n      <td>4</td>\n      <td>cf8dc16872045735ba485a90eec104b5517a909a</td>\n      <td>JungGaBin</td>\n      <td>1511896569</td>\n      <td>jgb5131@naver.com</td>\n      <td>Wed Nov 29 04:16:09 2017 +0900</td>\n      <td>Correct typo (#13938)Inpsector -&gt; Inspector</td>\n      <td>False</td>\n      <td>None</td>\n      <td>False</td>\n      <td>False</td>\n      <td>...</td>\n      <td>test/spec/LiveDevelopment-test.js,CAS_DELIMITER</td>\n      <td>0.0</td>\n      <td>1.0</td>\n      <td>0.0</td>\n      <td>0.0</td>\n      <td>3.0</td>\n      <td>0.0</td>\n      <td>1.0</td>\n      <td>0.402032</td>\n      <td>62af12f4-9856-421d-a18b-16a4d7b39c63</td>\n    </tr>\n  </tbody>\n</table>\n<p>5 rows × 27 columns</p>\n</div>",
            "text/plain": "                                commit_hash       author_name  \\\n0  b96625a4b8e0aaaf58ca56082ed29dbc588e9379          ficristo   \n1  51417390f9b7aedf983f0f847d578dd819765c6d          ficristo   \n2  13af302a2a5bbbe459fa7ac060203dd410de97e9  Naveen Choudhary   \n3  63e07fd375fcf6a29fe37b566464d4591f8f0b69   Prashanth Nethi   \n4  cf8dc16872045735ba485a90eec104b5517a909a         JungGaBin   \n\n   author_date_unix_timestamp                    author_email  \\\n0                  1512664331         ficristo.work@gmail.com   \n1                  1512664256         ficristo.work@gmail.com   \n2                  1512657100  navch@users.noreply.github.com   \n3                  1512448426              prashant@adobe.com   \n4                  1511896569               jgb5131@naver.com   \n\n                      author_date  \\\n0   Thu Dec 7 17:32:11 2017 +0100   \n1   Thu Dec 7 17:30:56 2017 +0100   \n2   Thu Dec 7 20:01:40 2017 +0530   \n3   Tue Dec 5 10:03:46 2017 +0530   \n4  Wed Nov 29 04:16:09 2017 +0900   \n\n                                      commit_message    fix    classification  \\\n0                       Remove PanelManager (#11589)  False              None   \n1  Add wrapper functions to call the fs-extra one...  False  Feature Addition   \n2  Merge pull request #13945 from JungGaBin/fixtt...  False             Merge   \n3  Merge pull request #13852 from toryherman/1377...  False             Merge   \n4        Correct typo (#13938)Inpsector -> Inspector  False              None   \n\n   linked  contains_bug  ...  \\\n0   False         False  ...   \n1   False         False  ...   \n2   False         False  ...   \n3   False         False  ...   \n4   False         False  ...   \n\n                                        fileschanged   lt  ndev  age  nuc  \\\n0  src/brackets.js,CAS_DELIMITER,src/search/Searc...  0.0   1.0  0.0  0.0   \n1           test/node/TestingDomain.js,CAS_DELIMITER  0.0   1.0  0.0  0.0   \n2                                                NaN  0.0   0.0  0.0  0.0   \n3                                                NaN  0.0   0.0  0.0  0.0   \n4    test/spec/LiveDevelopment-test.js,CAS_DELIMITER  0.0   1.0  0.0  0.0   \n\n   exp  rexp sexp  glm_probability                         repository_id  \n0  2.0   0.0  2.0         0.450896  62af12f4-9856-421d-a18b-16a4d7b39c63  \n1  0.0   0.0  0.0         0.401964  62af12f4-9856-421d-a18b-16a4d7b39c63  \n2  0.0   0.0  0.0         0.201657  62af12f4-9856-421d-a18b-16a4d7b39c63  \n3  0.0   0.0  0.0         0.201657  62af12f4-9856-421d-a18b-16a4d7b39c63  \n4  3.0   0.0  1.0         0.402032  62af12f4-9856-421d-a18b-16a4d7b39c63  \n\n[5 rows x 27 columns]"
          },
          "execution_count": 46,
          "metadata": {},
          "output_type": "execute_result"
        }
      ],
      "source": [
        "df = pd.read_csv('https://raw.githubusercontent.com/dinaldoap/jit-sdp-data/master/brackets.csv')\n",
        "df.head()"
      ]
    },
    {
      "cell_type": "code",
      "execution_count": 47,
      "metadata": {},
      "outputs": [
        {
          "data": {
            "text/html": "<div>\n<style scoped>\n    .dataframe tbody tr th:only-of-type {\n        vertical-align: middle;\n    }\n\n    .dataframe tbody tr th {\n        vertical-align: top;\n    }\n\n    .dataframe thead th {\n        text-align: right;\n    }\n</style>\n<table border=\"1\" class=\"dataframe\">\n  <thead>\n    <tr style=\"text-align: right;\">\n      <th></th>\n      <th>commit_hash</th>\n      <th>author_date_unix_timestamp</th>\n      <th>fixes</th>\n      <th>fix</th>\n      <th>ns</th>\n      <th>nd</th>\n      <th>nf</th>\n      <th>entrophy</th>\n      <th>la</th>\n      <th>ld</th>\n      <th>...</th>\n      <th>nuc</th>\n      <th>exp</th>\n      <th>rexp</th>\n      <th>sexp</th>\n      <th>contains_bug</th>\n      <th>seq</th>\n      <th>day</th>\n      <th>commit_hash_fix</th>\n      <th>day_fix</th>\n      <th>seq_fix</th>\n    </tr>\n  </thead>\n  <tbody>\n    <tr>\n      <td>17571</td>\n      <td>637d7f4ffa0f2396c2fb61a5e51b9b980f47a2c2</td>\n      <td>1323292816</td>\n      <td>NaN</td>\n      <td>False</td>\n      <td>2.0</td>\n      <td>5.0</td>\n      <td>23.0</td>\n      <td>3.630787</td>\n      <td>3754.0</td>\n      <td>0.0</td>\n      <td>...</td>\n      <td>0.0</td>\n      <td>11.0</td>\n      <td>0.000000</td>\n      <td>21.0</td>\n      <td>0</td>\n      <td>0</td>\n      <td>0</td>\n      <td>NaN</td>\n      <td>NaN</td>\n      <td>NaN</td>\n    </tr>\n    <tr>\n      <td>17570</td>\n      <td>c8142d2dc17fc1d3777689d67d32d010f5d8dfa7</td>\n      <td>1323292845</td>\n      <td>NaN</td>\n      <td>False</td>\n      <td>2.0</td>\n      <td>2.0</td>\n      <td>2.0</td>\n      <td>0.811278</td>\n      <td>4.0</td>\n      <td>0.0</td>\n      <td>...</td>\n      <td>0.0</td>\n      <td>23.5</td>\n      <td>0.000000</td>\n      <td>22.0</td>\n      <td>0</td>\n      <td>1</td>\n      <td>0</td>\n      <td>NaN</td>\n      <td>NaN</td>\n      <td>NaN</td>\n    </tr>\n    <tr>\n      <td>17569</td>\n      <td>af90ea5adf06c935ce1d5db4ce996054c94aeed7</td>\n      <td>1323294546</td>\n      <td>NaN</td>\n      <td>True</td>\n      <td>1.0</td>\n      <td>1.0</td>\n      <td>1.0</td>\n      <td>0.000000</td>\n      <td>1.0</td>\n      <td>1.0</td>\n      <td>...</td>\n      <td>1.0</td>\n      <td>25.0</td>\n      <td>51.793651</td>\n      <td>2.0</td>\n      <td>0</td>\n      <td>2</td>\n      <td>0</td>\n      <td>NaN</td>\n      <td>NaN</td>\n      <td>NaN</td>\n    </tr>\n    <tr>\n      <td>17568</td>\n      <td>82f3f98077bde9ac7c4ff285c593a2f351da5bf2</td>\n      <td>1323295924</td>\n      <td>NaN</td>\n      <td>False</td>\n      <td>1.0</td>\n      <td>1.0</td>\n      <td>1.0</td>\n      <td>0.000000</td>\n      <td>2.0</td>\n      <td>3.0</td>\n      <td>...</td>\n      <td>1.0</td>\n      <td>26.0</td>\n      <td>28.799228</td>\n      <td>3.0</td>\n      <td>0</td>\n      <td>3</td>\n      <td>0</td>\n      <td>NaN</td>\n      <td>NaN</td>\n      <td>NaN</td>\n    </tr>\n    <tr>\n      <td>17567</td>\n      <td>a454a7bce095b18da240cddf844bfea5a334b7cb</td>\n      <td>1323301755</td>\n      <td>NaN</td>\n      <td>False</td>\n      <td>1.0</td>\n      <td>1.0</td>\n      <td>2.0</td>\n      <td>0.000000</td>\n      <td>5.0</td>\n      <td>0.0</td>\n      <td>...</td>\n      <td>0.0</td>\n      <td>0.5</td>\n      <td>0.000000</td>\n      <td>1.0</td>\n      <td>0</td>\n      <td>4</td>\n      <td>0</td>\n      <td>NaN</td>\n      <td>NaN</td>\n      <td>NaN</td>\n    </tr>\n  </tbody>\n</table>\n<p>5 rows × 23 columns</p>\n</div>",
            "text/plain": "                                    commit_hash  author_date_unix_timestamp  \\\n17571  637d7f4ffa0f2396c2fb61a5e51b9b980f47a2c2                  1323292816   \n17570  c8142d2dc17fc1d3777689d67d32d010f5d8dfa7                  1323292845   \n17569  af90ea5adf06c935ce1d5db4ce996054c94aeed7                  1323294546   \n17568  82f3f98077bde9ac7c4ff285c593a2f351da5bf2                  1323295924   \n17567  a454a7bce095b18da240cddf844bfea5a334b7cb                  1323301755   \n\n      fixes    fix   ns   nd    nf  entrophy      la   ld  ...  nuc   exp  \\\n17571   NaN  False  2.0  5.0  23.0  3.630787  3754.0  0.0  ...  0.0  11.0   \n17570   NaN  False  2.0  2.0   2.0  0.811278     4.0  0.0  ...  0.0  23.5   \n17569   NaN   True  1.0  1.0   1.0  0.000000     1.0  1.0  ...  1.0  25.0   \n17568   NaN  False  1.0  1.0   1.0  0.000000     2.0  3.0  ...  1.0  26.0   \n17567   NaN  False  1.0  1.0   2.0  0.000000     5.0  0.0  ...  0.0   0.5   \n\n            rexp  sexp  contains_bug  seq  day  commit_hash_fix  day_fix  \\\n17571   0.000000  21.0             0    0    0              NaN      NaN   \n17570   0.000000  22.0             0    1    0              NaN      NaN   \n17569  51.793651   2.0             0    2    0              NaN      NaN   \n17568  28.799228   3.0             0    3    0              NaN      NaN   \n17567   0.000000   1.0             0    4    0              NaN      NaN   \n\n       seq_fix  \n17571      NaN  \n17570      NaN  \n17569      NaN  \n17568      NaN  \n17567      NaN  \n\n[5 rows x 23 columns]"
          },
          "execution_count": 47,
          "metadata": {},
          "output_type": "execute_result"
        }
      ],
      "source": [
        "label_col = 'contains_bug'\n",
        "features_cols = ['fix', 'ns', 'nd', 'nf', 'entrophy', 'la', 'ld', 'lt', 'ndev', 'age', 'nuc', 'exp', 'rexp', 'sexp']\n",
        "preprocess_cols = ['commit_hash', 'author_date_unix_timestamp', 'fixes'] + features_cols + [label_col]\n",
        "seconds_by_day = 24 * 60 * 60\n",
        "df_preprocess = df[preprocess_cols].copy()\n",
        "# filter rows with missing data \n",
        "df_preprocess = df_preprocess.dropna(subset=['fix'])\n",
        "# timeline order\n",
        "df_preprocess = df_preprocess[::-1]\n",
        "# add sequencial\n",
        "df_preprocess['seq'] = range(len(df_preprocess))\n",
        "# contains_bug\n",
        "df_preprocess[label_col] = df_preprocess[label_col].astype('int')\n",
        "# day\n",
        "first_timestamp = df_preprocess['author_date_unix_timestamp'].min()\n",
        "df_preprocess['day'] = df_preprocess['author_date_unix_timestamp'] - first_timestamp\n",
        "df_preprocess['day'] = df_preprocess['day'] / seconds_by_day\n",
        "df_preprocess['day'] = df_preprocess['day'].astype('int')\n",
        "# fixes\n",
        "df_preprocess['commit_hash_fix'] = df_preprocess['fixes'].dropna().apply(lambda x: re.findall('\\\\b\\\\w+\\\\b', x)[0])\n",
        "df_fix = df_preprocess[['commit_hash', 'day', 'seq']].set_index('commit_hash')\n",
        "df_preprocess = df_preprocess.join(df_fix, on='commit_hash_fix', how='left', rsuffix='_fix')\n",
        "df_preprocess.head()\n",
        "\n"
      ]
    },
    {
      "cell_type": "code",
      "execution_count": 48,
      "metadata": {},
      "outputs": [],
      "source": [
        "prequential_cols = ['day', 'day_fix', 'seq', 'seq_fix'] + features_cols + [label_col]\n",
        "# TODO: exclude last commits which aren't labeled\n",
        "df_prequential = df_preprocess[prequential_cols].copy()"
      ]
    },
    {
      "cell_type": "code",
      "execution_count": 49,
      "metadata": {},
      "outputs": [],
      "source": [
        "def create_pipeline():\n",
        "    scaler = StandardScaler()\n",
        "    criterion = nn.BCELoss()\n",
        "    classifier = Classifier(input_size=len(features_cols), hidden_size=len(features_cols) // 2, drop_prob=0.2)\n",
        "    optimizer = optim.Adam(params=classifier.parameters(), lr=0.003)\n",
        "    return Pipeline(steps=[scaler], classifier=classifier, optimizer=optimizer, criterion=criterion,\n",
        "                    max_epochs=50, batch_size=128, fading_factor=0.9999)"
      ]
    },
    {
      "cell_type": "code",
      "execution_count": 50,
      "metadata": {},
      "outputs": [],
      "source": [
        "  def evaluate(label, targets, predictions):\n",
        "    gmean, recalls = metrics.gmean_recalls(targets, predictions)\n",
        "    print('{} g-mean: {}, recalls: {}'.format(label, gmean, recalls))\n",
        "  \n",
        "  def evaluate_train_test(seq, targets_train, predictions_train, targets_test, predictions_test):\n",
        "    print('Sequential: {}'.format(seq))\n",
        "    evaluate('Train', targets_train, predictions_train)\n",
        "    evaluate('Test', targets_test, predictions_test)"
      ]
    },
    {
      "cell_type": "code",
      "execution_count": 51,
      "metadata": {},
      "outputs": [
        {
          "name": "stderr",
          "output_type": "stream",
          "text": "/workspace/jitsdp/pipeline.py:114: RuntimeWarning: divide by zero encountered in true_divide\n  class_weights = total / [normal, bug]\n/home/pytorch/.conda/envs/pytorch/lib/python3.7/site-packages/scipy/stats/stats.py:338: RuntimeWarning: divide by zero encountered in log\n  log_a = np.log(a)\nSequential: 500\nTrain g-mean: 0.0, recalls: [0. 1.]\nTest g-mean: 0.0, recalls: [0. 1.]\n/home/pytorch/.conda/envs/pytorch/lib/python3.7/site-packages/scipy/stats/stats.py:338: RuntimeWarning: divide by zero encountered in log\n  log_a = np.log(a)\n/workspace/jitsdp/pipeline.py:114: RuntimeWarning: divide by zero encountered in true_divide\n  class_weights = total / [normal, bug]\n/home/pytorch/.conda/envs/pytorch/lib/python3.7/site-packages/scipy/stats/stats.py:338: RuntimeWarning: divide by zero encountered in log\n  log_a = np.log(a)\nSequential: 1000\nTrain g-mean: 0.0, recalls: [0. 1.]\nTest g-mean: 0.0, recalls: [0. 1.]\n/home/pytorch/.conda/envs/pytorch/lib/python3.7/site-packages/scipy/stats/stats.py:338: RuntimeWarning: divide by zero encountered in log\n  log_a = np.log(a)\n/home/pytorch/.conda/envs/pytorch/lib/python3.7/site-packages/scipy/stats/stats.py:338: RuntimeWarning: divide by zero encountered in log\n  log_a = np.log(a)\nSequential: 1500\nTrain g-mean: 0.8762979246191679, recalls: [0.96111111 0.79896907]\nTest g-mean: 0.7214847223291976, recalls: [0.54178674 0.96078431]\nSequential: 2000\nTrain g-mean: 0.8419648258735039, recalls: [0.91223404 0.77710843]\nTest g-mean: 0.736036012609235, recalls: [0.55434783 0.97727273]\nSequential: 2500\nTrain g-mean: 0.8058581975003021, recalls: [0.87704918 0.74044586]\nTest g-mean: 0.6780911311418153, recalls: [0.48746518 0.94326241]\nSequential: 3000\nTrain g-mean: 0.7951638808500314, recalls: [0.84641068 0.74701987]\nTest g-mean: 0.6940927213869545, recalls: [0.49411765 0.975     ]\nSequential: 3500\nTrain g-mean: 0.7966033833126018, recalls: [0.76955603 0.82460137]\nTest g-mean: 0.6946653870749534, recalls: [0.52  0.928]\nSequential: 4000\nTrain g-mean: 0.8113578537450651, recalls: [0.78847885 0.83490073]\nTest g-mean: 0.7079686491305237, recalls: [0.50837989 0.98591549]\nSequential: 4500\nTrain g-mean: 0.8098279299533776, recalls: [0.78595041 0.83443086]\nTest g-mean: 0.6733730258591575, recalls: [0.47578348 0.95302013]\nSequential: 5000\nTrain g-mean: 0.8036316572758891, recalls: [0.80883392 0.79846285]\nTest g-mean: 0.6674766066513997, recalls: [0.44875346 0.99280576]\nSequential: 5500\nTrain g-mean: 0.7892002657328794, recalls: [0.71756927 0.86798179]\nTest g-mean: 0.6929567187851624, recalls: [0.48429319 0.99152542]\nSequential: 6000\nTrain g-mean: 0.784428318158684, recalls: [0.71068124 0.86582809]\nTest g-mean: 0.6270293436628774, recalls: [0.44200627 0.88950276]\nSequential: 6500\nTrain g-mean: 0.7978156989844077, recalls: [0.76020806 0.83728379]\nTest g-mean: 0.6750453869998667, recalls: [0.46666667 0.97647059]\nSequential: 7000\nTrain g-mean: 0.800354097667001, recalls: [0.78158352 0.81957547]\nTest g-mean: 0.6879057244377897, recalls: [0.5        0.94642857]\nSequential: 7500\nTrain g-mean: 0.8046107304346394, recalls: [0.77233497 0.83823529]\nTest g-mean: 0.7142815517694189, recalls: [0.51515152 0.99038462]\nSequential: 8000\nTrain g-mean: 0.8041378567382332, recalls: [0.76364832 0.84677419]\nTest g-mean: 0.6767830204991765, recalls: [0.46418338 0.98675497]\nSequential: 8500\nTrain g-mean: 0.7991152049101881, recalls: [0.77020785 0.82910751]\nTest g-mean: 0.6960759244330889, recalls: [0.51566952 0.93959732]\nSequential: 9000\nTrain g-mean: 0.7966792614998499, recalls: [0.74308575 0.85413809]\nTest g-mean: 0.7175830078355548, recalls: [0.51492537 1.        ]\nSequential: 9500\nTrain g-mean: 0.7918304774524471, recalls: [0.72074293 0.86992945]\nTest g-mean: 0.6804138174397677, recalls: [0.5        0.92592593]\nSequential: 10000\nTrain g-mean: 0.7962374108267519, recalls: [0.78258116 0.81013197]\nTest g-mean: 0.6753259865961313, recalls: [0.47849462 0.953125  ]\nSequential: 10500\nTrain g-mean: 0.7762327256239681, recalls: [0.67226378 0.89628099]\nTest g-mean: 0.6260232165470677, recalls: [0.40712468 0.96261682]\nSequential: 11000\nTrain g-mean: 0.7944300261850339, recalls: [0.75644128 0.83432658]\nTest g-mean: 0.6200198409523671, recalls: [0.39540816 0.97222222]\nSequential: 11500\nTrain g-mean: 0.7856098030903516, recalls: [0.69819466 0.88396947]\nTest g-mean: 0.6887560365423724, recalls: [0.48697917 0.97413793]\nSequential: 12000\nTrain g-mean: 0.7901206087438517, recalls: [0.76248799 0.81875463]\nTest g-mean: 0.7122735725255143, recalls: [0.56955381 0.8907563 ]\nSequential: 12500\nTrain g-mean: 0.7907568004890497, recalls: [0.75164319 0.83190578]\nTest g-mean: 0.660039415496393, recalls: [0.47330097 0.92045455]\nSequential: 13000\nTrain g-mean: 0.7879153452001745, recalls: [0.73835006 0.84080794]\nTest g-mean: 0.7152171645716159, recalls: [0.51715686 0.98913043]\nSequential: 13500\nTrain g-mean: 0.7890079207616629, recalls: [0.72632903 0.85709571]\nTest g-mean: 0.704333187952554, recalls: [0.57175926 0.86764706]\nSequential: 14000\nTrain g-mean: 0.7919376990649097, recalls: [0.74982396 0.83641675]\nTest g-mean: 0.6959447987046301, recalls: [0.58486239 0.828125  ]\nSequential: 14500\nTrain g-mean: 0.788786301810408, recalls: [0.73280449 0.84904479]\nTest g-mean: 0.6976623370749517, recalls: [0.51470588 0.94565217]\nSequential: 15000\nTrain g-mean: 0.7890404467037809, recalls: [0.73122379 0.85142857]\nTest g-mean: 0.6934972360595816, recalls: [0.56682028 0.84848485]\nSequential: 15500\nTrain g-mean: 0.7878630291661334, recalls: [0.71751057 0.8651136 ]\nTest g-mean: 0.7280382695616813, recalls: [0.5754717  0.92105263]\nSequential: 16000\nTrain g-mean: 0.7911514518541082, recalls: [0.73367456 0.85313114]\nTest g-mean: 0.7512558699003897, recalls: [0.6372093  0.88571429]\nSequential: 16500\nTrain g-mean: 0.787994769286911, recalls: [0.70961308 0.87503426]\nTest g-mean: 0.7533076409936615, recalls: [0.62676056 0.90540541]\n/home/pytorch/.conda/envs/pytorch/lib/python3.7/site-packages/torch/nn/modules/loss.py:498: UserWarning: Using a target size (torch.Size([1])) that is different to the input size (torch.Size([])) is deprecated. Please ensure they have the same size.\n  return F.binary_cross_entropy(input, target, weight=self.weight, reduction=self.reduction)\nSequential: 17000\nTrain g-mean: 0.7895888357284941, recalls: [0.7103821  0.87762703]\nTest g-mean: 0.7370866321516691, recalls: [0.67912088 0.8       ]\nSequential: 17500\nTrain g-mean: 0.798996594484931, recalls: [0.76659642 0.83276616]\nTest g-mean: 0.8029795261417606, recalls: [0.80597015 0.8       ]\nFull test g-mean: 0.6863752064397366, recalls: [0.4951434 0.9514636]\n"
        }
      ],
      "source": [
        "# split dataset in chunks for testing and iterate over them (chunk from current to current + interval or end)\n",
        "# the previous chunks are used for training (chunks from start to current)\n",
        "verification_latency = 90 # days\n",
        "interval = 500 # commits\n",
        "end = len(df_prequential) # last commit\n",
        "n_chunks = math.ceil(end / interval)\n",
        "end = n_chunks * interval # last chunk end\n",
        "start = end - (n_chunks - 1) * interval # second chunk start\n",
        "#start = end - interval # last chunk start\n",
        "\n",
        "pipeline = create_pipeline()\n",
        "pipeline.save()\n",
        "predictions = []\n",
        "for current in range(start, end, interval):\n",
        "#for current in range(start, start+1, interval):\n",
        "    df_train = df_prequential[:current].copy()\n",
        "    df_test = df_prequential[current:min(current + interval, end)].copy()\n",
        "    # check if fix has been done (bug) or verification latency has passed (normal), otherwise exclude commit\n",
        "    train_day = df_train['day'].max()\n",
        "    train_seq = df_train['seq'].max()\n",
        "    df_train[label_col] = df_train.apply(lambda row: 1 if row.seq_fix <= train_seq else (0 if row.day <= train_day - verification_latency else None), axis='columns')\n",
        "    df_train = df_train.dropna(subset=[label_col])\n",
        "    df_train[label_col] = df_train[label_col].astype('int')\n",
        "    # convert to numpy array\n",
        "    X_train = df_train[features_cols].values\n",
        "    y_train = df_train[label_col].values\n",
        "    X_test = df_test[features_cols].values\n",
        "    y_test = df_test[label_col].values\n",
        "    # train and evaluate\n",
        "    pipeline = create_pipeline()\n",
        "    pipeline.load()\n",
        "    pipeline.train(X_train, y_train)\n",
        "    pipeline.save()\n",
        "    predictions_test = pipeline.predict(X_test)    \n",
        "    evaluate_train_test(current, y_train, pipeline.predict(X_train), y_test, predictions_test)\n",
        "    predictions.append(predictions_test)\n",
        "\n",
        "predictions = np.concatenate(predictions)\n",
        "targets = df_prequential[label_col][start:].values\n",
        "evaluate('Full test', targets, predictions)"
      ]
    },
    {
      "cell_type": "code",
      "execution_count": 0,
      "metadata": {
        "colab": {},
        "colab_type": "code",
        "id": "L_t4Gh43GYWl"
      },
      "outputs": [],
      "source": []
    }
  ]
}