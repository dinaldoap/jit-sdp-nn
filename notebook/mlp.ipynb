{
  "nbformat": 4,
  "nbformat_minor": 0,
  "metadata": {
    "colab": {
      "name": "JIT-SDP.ipynb",
      "provenance": [],
      "collapsed_sections": [],
      "include_colab_link": true
    },
    "kernelspec": {
      "name": "python3",
      "display_name": "Python 3"
    },
    "accelerator": "GPU"
  },
  "cells": [
    {
      "cell_type": "markdown",
      "metadata": {
        "colab_type": "text",
        "id": "view-in-github"
      },
      "source": [
        "<a href=\"https://colab.research.google.com/github/dinaldoap/jit-sdp-nn/blob/master/notebook/mlp.ipynb\" target=\"_parent\"><img src=\"https://colab.research.google.com/assets/colab-badge.svg\" alt=\"Open In Colab\"/></a>"
      ]
    },
    {
      "cell_type": "code",
      "execution_count": 54,
      "metadata": {},
      "outputs": [
        {
          "name": "stdout",
          "output_type": "stream",
          "text": "The autoreload extension is already loaded. To reload it, use:\n  %reload_ext autoreload\n"
        }
      ],
      "source": [
        "%load_ext autoreload\n",
        "%autoreload 2"
      ]
    },
    {
      "cell_type": "code",
      "execution_count": 55,
      "metadata": {},
      "outputs": [],
      "source": [
        "import numpy as np\n",
        "import pandas as pd\n",
        "import torch\n",
        "import torch.nn as nn\n",
        "import torch.nn.functional as F\n",
        "import torch.optim as optim\n",
        "import torch.utils.data as data\n",
        "import random\n",
        "from scipy.stats import mstats\n",
        "\n",
        "from jitsdp import metrics"
      ]
    },
    {
      "cell_type": "code",
      "execution_count": 56,
      "metadata": {},
      "outputs": [
        {
          "data": {
            "text/html": "<div>\n<style scoped>\n    .dataframe tbody tr th:only-of-type {\n        vertical-align: middle;\n    }\n\n    .dataframe tbody tr th {\n        vertical-align: top;\n    }\n\n    .dataframe thead th {\n        text-align: right;\n    }\n</style>\n<table border=\"1\" class=\"dataframe\">\n  <thead>\n    <tr style=\"text-align: right;\">\n      <th></th>\n      <th>fix</th>\n      <th>ns</th>\n      <th>nd</th>\n      <th>nf</th>\n      <th>entropy</th>\n      <th>la</th>\n      <th>ld</th>\n      <th>lt</th>\n      <th>ndev</th>\n      <th>age</th>\n      <th>nuc</th>\n      <th>exp</th>\n      <th>rexp</th>\n      <th>sexp</th>\n      <th>author_date_unix_timestamp</th>\n      <th>classification</th>\n      <th>contains_bug</th>\n    </tr>\n  </thead>\n  <tbody>\n    <tr>\n      <td>0</td>\n      <td>False</td>\n      <td>7.0</td>\n      <td>7.0</td>\n      <td>7.0</td>\n      <td>2.641604</td>\n      <td>9.0</td>\n      <td>9.0</td>\n      <td>426.428571</td>\n      <td>100.0</td>\n      <td>0.000093</td>\n      <td>1.0</td>\n      <td>5171.0</td>\n      <td>30.227271</td>\n      <td>1472.714286</td>\n      <td>1555326371</td>\n      <td>None</td>\n      <td>False</td>\n    </tr>\n    <tr>\n      <td>1</td>\n      <td>False</td>\n      <td>7.0</td>\n      <td>7.0</td>\n      <td>7.0</td>\n      <td>2.750000</td>\n      <td>8.0</td>\n      <td>8.0</td>\n      <td>426.428571</td>\n      <td>100.0</td>\n      <td>6.314775</td>\n      <td>2.0</td>\n      <td>5170.0</td>\n      <td>29.227271</td>\n      <td>1471.714286</td>\n      <td>1555326363</td>\n      <td>None</td>\n      <td>False</td>\n    </tr>\n    <tr>\n      <td>2</td>\n      <td>False</td>\n      <td>1.0</td>\n      <td>1.0</td>\n      <td>2.0</td>\n      <td>0.906580</td>\n      <td>15.0</td>\n      <td>44.0</td>\n      <td>96.000000</td>\n      <td>4.0</td>\n      <td>0.034722</td>\n      <td>2.0</td>\n      <td>629.0</td>\n      <td>14.828373</td>\n      <td>414.000000</td>\n      <td>1554971763</td>\n      <td>None</td>\n      <td>False</td>\n    </tr>\n    <tr>\n      <td>3</td>\n      <td>False</td>\n      <td>1.0</td>\n      <td>1.0</td>\n      <td>1.0</td>\n      <td>0.000000</td>\n      <td>0.0</td>\n      <td>0.0</td>\n      <td>40.000000</td>\n      <td>1.0</td>\n      <td>0.000012</td>\n      <td>1.0</td>\n      <td>4.0</td>\n      <td>3.058824</td>\n      <td>3.000000</td>\n      <td>1554969774</td>\n      <td>None</td>\n      <td>False</td>\n    </tr>\n    <tr>\n      <td>4</td>\n      <td>False</td>\n      <td>1.0</td>\n      <td>2.0</td>\n      <td>4.0</td>\n      <td>1.662506</td>\n      <td>14.0</td>\n      <td>10.0</td>\n      <td>67.000000</td>\n      <td>6.0</td>\n      <td>21.280683</td>\n      <td>4.0</td>\n      <td>3.0</td>\n      <td>2.058824</td>\n      <td>2.000000</td>\n      <td>1554967752</td>\n      <td>Feature Addition</td>\n      <td>False</td>\n    </tr>\n  </tbody>\n</table>\n</div>",
            "text/plain": "     fix   ns   nd   nf   entropy    la    ld          lt   ndev        age  \\\n0  False  7.0  7.0  7.0  2.641604   9.0   9.0  426.428571  100.0   0.000093   \n1  False  7.0  7.0  7.0  2.750000   8.0   8.0  426.428571  100.0   6.314775   \n2  False  1.0  1.0  2.0  0.906580  15.0  44.0   96.000000    4.0   0.034722   \n3  False  1.0  1.0  1.0  0.000000   0.0   0.0   40.000000    1.0   0.000012   \n4  False  1.0  2.0  4.0  1.662506  14.0  10.0   67.000000    6.0  21.280683   \n\n   nuc     exp       rexp         sexp  author_date_unix_timestamp  \\\n0  1.0  5171.0  30.227271  1472.714286                  1555326371   \n1  2.0  5170.0  29.227271  1471.714286                  1555326363   \n2  2.0   629.0  14.828373   414.000000                  1554971763   \n3  1.0     4.0   3.058824     3.000000                  1554969774   \n4  4.0     3.0   2.058824     2.000000                  1554967752   \n\n     classification  contains_bug  \n0              None         False  \n1              None         False  \n2              None         False  \n3              None         False  \n4  Feature Addition         False  "
          },
          "execution_count": 56,
          "metadata": {},
          "output_type": "execute_result"
        }
      ],
      "source": [
        "df = pd.read_csv('https://raw.githubusercontent.com/dinaldoap/jit-sdp-data/master/jenkins.csv')\n",
        "df.head()"
      ]
    },
    {
      "cell_type": "code",
      "execution_count": 57,
      "metadata": {},
      "outputs": [
        {
          "name": "stderr",
          "output_type": "stream",
          "text": "/home/pytorch/.conda/envs/pytorch/lib/python3.7/site-packages/ipykernel_launcher.py:5: SettingWithCopyWarning: \nA value is trying to be set on a copy of a slice from a DataFrame.\nTry using .loc[row_indexer,col_indexer] = value instead\n\nSee the caveats in the documentation: http://pandas.pydata.org/pandas-docs/stable/user_guide/indexing.html#returning-a-view-versus-a-copy\n  \"\"\"\n"
        }
      ],
      "source": [
        "#df = df.sample(frac=1)\n",
        "label_col = 'contains_bug'\n",
        "features_cols = ['fix', 'ns', 'nd', 'nf', 'entropy', 'la', 'ld', 'lt', 'ndev', 'age', 'nuc', 'exp', 'rexp', 'sexp', 'classification']\n",
        "x = df[features_cols]\n",
        "x['fix'] = x['fix'].astype('int')\n",
        "df_classification = pd.get_dummies(x, columns=['classification'])\n",
        "x = pd.concat([x, df_classification], axis='columns')\n",
        "x = x.drop(['classification'], axis='columns')\n",
        "x = x.values\n",
        "y = df[label_col]\n",
        "y = y.astype('category')\n",
        "y = y.cat.codes\n",
        "y = y.values"
      ]
    },
    {
      "cell_type": "code",
      "execution_count": 58,
      "metadata": {},
      "outputs": [
        {
          "name": "stdout",
          "output_type": "stream",
          "text": "[[0.00000000e+00 7.00000000e+00 7.00000000e+00 7.00000000e+00\n  2.64160417e+00 9.00000000e+00 9.00000000e+00 4.26428571e+02\n  1.00000000e+02 9.25925926e-05 1.00000000e+00 5.17100000e+03\n  3.02272705e+01 1.47271429e+03 0.00000000e+00 7.00000000e+00\n  7.00000000e+00 7.00000000e+00 2.64160417e+00 9.00000000e+00\n  9.00000000e+00 4.26428571e+02 1.00000000e+02 9.25925926e-05\n  1.00000000e+00 5.17100000e+03 3.02272705e+01 1.47271429e+03\n  0.00000000e+00 0.00000000e+00 0.00000000e+00 1.00000000e+00\n  0.00000000e+00 0.00000000e+00]]\n[0]\n"
        }
      ],
      "source": [
        "print(x[:1])\n",
        "print(y[:1])"
      ]
    },
    {
      "cell_type": "code",
      "execution_count": 59,
      "metadata": {},
      "outputs": [],
      "source": [
        "val_index = int( len(x) * 0.8 )\n",
        "test_index = int( len(x) * 0.9 )\n",
        "x_train, y_train = x[:val_index], y[:val_index]\n",
        "x_val, y_val = x[val_index:test_index], y[val_index:test_index]\n",
        "x_test, y_test = x[test_index:], y[test_index:]"
      ]
    },
    {
      "cell_type": "code",
      "execution_count": 60,
      "metadata": {},
      "outputs": [
        {
          "name": "stdout",
          "output_type": "stream",
          "text": "[[0.00000000e+00 7.00000000e+00 7.00000000e+00 7.00000000e+00\n  2.64160417e+00 9.00000000e+00 9.00000000e+00 4.26428571e+02\n  1.00000000e+02 9.25925926e-05 1.00000000e+00 5.17100000e+03\n  3.02272705e+01 1.47271429e+03 0.00000000e+00 7.00000000e+00\n  7.00000000e+00 7.00000000e+00 2.64160417e+00 9.00000000e+00\n  9.00000000e+00 4.26428571e+02 1.00000000e+02 9.25925926e-05\n  1.00000000e+00 5.17100000e+03 3.02272705e+01 1.47271429e+03\n  0.00000000e+00 0.00000000e+00 0.00000000e+00 1.00000000e+00\n  0.00000000e+00 0.00000000e+00]]\n[[0.00000000e+00 8.00000000e+00 8.00000000e+00 8.00000000e+00\n  2.73215889e+00 1.10000000e+01 1.10000000e+01 1.58625000e+02\n  5.00000000e+00 1.96759259e-04 1.00000000e+00 4.17300000e+03\n  2.45570735e+02 8.19125000e+02 0.00000000e+00 8.00000000e+00\n  8.00000000e+00 8.00000000e+00 2.73215889e+00 1.10000000e+01\n  1.10000000e+01 1.58625000e+02 5.00000000e+00 1.96759259e-04\n  1.00000000e+00 4.17300000e+03 2.45570735e+02 8.19125000e+02\n  0.00000000e+00 0.00000000e+00 0.00000000e+00 1.00000000e+00\n  0.00000000e+00 0.00000000e+00]]\n[[0.00000000e+00 1.00000000e+00 1.00000000e+00 1.00000000e+00\n  0.00000000e+00 1.00000000e+00 1.00000000e+00 2.31000000e+02\n  2.00000000e+00 8.17129630e-03 1.00000000e+00 2.29000000e+03\n  2.35138387e+02 1.96900000e+03 0.00000000e+00 1.00000000e+00\n  1.00000000e+00 1.00000000e+00 0.00000000e+00 1.00000000e+00\n  1.00000000e+00 2.31000000e+02 2.00000000e+00 8.17129630e-03\n  1.00000000e+00 2.29000000e+03 2.35138387e+02 1.96900000e+03\n  0.00000000e+00 0.00000000e+00 0.00000000e+00 1.00000000e+00\n  0.00000000e+00 0.00000000e+00]]\n"
        }
      ],
      "source": [
        "print(x_train[:1])\n",
        "print(x_val[:1])\n",
        "print(x_test[:1])"
      ]
    },
    {
      "cell_type": "code",
      "execution_count": 61,
      "metadata": {},
      "outputs": [],
      "source": [
        "mean_train = x_train.mean(axis=0)\n",
        "std_train = x_train.std(axis=0)"
      ]
    },
    {
      "cell_type": "code",
      "execution_count": 62,
      "metadata": {},
      "outputs": [
        {
          "name": "stdout",
          "output_type": "stream",
          "text": "[2.90871477e-01 1.61432635e+00 2.60858547e+00 4.18908715e+00\n 7.43390526e-01 5.00800621e+01 2.96331523e+01 8.11968929e+02\n 2.32963538e+01 9.76994760e+01 2.02296354e+00 1.73095790e+03\n 6.53773667e+01 8.28714959e+02 2.90871477e-01 1.61432635e+00\n 2.60858547e+00 4.18908715e+00 7.43390526e-01 5.00800621e+01\n 2.96331523e+01 8.11968929e+02 2.32963538e+01 9.76994760e+01\n 2.02296354e+00 1.73095790e+03 6.53773667e+01 8.28714959e+02\n 2.90871477e-01 1.47142488e-01 3.46521852e-02 4.71373157e-01\n 1.51538660e-02 4.08068270e-02]\n[4.54164354e-01 1.62736223e+00 6.93052365e+00 2.56616350e+01\n 1.13236779e+00 5.86250473e+02 6.19852440e+02 1.15236538e+03\n 2.84287684e+01 2.37802272e+02 7.67653474e+00 2.11471132e+03\n 6.96820390e+01 1.34456679e+03 4.54164354e-01 1.62736223e+00\n 6.93052365e+00 2.56616350e+01 1.13236779e+00 5.86250473e+02\n 6.19852440e+02 1.15236538e+03 2.84287684e+01 2.37802272e+02\n 7.67653474e+00 2.11471132e+03 6.96820390e+01 1.34456679e+03\n 4.54164354e-01 3.54247902e-01 1.82897270e-01 4.99179831e-01\n 1.22164751e-01 1.97842437e-01]\n"
        }
      ],
      "source": [
        "print(mean_train)\n",
        "print(std_train)"
      ]
    },
    {
      "cell_type": "code",
      "execution_count": 63,
      "metadata": {},
      "outputs": [],
      "source": [
        "x_train = (x_train - mean_train) / std_train\n",
        "x_val = (x_val - mean_train) / std_train\n",
        "x_test = (x_test - mean_train) / std_train"
      ]
    },
    {
      "cell_type": "code",
      "execution_count": 64,
      "metadata": {},
      "outputs": [
        {
          "name": "stdout",
          "output_type": "stream",
          "text": "[[-0.64045422  3.30944983  0.63363387  0.10953756  1.67632253 -0.07007254\n  -0.0332872  -0.33456434  2.69809951 -0.41084293 -0.1332585   1.62671948\n  -0.50443553  0.47896418 -0.64045422  3.30944983  0.63363387  0.10953756\n   1.67632253 -0.07007254 -0.0332872  -0.33456434  2.69809951 -0.41084293\n  -0.1332585   1.62671948 -0.50443553  0.47896418 -0.64045422 -0.41536587\n  -0.18946256  1.05899079 -0.1240445  -0.20625922]]\n[[-0.64045422  3.92394118  0.77792311  0.14850624  1.75629188 -0.06666103\n  -0.03006063 -0.566959   -0.64358587 -0.4108425  -0.1332585   1.15478745\n   2.58593708 -0.00713238 -0.64045422  3.92394118  0.77792311  0.14850624\n   1.75629188 -0.06666103 -0.03006063 -0.566959   -0.64358587 -0.4108425\n  -0.1332585   1.15478745  2.58593708 -0.00713238 -0.64045422 -0.41536587\n  -0.18946256  1.05899079 -0.1240445  -0.20625922]]\n[[-0.64045422 -0.37749822 -0.23210158 -0.12427451 -0.65649211 -0.08371859\n  -0.0461935  -0.5041534  -0.74911278 -0.41080896 -0.1332585   0.26435859\n   2.43622349  0.84806872 -0.64045422 -0.37749822 -0.23210158 -0.12427451\n  -0.65649211 -0.08371859 -0.0461935  -0.5041534  -0.74911278 -0.41080896\n  -0.1332585   0.26435859  2.43622349  0.84806872 -0.64045422 -0.41536587\n  -0.18946256  1.05899079 -0.1240445  -0.20625922]]\n"
        }
      ],
      "source": [
        "print(x_train[:1])\n",
        "print(x_val[:1])\n",
        "print(x_test[:1])"
      ]
    },
    {
      "cell_type": "code",
      "execution_count": 65,
      "metadata": {},
      "outputs": [],
      "source": [
        "def calc_fading_weights(size, fading_factor):  \n",
        "  fading_weights = reversed(range(size))\n",
        "  return [fading_factor**x for x in fading_weights]\n",
        "  \n",
        "def create_sampler(y):\n",
        "  n_samples = len(y)\n",
        "  fading_count = calc_fading_weights(n_samples, 0.9999) \n",
        "  total = np.sum(fading_count)\n",
        "  bug = np.sum(fading_count * y)\n",
        "  normal = total - bug\n",
        "  class_weights = total / [normal, bug]\n",
        "  class_weights = class_weights[y]\n",
        "\n",
        "  instance_weights = calc_fading_weights(n_samples, 0.9999) \n",
        "  weights = instance_weights * class_weights\n",
        "  return data.WeightedRandomSampler(weights=weights, num_samples=n_samples, replacement=True)"
      ]
    },
    {
      "cell_type": "code",
      "execution_count": 66,
      "metadata": {},
      "outputs": [],
      "source": [
        "sampler = create_sampler(y_train)"
      ]
    },
    {
      "cell_type": "code",
      "execution_count": 67,
      "metadata": {},
      "outputs": [],
      "source": [
        "x_train, y_train = torch.from_numpy(x_train), torch.from_numpy(y_train)\n",
        "x_val, y_val = torch.from_numpy(x_val), torch.from_numpy(y_val)\n",
        "x_test, y_test = torch.from_numpy(x_test), torch.from_numpy(y_test)"
      ]
    },
    {
      "cell_type": "code",
      "execution_count": 68,
      "metadata": {},
      "outputs": [],
      "source": [
        "train_dataset = data.TensorDataset(x_train, y_train)\n",
        "val_dataset = data.TensorDataset(x_val, y_val)\n",
        "test_dataset = data.TensorDataset(x_test, y_test)\n",
        "\n",
        "train_dataloader = data.DataLoader(train_dataset, batch_size=512, sampler=sampler)\n",
        "val_dataloader = data.DataLoader(val_dataset, batch_size=32)\n",
        "test_dataloader = data.DataLoader(test_dataset, batch_size=32)"
      ]
    },
    {
      "cell_type": "code",
      "execution_count": 69,
      "metadata": {},
      "outputs": [
        {
          "name": "stdout",
          "output_type": "stream",
          "text": "tensor([[-0.6405, -0.3775, -0.2321, -0.1243, -0.6565, -0.0752, -0.0333, -0.6031,\n         -0.7491, -0.3260, -0.1333,  1.8759,  1.7267, -0.5859, -0.6405, -0.3775,\n         -0.2321, -0.1243, -0.6565, -0.0752, -0.0333, -0.6031, -0.7491, -0.3260,\n         -0.1333,  1.8759,  1.7267, -0.5859, -0.6405, -0.4154, -0.1895,  1.0590,\n         -0.1240, -0.2063]], dtype=torch.float64)\ntensor([0], dtype=torch.int8)\ntensor([[-0.6405,  3.9239,  0.7779,  0.1485,  1.7563, -0.0667, -0.0301, -0.5670,\n         -0.6436, -0.4108, -0.1333,  1.1548,  2.5859, -0.0071, -0.6405,  3.9239,\n          0.7779,  0.1485,  1.7563, -0.0667, -0.0301, -0.5670, -0.6436, -0.4108,\n         -0.1333,  1.1548,  2.5859, -0.0071, -0.6405, -0.4154, -0.1895,  1.0590,\n         -0.1240, -0.2063]], dtype=torch.float64)\ntensor([0], dtype=torch.int8)\ntensor([[-0.6405, -0.3775, -0.2321, -0.1243, -0.6565, -0.0837, -0.0462, -0.5042,\n         -0.7491, -0.4108, -0.1333,  0.2644,  2.4362,  0.8481, -0.6405, -0.3775,\n         -0.2321, -0.1243, -0.6565, -0.0837, -0.0462, -0.5042, -0.7491, -0.4108,\n         -0.1333,  0.2644,  2.4362,  0.8481, -0.6405, -0.4154, -0.1895,  1.0590,\n         -0.1240, -0.2063]], dtype=torch.float64)\ntensor([1], dtype=torch.int8)\n"
        }
      ],
      "source": [
        "inputs, targets = next(iter(train_dataloader))\n",
        "print(inputs[:1])\n",
        "print(targets[:1])\n",
        "\n",
        "inputs, targets = next(iter(val_dataloader))\n",
        "print(inputs[:1])\n",
        "print(targets[:1])\n",
        "\n",
        "inputs, targets = next(iter(test_dataloader))\n",
        "print(inputs[:1])\n",
        "print(targets[:1])"
      ]
    },
    {
      "cell_type": "code",
      "execution_count": 70,
      "metadata": {},
      "outputs": [],
      "source": [
        "class Classifier(nn.Module):\n",
        "  def __init__(self, input_size, hidden_size, drop_prob, epoch=None, val_gmean=None):\n",
        "    super(Classifier, self).__init__()\n",
        "    self.input_size = input_size\n",
        "    self.hidden_size = hidden_size\n",
        "    self.drop_prob = drop_prob\n",
        "    self.epoch = epoch\n",
        "    self.val_gmean = val_gmean\n",
        "    self.fc1 = nn.Linear(input_size, hidden_size)\n",
        "    self.fcout = nn.Linear(hidden_size, 1)\n",
        "    self.dropout = nn.Dropout(drop_prob)\n",
        "  \n",
        "  def forward(self, x):\n",
        "    x = torch.relu(self.fc1(x))\n",
        "    x = self.dropout(x)\n",
        "    x = torch.sigmoid(self.fcout(x))\n",
        "    return x"
      ]
    },
    {
      "cell_type": "code",
      "execution_count": 71,
      "metadata": {},
      "outputs": [
        {
          "data": {
            "text/plain": "Classifier(\n  (fc1): Linear(in_features=34, out_features=34, bias=True)\n  (fcout): Linear(in_features=34, out_features=1, bias=True)\n  (dropout): Dropout(p=0.5, inplace=False)\n)"
          },
          "execution_count": 71,
          "metadata": {},
          "output_type": "execute_result"
        }
      ],
      "source": [
        "classifier = Classifier(input_size=x.shape[1], hidden_size=x.shape[1], drop_prob=0.5)\n",
        "classifier"
      ]
    },
    {
      "cell_type": "code",
      "execution_count": 72,
      "metadata": {},
      "outputs": [],
      "source": [
        "filename = 'classifier.cpt'\n",
        "def save_classifier(classifier):\n",
        "  checkpoint = {\n",
        "      'input_size': classifier.input_size,\n",
        "      'hidden_size': classifier.hidden_size,\n",
        "      'drop_prob': classifier.drop_prob,\n",
        "      'val_gmean': classifier.val_gmean,\n",
        "      'epoch': classifier.epoch,\n",
        "      'state_dict': classifier.state_dict()\n",
        "  }\n",
        "  with open(filename, 'wb') as f:\n",
        "    torch.save(checkpoint, f)\n",
        "\n",
        "def load_classifier():\n",
        "  with open(filename, 'rb') as f:\n",
        "    checkpoint = torch.load(f)\n",
        "  classifier = Classifier(checkpoint['input_size'], checkpoint['hidden_size'], checkpoint['drop_prob'], checkpoint['epoch'], checkpoint['val_gmean'])\n",
        "  classifier.load_state_dict(checkpoint['state_dict'])\n",
        "  return classifier"
      ]
    },
    {
      "cell_type": "code",
      "execution_count": 73,
      "metadata": {},
      "outputs": [],
      "source": [
        "save_classifier(classifier)\n",
        "classifier = load_classifier()"
      ]
    },
    {
      "cell_type": "code",
      "execution_count": 74,
      "metadata": {},
      "outputs": [
        {
          "data": {
            "text/plain": "tensor([[0.5418],\n        [0.6442],\n        [0.4848]], device='cuda:0', grad_fn=<SigmoidBackward>)"
          },
          "execution_count": 74,
          "metadata": {},
          "output_type": "execute_result"
        }
      ],
      "source": [
        "if torch.cuda.is_available():\n",
        "  classifier = classifier.cuda()\n",
        "  inputs = inputs.cuda()\n",
        "\n",
        "classifier(inputs[:3].float())"
      ]
    },
    {
      "cell_type": "code",
      "execution_count": 75,
      "metadata": {},
      "outputs": [],
      "source": [
        "criterion = nn.BCELoss()\n",
        "optimizer = optim.Adam(params=classifier.parameters(), lr=0.003)"
      ]
    },
    {
      "cell_type": "code",
      "execution_count": 0,
      "metadata": {
        "colab": {},
        "colab_type": "code",
        "id": "QXw0R-Tkucgw"
      },
      "outputs": [],
      "source": []
    },
    {
      "cell_type": "code",
      "execution_count": 76,
      "metadata": {},
      "outputs": [
        {
          "name": "stdout",
          "output_type": "stream",
          "text": "l g-mean: 0.6932721454904416\nEpoch: 9, Train loss: 0.5702634512775911, Val loss: 0.5403523249061484, Val g-mean: 0.7156527970239179\nEpoch: 10, Train loss: 0.5678014866599748, Val loss: 0.5187836673698927, Val g-mean: 0.6981493968711411\nEpoch: 11, Train loss: 0.5646923877484163, Val loss: 0.5289528197363803, Val g-mean: 0.7084792825512352\nEpoch: 12, Train loss: 0.5666465495178745, Val loss: 0.5288750333221335, Val g-mean: 0.7105553553418974\nEpoch: 13, Train loss: 0.562371708149841, Val loss: 0.5239278697653821, Val g-mean: 0.7041554399130099\nEpoch: 14, Train loss: 0.5599007129981625, Val loss: 0.5464373905407754, Val g-mean: 0.7204681402726621\nEpoch: 15, Train loss: 0.552603122749649, Val loss: 0.5035307917155718, Val g-mean: 0.7046139703796547\nEpoch: 16, Train loss: 0.5510407928614951, Val loss: 0.5210181392337146, Val g-mean: 0.7124635577868511\nEpoch: 17, Train loss: 0.5510495868272665, Val loss: 0.5056492694114384, Val g-mean: 0.7199081297908514\nEpoch: 18, Train loss: 0.5550204114614534, Val loss: 0.500773662799283, Val g-mean: 0.7209692516496582\nEpoch: 19, Train loss: 0.553199942688405, Val loss: 0.5238546078142367, Val g-mean: 0.7254496983335298\nEpoch: 20, Train loss: 0.5535137871843748, Val loss: 0.48867617861220713, Val g-mean: 0.721599425506592\nEpoch: 21, Train loss: 0.5460396712807767, Val loss: 0.5064021984213277, Val g-mean: 0.7211609231719106\nEpoch: 22, Train loss: 0.547176344629411, Val loss: 0.5102943095721697, Val g-mean: 0.7276287376078522\nEpoch: 23, Train loss: 0.5507659029394986, Val loss: 0.517289643224917, Val g-mean: 0.7319971707893584\nEpoch: 24, Train loss: 0.5430276041266966, Val loss: 0.4983336988248323, Val g-mean: 0.7160581092363457\nEpoch: 25, Train loss: 0.5467579363339764, Val loss: 0.4908413679191941, Val g-mean: 0.7240300328116963\nEpoch: 26, Train loss: 0.5391873113381068, Val loss: 0.4894500312052275, Val g-mean: 0.7220887880036271\nEpoch: 27, Train loss: 0.541838079670195, Val loss: 0.481147243396232, Val g-mean: 0.7271814190251024\nEpoch: 28, Train loss: 0.5412815848458002, Val loss: 0.4946666753997928, Val g-mean: 0.7234980757255207\nEpoch: 29, Train loss: 0.5411830678829712, Val loss: 0.5030812715229235, Val g-mean: 0.7277409147056335\nEpoch: 30, Train loss: 0.5436782746337202, Val loss: 0.4863444786322744, Val g-mean: 0.7366148170749103\nEpoch: 31, Train loss: 0.5419638358417894, Val loss: 0.4906260057499534, Val g-mean: 0.7308914579349965\nEpoch: 32, Train loss: 0.5477151891716315, Val loss: 0.478448759568365, Val g-mean: 0.7186823014534544\nEpoch: 33, Train loss: 0.5375047114886945, Val loss: 0.48385231608622953, Val g-mean: 0.7366198610940123\nEpoch: 34, Train loss: 0.5384928641282626, Val loss: 0.4783171109463039, Val g-mean: 0.729786815736036\nEpoch: 35, Train loss: 0.534914451360606, Val loss: 0.47747447302466944, Val g-mean: 0.7313739456073625\nEpoch: 36, Train loss: 0.5369080976310504, Val loss: 0.4778832385414525, Val g-mean: 0.7365349214861081\nEpoch: 37, Train loss: 0.5352081736861173, Val loss: 0.47524972142357574, Val g-mean: 0.7382975622579575\nEpoch: 38, Train loss: 0.5355809176201843, Val loss: 0.4753177109125413, Val g-mean: 0.7316972161826347\nEpoch: 39, Train loss: 0.5285526462924983, Val loss: 0.4772009284872758, Val g-mean: 0.7259871768921456\nEpoch: 40, Train loss: 0.5385400047650789, Val loss: 0.4686931418745141, Val g-mean: 0.7277091947707264\nEpoch: 41, Train loss: 0.5428387506770221, Val loss: 0.4666836210771611, Val g-mean: 0.7279648980677982\nEpoch: 42, Train loss: 0.5309612978026719, Val loss: 0.4594118651982985, Val g-mean: 0.7475109538245355\nEpoch: 43, Train loss: 0.527169387404661, Val loss: 0.5131894593176088, Val g-mean: 0.7439520027673928\nEpoch: 44, Train loss: 0.5354425157074484, Val loss: 0.46539442241191864, Val g-mean: 0.7359991781350724\nEpoch: 45, Train loss: 0.5379593689843342, Val loss: 0.4572778963728955, Val g-mean: 0.7317495277620535\nEpoch: 46, Train loss: 0.5254697894307717, Val loss: 0.4571392606747778, Val g-mean: 0.7371925853370669\nEpoch: 47, Train loss: 0.5353140974652683, Val loss: 0.4611022778247532, Val g-mean: 0.742846176279187\nEpoch: 48, Train loss: 0.5300670316988227, Val loss: 0.4630603276585278, Val g-mean: 0.7429929543296057\nEpoch: 49, Train loss: 0.5335113140866788, Val loss: 0.45488002484566287, Val g-mean: 0.7376231603072094\nEpoch: 50, Train loss: 0.5307483140651742, Val loss: 0.47329100201788704, Val g-mean: 0.740284726219982\nEpoch: 51, Train loss: 0.5302828959833749, Val loss: 0.45690050681954936, Val g-mean: 0.7396279113475145\nEpoch: 52, Train loss: 0.527149399937797, Val loss: 0.45178602694680814, Val g-mean: 0.7411366480235898\nEpoch: 53, Train loss: 0.5280433365342285, Val loss: 0.47357426152417537, Val g-mean: 0.7371639887884854\nEpoch: 54, Train loss: 0.530444655158638, Val loss: 0.4567836354437627, Val g-mean: 0.7474286054494211\nEpoch: 55, Train loss: 0.5263037007978747, Val loss: 0.4599874411758624, Val g-mean: 0.7322682178057375\nEpoch: 56, Train loss: 0.5280787856482916, Val loss: 0.4877060359637988, Val g-mean: 0.7522308791942948\nEpoch: 57, Train loss: 0.5298811296912229, Val loss: 0.48031076828115865, Val g-mean: 0.7458775272838932\nEpoch: 58, Train loss: 0.5314875388885072, Val loss: 0.4713847625412439, Val g-mean: 0.7528762122004893\nEpoch: 59, Train loss: 0.5331702275358389, Val loss: 0.4454154031057107, Val g-mean: 0.7371068070812979\nEpoch: 60, Train loss: 0.5342439947506911, Val loss: 0.4884995037787839, Val g-mean: 0.7556622361196551\nEpoch: 61, Train loss: 0.5308317273802431, Val loss: 0.43756990134716034, Val g-mean: 0.7344979827349326\nEpoch: 62, Train loss: 0.5239263436510554, Val loss: 0.4418985680922082, Val g-mean: 0.7388110440035709\nEpoch: 63, Train loss: 0.5241670144788905, Val loss: 0.46614440432504606, Val g-mean: 0.7576111932702586\nEpoch: 64, Train loss: 0.5268125286572661, Val loss: 0.4422543264533344, Val g-mean: 0.7492621003185893\nEpoch: 65, Train loss: 0.524751882937063, Val loss: 0.4546230705945115, Val g-mean: 0.755489476371907\nEpoch: 66, Train loss: 0.5313984903637388, Val loss: 0.46962446562553706, Val g-mean: 0.7520698158519755\nEpoch: 67, Train loss: 0.5289680757881879, Val loss: 0.4709905962410726, Val g-mean: 0.7588695250198388\nEpoch: 68, Train loss: 0.527926744857278, Val loss: 0.47872045244041245, Val g-mean: 0.7504566835976579\nEpoch: 69, Train loss: 0.5295229350746422, Val loss: 0.45415665640642766, Val g-mean: 0.7427237513345185\nEpoch: 70, Train loss: 0.5305593894636964, Val loss: 0.46190332660549566, Val g-mean: 0.7487229817998878\nEpoch: 71, Train loss: 0.5295761352743923, Val loss: 0.4689419744046111, Val g-mean: 0.7617217525820195\nEpoch: 72, Train loss: 0.5294942529733929, Val loss: 0.4447194347648244, Val g-mean: 0.7390364456289814\nEpoch: 73, Train loss: 0.5255330627731482, Val loss: 0.4581943558234918, Val g-mean: 0.750074383794681\nEpoch: 74, Train loss: 0.5266230313547139, Val loss: 0.4547008821054509, Val g-mean: 0.7468806561931639\nEpoch: 75, Train loss: 0.5251085959729597, Val loss: 0.4489362663344333, Val g-mean: 0.7509237870042681\nEpoch: 76, Train loss: 0.5243898023713499, Val loss: 0.4478759610731351, Val g-mean: 0.7501680176204695\nEpoch: 77, Train loss: 0.526173161805588, Val loss: 0.46287845290805163, Val g-mean: 0.751718718529379\nEpoch: 78, Train loss: 0.5260010138766001, Val loss: 0.4647052291976778, Val g-mean: 0.7386420959961922\nEpoch: 79, Train loss: 0.526239929428268, Val loss: 0.44631107759318855, Val g-mean: 0.7456120367177289\nEpoch: 80, Train loss: 0.530201599729442, Val loss: 0.44944495256794126, Val g-mean: 0.7381923423261118\nEpoch: 81, Train loss: 0.5265381975585008, Val loss: 0.4576236658582562, Val g-mean: 0.7453293677644512\nEpoch: 82, Train loss: 0.526698821583374, Val loss: 0.4678733352767794, Val g-mean: 0.7475993007858939\nEpoch: 83, Train loss: 0.5196440782933639, Val loss: 0.43810673940338585, Val g-mean: 0.7440989314404272\nEpoch: 84, Train loss: 0.5268124184242184, Val loss: 0.46135629242972326, Val g-mean: 0.7522478085204932\nEpoch: 85, Train loss: 0.5236510512630963, Val loss: 0.44381941815740183, Val g-mean: 0.7466523263019911\nEpoch: 86, Train loss: 0.5226667284897566, Val loss: 0.4546915255486965, Val g-mean: 0.7485174515436515\nEpoch: 87, Train loss: 0.5193235734573886, Val loss: 0.4468754629947637, Val g-mean: 0.7529148904801485\nEpoch: 88, Train loss: 0.5261170264385037, Val loss: 0.47928382691584137, Val g-mean: 0.7519171989919275\nEpoch: 89, Train loss: 0.5288820894044269, Val loss: 0.47267214620583936, Val g-mean: 0.7502713544959614\nEpoch: 90, Train loss: 0.5294291895509854, Val loss: 0.44908730215147924, Val g-mean: 0.7565015089242765\nEpoch: 91, Train loss: 0.5224421218348205, Val loss: 0.4555353102715392, Val g-mean: 0.7559696312556509\nEpoch: 92, Train loss: 0.5165664143084242, Val loss: 0.4532992571200195, Val g-mean: 0.7518829141637521\nEpoch: 93, Train loss: 0.5260037463137945, Val loss: 0.4529597112222722, Val g-mean: 0.7586096128249397\nEpoch: 94, Train loss: 0.5171830245832326, Val loss: 0.44604613749604477, Val g-mean: 0.7541615209229857\nEpoch: 95, Train loss: 0.508057506170659, Val loss: 0.45634752845293597, Val g-mean: 0.751298914150528\nEpoch: 96, Train loss: 0.5238200081358559, Val loss: 0.437895287808619, Val g-mean: 0.7401908466928959\nEpoch: 97, Train loss: 0.5247624554471233, Val loss: 0.44651839960562556, Val g-mean: 0.7592368690506953\nEpoch: 98, Train loss: 0.5273988977289934, Val loss: 0.46614430942817736, Val g-mean: 0.7517272779737633\nEpoch: 99, Train loss: 0.5182012926988872, Val loss: 0.4247192085573548, Val g-mean: 0.7456246392011848\nEpoch: 100, Train loss: 0.5212304921826069, Val loss: 0.4500074049359874, Val g-mean: 0.7529870149895871\nEpoch: 101, Train loss: 0.5265554402268778, Val loss: 0.4359047812850852, Val g-mean: 0.7509731416066854\nEpoch: 102, Train loss: 0.5204129867752311, Val loss: 0.4551724015097869, Val g-mean: 0.7507387211550394\nEpoch: 103, Train loss: 0.5174396760970875, Val loss: 0.4650416374206543, Val g-mean: 0.7470670898843915\nEpoch: 104, Train loss: 0.5210272547647371, Val loss: 0.4448452627188281, Val g-mean: 0.7557238443024629\nEpoch: 105, Train loss: 0.5210241319240317, Val loss: 0.46073280039586517, Val g-mean: 0.7486549244610763\nEpoch: 106, Train loss: 0.513929359854055, Val loss: 0.44665999906627757, Val g-mean: 0.7535988760632455\nEpoch: 107, Train loss: 0.5226478527706128, Val loss: 0.45120800404172196, Val g-mean: 0.7612259139122035\nEpoch: 108, Train loss: 0.5204153310591747, Val loss: 0.4555322057322452, Val g-mean: 0.7518089036882719\nEpoch: 109, Train loss: 0.5221736123983661, Val loss: 0.45491221409879234, Val g-mean: 0.7526841101290768\nEpoch: 110, Train loss: 0.5213113081842781, Val loss: 0.43682731315493584, Val g-mean: 0.7487055106556126\nEpoch: 111, Train loss: 0.5195530667440674, Val loss: 0.4359877666360454, Val g-mean: 0.7470820416064983\nEpoch: 112, Train loss: 0.5232331282594135, Val loss: 0.4535364249819203, Val g-mean: 0.7603681981445988\nEpoch: 113, Train loss: 0.5197126570675936, Val loss: 0.45690194654621574, Val g-mean: 0.7517415199915595\nEpoch: 114, Train loss: 0.5164092606706948, Val loss: 0.449476405586067, Val g-mean: 0.7584083372549988\nEpoch: 115, Train loss: 0.519064641642998, Val loss: 0.4509025965082018, Val g-mean: 0.7553423299001598\nEpoch: 116, Train loss: 0.5213377163767927, Val loss: 0.4482837821307935, Val g-mean: 0.7579326336424191\nEpoch: 117, Train loss: 0.5198295351339016, Val loss: 0.46179685976944473, Val g-mean: 0.7512229343791953\nEpoch: 118, Train loss: 0.5232545849431832, Val loss: 0.44149507033197505, Val g-mean: 0.742571904901496\nEpoch: 119, Train loss: 0.5194146683256596, Val loss: 0.4640746593083206, Val g-mean: 0.7549730144271721\nEpoch: 120, Train loss: 0.520743632134745, Val loss: 0.4317252696736863, Val g-mean: 0.7574646852129262\nEpoch: 121, Train loss: 0.5161359300691033, Val loss: 0.45719086614094284, Val g-mean: 0.7490282875521985\nEpoch: 122, Train loss: 0.5179724598936819, Val loss: 0.44780201817813675, Val g-mean: 0.76511718868518\nEpoch: 123, Train loss: 0.5198805910061655, Val loss: 0.441200537116904, Val g-mean: 0.755850760055071\nEpoch: 124, Train loss: 0.5200552735979903, Val loss: 0.4539499916136265, Val g-mean: 0.7582483741558627\nEpoch: 125, Train loss: 0.5212467103523527, Val loss: 0.43048933560126706, Val g-mean: 0.7549195531349587\nEpoch: 126, Train loss: 0.5214558363727375, Val loss: 0.4659712345976579, Val g-mean: 0.7522389552575819\nEpoch: 127, Train loss: 0.5150088122036678, Val loss: 0.45378626628141655, Val g-mean: 0.7542398015137667\nEpoch: 128, Train loss: 0.5141997464146181, Val loss: 0.46752167904847547, Val g-mean: 0.7519572772511544\nEpoch: 129, Train loss: 0.5165608795265513, Val loss: 0.4560182661210236, Val g-mean: 0.7560165073029548\nEpoch: 130, Train loss: 0.5163066409966929, Val loss: 0.4421251514240315, Val g-mean: 0.7460804723627296\nEpoch: 131, Train loss: 0.5216326306340505, Val loss: 0.43379243424064234, Val g-mean: 0.7420172083120651\nEpoch: 132, Train loss: 0.510461407769347, Val loss: 0.4310478281817938, Val g-mean: 0.7519871726538113\nEpoch: 133, Train loss: 0.5220276812155159, Val loss: 0.45184357268245595, Val g-mean: 0.7498977428724753\nEpoch: 134, Train loss: 0.5204641351036835, Val loss: 0.45054445415735245, Val g-mean: 0.752314243099065\nEpoch: 135, Train loss: 0.5183918173609402, Val loss: 0.4455041026598529, Val g-mean: 0.752351155310816\nEpoch: 136, Train loss: 0.5174391716600987, Val loss: 0.4446825341958749, Val g-mean: 0.7628322891144221\nEpoch: 137, Train loss: 0.5175721955139426, Val loss: 0.4743559697740956, Val g-mean: 0.7516256201987764\nEpoch: 138, Train loss: 0.5208111719390776, Val loss: 0.4290222902047007, Val g-mean: 0.7553079331362165\nEpoch: 139, Train loss: 0.5085117040917042, Val loss: 0.44970777003388657, Val g-mean: 0.7497100304066235\nEpoch: 140, Train loss: 0.5121543536030534, Val loss: 0.4381500898223174, Val g-mean: 0.7500412033006925\nEpoch: 141, Train loss: 0.5195069567400198, Val loss: 0.43837089699349907, Val g-mean: 0.7582231083777136\nEpoch: 142, Train loss: 0.5197656420135655, Val loss: 0.43094866958103684, Val g-mean: 0.7517937886926941\nEpoch: 143, Train loss: 0.5195488701453966, Val loss: 0.44139089651013674, Val g-mean: 0.763025564086877\nEpoch: 144, Train loss: 0.5138625747545538, Val loss: 0.4361574128270149, Val g-mean: 0.7545952757214581\nEpoch: 145, Train loss: 0.5232705911695539, Val loss: 0.4443857650223531, Val g-mean: 0.7477488183243379\nEpoch: 146, Train loss: 0.5154231892361443, Val loss: 0.4451836729912381, Val g-mean: 0.7581047449969023\nEpoch: 147, Train loss: 0.5184470457108769, Val loss: 0.4486224965045327, Val g-mean: 0.7596139626185799\nEpoch: 148, Train loss: 0.5179057036112065, Val loss: 0.455403471463605, Val g-mean: 0.7480676844486704\nEpoch: 149, Train loss: 0.5155420857936414, Val loss: 0.44722670493157285, Val g-mean: 0.7524322068196675\nEpoch: 150, Train loss: 0.5147472077772028, Val loss: 0.44679346837495504, Val g-mean: 0.7452345101758369\nEpoch: 151, Train loss: 0.513999070133465, Val loss: 0.4373985460322154, Val g-mean: 0.7561539840494607\nEpoch: 152, Train loss: 0.5162379356174537, Val loss: 0.4589608927306376, Val g-mean: 0.758812566427665\nEpoch: 153, Train loss: 0.5187314722934022, Val loss: 0.4358259723766854, Val g-mean: 0.7587926351351979\nEpoch: 154, Train loss: 0.5146547774839785, Val loss: 0.4399209328387913, Val g-mean: 0.7493280330604605\nEpoch: 155, Train loss: 0.5188652698417724, Val loss: 0.4495515370447385, Val g-mean: 0.7581776837346114\nEpoch: 156, Train loss: 0.5153698861709295, Val loss: 0.4405119132838751, Val g-mean: 0.7598157982259481\nEpoch: 157, Train loss: 0.5170600169586275, Val loss: 0.4251983975501437, Val g-mean: 0.7624724016628175\nEpoch: 158, Train loss: 0.5187426704944412, Val loss: 0.43938866238060753, Val g-mean: 0.7522120997067205\nEpoch: 159, Train loss: 0.5138774950744323, Val loss: 0.440177520639018, Val g-mean: 0.7560428818970553\nEpoch: 160, Train loss: 0.5201679103192572, Val loss: 0.44607876476488617, Val g-mean: 0.7479860690934788\nEpoch: 161, Train loss: 0.5180722951696026, Val loss: 0.4276981367484519, Val g-mean: 0.7568578890350085\nEpoch: 162, Train loss: 0.5156171263827716, Val loss: 0.47946200637440933, Val g-mean: 0.757568808283197\nEpoch: 163, Train loss: 0.5223954616449743, Val loss: 0.42598443243064377, Val g-mean: 0.7594926713908352\nEpoch: 164, Train loss: 0.5123557511088683, Val loss: 0.44247970122255775, Val g-mean: 0.75376318976495\nEpoch: 165, Train loss: 0.5169523046286416, Val loss: 0.456894005207639, Val g-mean: 0.7512560899770858\nEpoch: 166, Train loss: 0.5152384701158695, Val loss: 0.4267632963233872, Val g-mean: 0.7593848883211053\nEpoch: 167, Train loss: 0.5205378149757941, Val loss: 0.4328286200761795, Val g-mean: 0.761397024069156\nEpoch: 168, Train loss: 0.5171920647088116, Val loss: 0.43740475040517357, Val g-mean: 0.7482705686990015\nEpoch: 169, Train loss: 0.5179794148129941, Val loss: 0.43278339681656736, Val g-mean: 0.7657215241158648\nEpoch: 170, Train loss: 0.5151861231983825, Val loss: 0.43221474811434746, Val g-mean: 0.7517537041583836\nEpoch: 171, Train loss: 0.5166676481603037, Val loss: 0.4444134233421401, Val g-mean: 0.7499092530151967\nEpoch: 172, Train loss: 0.5116358144242472, Val loss: 0.42246851128967183, Val g-mean: 0.7607201013096845\nEpoch: 173, Train loss: 0.5122149462322365, Val loss: 0.4612297911785151, Val g-mean: 0.7505477439290497\nEpoch: 174, Train loss: 0.5102924701279192, Val loss: 0.4584344801934142, Val g-mean: 0.7566626925236638\nEpoch: 175, Train loss: 0.518601052062307, Val loss: 0.44302050534047577, Val g-mean: 0.766202023101106\nEpoch: 176, Train loss: 0.514828291956181, Val loss: 0.4298881545270744, Val g-mean: 0.75663613643921\nEpoch: 177, Train loss: 0.5135755381412568, Val loss: 0.4210878806678872, Val g-mean: 0.754440174045351\nEpoch: 178, Train loss: 0.5185351006854712, Val loss: 0.4519599715345784, Val g-mean: 0.7708230431417171\nEpoch: 179, Train loss: 0.5204008784541674, Val loss: 0.4422378214566331, Val g-mean: 0.7625627999392481\nEpoch: 180, Train loss: 0.517300598628294, Val loss: 0.44926956707709714, Val g-mean: 0.7525150302031894\nEpoch: 181, Train loss: 0.5170177023349879, Val loss: 0.43898422545508337, Val g-mean: 0.7527990348738756\nEpoch: 182, Train loss: 0.5164576779351389, Val loss: 0.4389240839763692, Val g-mean: 0.760998362526738\nEpoch: 183, Train loss: 0.5118417904840901, Val loss: 0.4530313334574825, Val g-mean: 0.7585279268334315\nEpoch: 184, Train loss: 0.5182228908362801, Val loss: 0.4442281307358491, Val g-mean: 0.7534653948109201\nEpoch: 185, Train loss: 0.5165102495577848, Val loss: 0.45055060225882027, Val g-mean: 0.7643599195614665\nEpoch: 186, Train loss: 0.5140237071373663, Val loss: 0.44104242462076637, Val g-mean: 0.7597465420995209\nEpoch: 187, Train loss: 0.5207036282887024, Val loss: 0.4564919034509282, Val g-mean: 0.7548627094385738\nEpoch: 188, Train loss: 0.5132012386757814, Val loss: 0.44961254337900564, Val g-mean: 0.7618290988595393\nEpoch: 189, Train loss: 0.5154920275787479, Val loss: 0.44287976308872823, Val g-mean: 0.7573825394783336\nEpoch: 190, Train loss: 0.5162484678672593, Val loss: 0.4325135162002162, Val g-mean: 0.7602953313237757\nEpoch: 191, Train loss: 0.5255844766451779, Val loss: 0.4370985252684669, Val g-mean: 0.7567334665192976\nEpoch: 192, Train loss: 0.5167930460147531, Val loss: 0.44859602714055463, Val g-mean: 0.7528574778224614\nEpoch: 193, Train loss: 0.5160699903342089, Val loss: 0.4476871165005784, Val g-mean: 0.752549675133836\nEpoch: 194, Train loss: 0.5149973343845339, Val loss: 0.4461546434383643, Val g-mean: 0.7500792294453178\nEpoch: 195, Train loss: 0.5155822611457321, Val loss: 0.43120912423259333, Val g-mean: 0.7620902786309998\nEpoch: 196, Train loss: 0.5154161389893769, Val loss: 0.422200633310958, Val g-mean: 0.761971222671281\nEpoch: 197, Train loss: 0.5190605715602805, Val loss: 0.4423992257369192, Val g-mean: 0.7532599550896214\nEpoch: 198, Train loss: 0.514004391786535, Val loss: 0.43326424630848986, Val g-mean: 0.7564928072835757\nEpoch: 199, Train loss: 0.5141636599144674, Val loss: 0.42937698254459783, Val g-mean: 0.758704739141317\n"
        }
      ],
      "source": [
        "train_loss = 0\n",
        "epochs = 200\n",
        "for epoch in range(epochs):\n",
        "  classifier.train()\n",
        "  for inputs, targets in train_dataloader:\n",
        "    if torch.cuda.is_available():\n",
        "      inputs, targets = inputs.cuda(), targets.cuda()\n",
        "\n",
        "    outputs = classifier(inputs.float())\n",
        "    loss = criterion(outputs.squeeze(), targets.float())\n",
        "    train_loss += loss.item()\n",
        "\n",
        "    optimizer.zero_grad()\n",
        "    loss.backward()\n",
        "    optimizer.step()\n",
        "\n",
        "  train_loss = train_loss / len(train_dataloader)\n",
        "  val_loss = metrics.loss(classifier, val_dataloader, criterion)\n",
        "  val_gmean, _ = metrics.gmean(classifier, val_dataloader)\n",
        "  print('Epoch: {}, Train loss: {}, Val loss: {}, Val g-mean: {}'.format(epoch, train_loss, val_loss, val_gmean))\n",
        "\n",
        "  if classifier.val_gmean is None or val_gmean > classifier.val_gmean:\n",
        "    classifier.epoch = epoch\n",
        "    classifier.val_gmean = val_gmean\n",
        "    save_classifier(classifier)\n",
        "\n",
        "classifier.epoch = epoch\n",
        "classifier.val_gmean = val_gmean"
      ]
    },
    {
      "cell_type": "code",
      "execution_count": 77,
      "metadata": {},
      "outputs": [],
      "source": [
        "def evaluate(classifier):\n",
        "  if torch.cuda.is_available():\n",
        "    classifier = classifier.cuda()\n",
        "  train_gmean, _ = metrics.gmean(classifier, train_dataloader)\n",
        "  test_gmean, test_recalls = metrics.gmean(classifier, test_dataloader)\n",
        "  print('Epoch: {}'.format(classifier.epoch))\n",
        "  print('Train g-mean: {}'.format(train_gmean.item()))\n",
        "  print('Val g-mean: {}'.format(classifier.val_gmean))\n",
        "  print('Test g-mean: {}, recalls: {}'.format(test_gmean.item(), test_recalls))"
      ]
    },
    {
      "cell_type": "code",
      "execution_count": 78,
      "metadata": {},
      "outputs": [
        {
          "name": "stdout",
          "output_type": "stream",
          "text": "Best classifier\n"
        }
      ],
      "source": [
        "print('Best classifier')\n",
        "evaluate(load_classifier())"
      ]
    },
    {
      "cell_type": "code",
      "execution_count": 0,
      "metadata": {},
      "outputs": [],
      "source": [
        "print('Last classifier')\n",
        "evaluate(classifier)"
      ]
    },
    {
      "cell_type": "code",
      "execution_count": 0,
      "metadata": {
        "colab": {},
        "colab_type": "code",
        "id": "L_t4Gh43GYWl"
      },
      "outputs": [],
      "source": []
    }
  ]
}