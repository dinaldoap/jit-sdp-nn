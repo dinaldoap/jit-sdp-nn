{
  "nbformat": 4,
  "nbformat_minor": 0,
  "metadata": {
    "colab": {
      "name": "JIT-SDP.ipynb",
      "provenance": [],
      "collapsed_sections": [],
      "include_colab_link": true
    },
    "kernelspec": {
      "name": "python37064bite406851a25184002a8fe65dca1936b2d",
      "display_name": "Python 3.7.0 64-bit"
    },
    "accelerator": "GPU"
  },
  "cells": [
    {
      "cell_type": "markdown",
      "metadata": {
        "colab_type": "text",
        "id": "view-in-github"
      },
      "source": [
        "<a href=\"https://colab.research.google.com/github/dinaldoap/jit-sdp-nn/blob/master/notebook/mlp.ipynb\" target=\"_parent\"><img src=\"https://colab.research.google.com/assets/colab-badge.svg\" alt=\"Open In Colab\"/></a>"
      ]
    },
    {
      "cell_type": "code",
      "execution_count": 41,
      "metadata": {},
      "outputs": [
        {
          "name": "stdout",
          "output_type": "stream",
          "text": "The autoreload extension is already loaded. To reload it, use:\n  %reload_ext autoreload\n"
        }
      ],
      "source": [
        "%load_ext autoreload\n",
        "%autoreload 2"
      ]
    },
    {
      "cell_type": "code",
      "execution_count": 42,
      "metadata": {},
      "outputs": [
        {
          "name": "stdout",
          "output_type": "stream",
          "text": "/workspace\n"
        }
      ],
      "source": [
        "%cd /workspace/"
      ]
    },
    {
      "cell_type": "code",
      "execution_count": 43,
      "metadata": {},
      "outputs": [],
      "source": [
        "import numpy as np\n",
        "import pandas as pd\n",
        "import torch\n",
        "import torch.nn as nn\n",
        "import torch.nn.functional as F\n",
        "import torch.optim as optim\n",
        "import torch.utils.data as data\n",
        "from sklearn.model_selection import train_test_split\n",
        "from sklearn.preprocessing import StandardScaler\n",
        "import random\n",
        "from scipy.stats import mstats\n",
        "import math\n",
        "import re\n",
        "\n",
        "from jitsdp import metrics\n",
        "from jitsdp.classifier import Classifier\n",
        "from jitsdp.pipeline import Pipeline\n",
        "\n",
        "import logging"
      ]
    },
    {
      "cell_type": "code",
      "execution_count": 44,
      "metadata": {},
      "outputs": [],
      "source": [
        "logging.getLogger('').handlers = []\n",
        "logging.basicConfig(filename='notebook/mlp.log', filemode='w', level=logging.DEBUG)"
      ]
    },
    {
      "cell_type": "code",
      "execution_count": 45,
      "metadata": {},
      "outputs": [
        {
          "data": {
            "text/html": "<div>\n<style scoped>\n    .dataframe tbody tr th:only-of-type {\n        vertical-align: middle;\n    }\n\n    .dataframe tbody tr th {\n        vertical-align: top;\n    }\n\n    .dataframe thead th {\n        text-align: right;\n    }\n</style>\n<table border=\"1\" class=\"dataframe\">\n  <thead>\n    <tr style=\"text-align: right;\">\n      <th></th>\n      <th>commit_hash</th>\n      <th>author_name</th>\n      <th>author_date_unix_timestamp</th>\n      <th>author_email</th>\n      <th>author_date</th>\n      <th>commit_message</th>\n      <th>fix</th>\n      <th>classification</th>\n      <th>linked</th>\n      <th>contains_bug</th>\n      <th>...</th>\n      <th>fileschanged</th>\n      <th>lt</th>\n      <th>ndev</th>\n      <th>age</th>\n      <th>nuc</th>\n      <th>exp</th>\n      <th>rexp</th>\n      <th>sexp</th>\n      <th>glm_probability</th>\n      <th>repository_id</th>\n    </tr>\n  </thead>\n  <tbody>\n    <tr>\n      <td>0</td>\n      <td>b96625a4b8e0aaaf58ca56082ed29dbc588e9379</td>\n      <td>ficristo</td>\n      <td>1512664331</td>\n      <td>ficristo.work@gmail.com</td>\n      <td>Thu Dec 7 17:32:11 2017 +0100</td>\n      <td>Remove PanelManager (#11589)</td>\n      <td>False</td>\n      <td>None</td>\n      <td>False</td>\n      <td>False</td>\n      <td>...</td>\n      <td>src/brackets.js,CAS_DELIMITER,src/search/Searc...</td>\n      <td>0.0</td>\n      <td>1.0</td>\n      <td>0.0</td>\n      <td>0.0</td>\n      <td>2.0</td>\n      <td>0.0</td>\n      <td>2.0</td>\n      <td>0.450896</td>\n      <td>62af12f4-9856-421d-a18b-16a4d7b39c63</td>\n    </tr>\n    <tr>\n      <td>1</td>\n      <td>51417390f9b7aedf983f0f847d578dd819765c6d</td>\n      <td>ficristo</td>\n      <td>1512664256</td>\n      <td>ficristo.work@gmail.com</td>\n      <td>Thu Dec 7 17:30:56 2017 +0100</td>\n      <td>Add wrapper functions to call the fs-extra one...</td>\n      <td>False</td>\n      <td>Feature Addition</td>\n      <td>False</td>\n      <td>False</td>\n      <td>...</td>\n      <td>test/node/TestingDomain.js,CAS_DELIMITER</td>\n      <td>0.0</td>\n      <td>1.0</td>\n      <td>0.0</td>\n      <td>0.0</td>\n      <td>0.0</td>\n      <td>0.0</td>\n      <td>0.0</td>\n      <td>0.401964</td>\n      <td>62af12f4-9856-421d-a18b-16a4d7b39c63</td>\n    </tr>\n    <tr>\n      <td>2</td>\n      <td>13af302a2a5bbbe459fa7ac060203dd410de97e9</td>\n      <td>Naveen Choudhary</td>\n      <td>1512657100</td>\n      <td>navch@users.noreply.github.com</td>\n      <td>Thu Dec 7 20:01:40 2017 +0530</td>\n      <td>Merge pull request #13945 from JungGaBin/fixtt...</td>\n      <td>False</td>\n      <td>Merge</td>\n      <td>False</td>\n      <td>False</td>\n      <td>...</td>\n      <td>NaN</td>\n      <td>0.0</td>\n      <td>0.0</td>\n      <td>0.0</td>\n      <td>0.0</td>\n      <td>0.0</td>\n      <td>0.0</td>\n      <td>0.0</td>\n      <td>0.201657</td>\n      <td>62af12f4-9856-421d-a18b-16a4d7b39c63</td>\n    </tr>\n    <tr>\n      <td>3</td>\n      <td>63e07fd375fcf6a29fe37b566464d4591f8f0b69</td>\n      <td>Prashanth Nethi</td>\n      <td>1512448426</td>\n      <td>prashant@adobe.com</td>\n      <td>Tue Dec 5 10:03:46 2017 +0530</td>\n      <td>Merge pull request #13852 from toryherman/1377...</td>\n      <td>False</td>\n      <td>Merge</td>\n      <td>False</td>\n      <td>False</td>\n      <td>...</td>\n      <td>NaN</td>\n      <td>0.0</td>\n      <td>0.0</td>\n      <td>0.0</td>\n      <td>0.0</td>\n      <td>0.0</td>\n      <td>0.0</td>\n      <td>0.0</td>\n      <td>0.201657</td>\n      <td>62af12f4-9856-421d-a18b-16a4d7b39c63</td>\n    </tr>\n    <tr>\n      <td>4</td>\n      <td>cf8dc16872045735ba485a90eec104b5517a909a</td>\n      <td>JungGaBin</td>\n      <td>1511896569</td>\n      <td>jgb5131@naver.com</td>\n      <td>Wed Nov 29 04:16:09 2017 +0900</td>\n      <td>Correct typo (#13938)Inpsector -&gt; Inspector</td>\n      <td>False</td>\n      <td>None</td>\n      <td>False</td>\n      <td>False</td>\n      <td>...</td>\n      <td>test/spec/LiveDevelopment-test.js,CAS_DELIMITER</td>\n      <td>0.0</td>\n      <td>1.0</td>\n      <td>0.0</td>\n      <td>0.0</td>\n      <td>3.0</td>\n      <td>0.0</td>\n      <td>1.0</td>\n      <td>0.402032</td>\n      <td>62af12f4-9856-421d-a18b-16a4d7b39c63</td>\n    </tr>\n  </tbody>\n</table>\n<p>5 rows × 27 columns</p>\n</div>",
            "text/plain": "                                commit_hash       author_name  \\\n0  b96625a4b8e0aaaf58ca56082ed29dbc588e9379          ficristo   \n1  51417390f9b7aedf983f0f847d578dd819765c6d          ficristo   \n2  13af302a2a5bbbe459fa7ac060203dd410de97e9  Naveen Choudhary   \n3  63e07fd375fcf6a29fe37b566464d4591f8f0b69   Prashanth Nethi   \n4  cf8dc16872045735ba485a90eec104b5517a909a         JungGaBin   \n\n   author_date_unix_timestamp                    author_email  \\\n0                  1512664331         ficristo.work@gmail.com   \n1                  1512664256         ficristo.work@gmail.com   \n2                  1512657100  navch@users.noreply.github.com   \n3                  1512448426              prashant@adobe.com   \n4                  1511896569               jgb5131@naver.com   \n\n                      author_date  \\\n0   Thu Dec 7 17:32:11 2017 +0100   \n1   Thu Dec 7 17:30:56 2017 +0100   \n2   Thu Dec 7 20:01:40 2017 +0530   \n3   Tue Dec 5 10:03:46 2017 +0530   \n4  Wed Nov 29 04:16:09 2017 +0900   \n\n                                      commit_message    fix    classification  \\\n0                       Remove PanelManager (#11589)  False              None   \n1  Add wrapper functions to call the fs-extra one...  False  Feature Addition   \n2  Merge pull request #13945 from JungGaBin/fixtt...  False             Merge   \n3  Merge pull request #13852 from toryherman/1377...  False             Merge   \n4        Correct typo (#13938)Inpsector -> Inspector  False              None   \n\n   linked  contains_bug  ...  \\\n0   False         False  ...   \n1   False         False  ...   \n2   False         False  ...   \n3   False         False  ...   \n4   False         False  ...   \n\n                                        fileschanged   lt  ndev  age  nuc  \\\n0  src/brackets.js,CAS_DELIMITER,src/search/Searc...  0.0   1.0  0.0  0.0   \n1           test/node/TestingDomain.js,CAS_DELIMITER  0.0   1.0  0.0  0.0   \n2                                                NaN  0.0   0.0  0.0  0.0   \n3                                                NaN  0.0   0.0  0.0  0.0   \n4    test/spec/LiveDevelopment-test.js,CAS_DELIMITER  0.0   1.0  0.0  0.0   \n\n   exp  rexp sexp  glm_probability                         repository_id  \n0  2.0   0.0  2.0         0.450896  62af12f4-9856-421d-a18b-16a4d7b39c63  \n1  0.0   0.0  0.0         0.401964  62af12f4-9856-421d-a18b-16a4d7b39c63  \n2  0.0   0.0  0.0         0.201657  62af12f4-9856-421d-a18b-16a4d7b39c63  \n3  0.0   0.0  0.0         0.201657  62af12f4-9856-421d-a18b-16a4d7b39c63  \n4  3.0   0.0  1.0         0.402032  62af12f4-9856-421d-a18b-16a4d7b39c63  \n\n[5 rows x 27 columns]"
          },
          "execution_count": 45,
          "metadata": {},
          "output_type": "execute_result"
        }
      ],
      "source": [
        "df = pd.read_csv('https://raw.githubusercontent.com/dinaldoap/jit-sdp-data/master/brackets.csv')\n",
        "df.head()"
      ]
    },
    {
      "cell_type": "code",
      "execution_count": 46,
      "metadata": {},
      "outputs": [
        {
          "data": {
            "text/html": "<div>\n<style scoped>\n    .dataframe tbody tr th:only-of-type {\n        vertical-align: middle;\n    }\n\n    .dataframe tbody tr th {\n        vertical-align: top;\n    }\n\n    .dataframe thead th {\n        text-align: right;\n    }\n</style>\n<table border=\"1\" class=\"dataframe\">\n  <thead>\n    <tr style=\"text-align: right;\">\n      <th></th>\n      <th>commit_hash</th>\n      <th>timestamp</th>\n      <th>fixes</th>\n      <th>fix</th>\n      <th>ns</th>\n      <th>nd</th>\n      <th>nf</th>\n      <th>entrophy</th>\n      <th>la</th>\n      <th>ld</th>\n      <th>lt</th>\n      <th>ndev</th>\n      <th>age</th>\n      <th>nuc</th>\n      <th>exp</th>\n      <th>rexp</th>\n      <th>sexp</th>\n      <th>contains_bug</th>\n      <th>commit_hash_fix</th>\n      <th>timestamp_fix</th>\n    </tr>\n  </thead>\n  <tbody>\n    <tr>\n      <td>17571</td>\n      <td>637d7f4ffa0f2396c2fb61a5e51b9b980f47a2c2</td>\n      <td>1323292816</td>\n      <td>NaN</td>\n      <td>False</td>\n      <td>2.0</td>\n      <td>5.0</td>\n      <td>23.0</td>\n      <td>3.630787</td>\n      <td>3754.0</td>\n      <td>0.0</td>\n      <td>0.0</td>\n      <td>1.0</td>\n      <td>0.000000</td>\n      <td>0.0</td>\n      <td>11.0</td>\n      <td>0.000000</td>\n      <td>21.0</td>\n      <td>0</td>\n      <td>NaN</td>\n      <td>NaN</td>\n    </tr>\n    <tr>\n      <td>17570</td>\n      <td>c8142d2dc17fc1d3777689d67d32d010f5d8dfa7</td>\n      <td>1323292845</td>\n      <td>NaN</td>\n      <td>False</td>\n      <td>2.0</td>\n      <td>2.0</td>\n      <td>2.0</td>\n      <td>0.811278</td>\n      <td>4.0</td>\n      <td>0.0</td>\n      <td>0.0</td>\n      <td>1.0</td>\n      <td>0.000000</td>\n      <td>0.0</td>\n      <td>23.5</td>\n      <td>0.000000</td>\n      <td>22.0</td>\n      <td>0</td>\n      <td>NaN</td>\n      <td>NaN</td>\n    </tr>\n    <tr>\n      <td>17569</td>\n      <td>af90ea5adf06c935ce1d5db4ce996054c94aeed7</td>\n      <td>1323294546</td>\n      <td>NaN</td>\n      <td>True</td>\n      <td>1.0</td>\n      <td>1.0</td>\n      <td>1.0</td>\n      <td>0.000000</td>\n      <td>1.0</td>\n      <td>1.0</td>\n      <td>3.0</td>\n      <td>1.0</td>\n      <td>0.019688</td>\n      <td>1.0</td>\n      <td>25.0</td>\n      <td>51.793651</td>\n      <td>2.0</td>\n      <td>0</td>\n      <td>NaN</td>\n      <td>NaN</td>\n    </tr>\n    <tr>\n      <td>17568</td>\n      <td>82f3f98077bde9ac7c4ff285c593a2f351da5bf2</td>\n      <td>1323295924</td>\n      <td>NaN</td>\n      <td>False</td>\n      <td>1.0</td>\n      <td>1.0</td>\n      <td>1.0</td>\n      <td>0.000000</td>\n      <td>2.0</td>\n      <td>3.0</td>\n      <td>31.0</td>\n      <td>1.0</td>\n      <td>0.035972</td>\n      <td>1.0</td>\n      <td>26.0</td>\n      <td>28.799228</td>\n      <td>3.0</td>\n      <td>0</td>\n      <td>NaN</td>\n      <td>NaN</td>\n    </tr>\n    <tr>\n      <td>17567</td>\n      <td>a454a7bce095b18da240cddf844bfea5a334b7cb</td>\n      <td>1323301755</td>\n      <td>NaN</td>\n      <td>False</td>\n      <td>1.0</td>\n      <td>1.0</td>\n      <td>2.0</td>\n      <td>0.000000</td>\n      <td>5.0</td>\n      <td>0.0</td>\n      <td>0.0</td>\n      <td>1.0</td>\n      <td>0.000000</td>\n      <td>0.0</td>\n      <td>0.5</td>\n      <td>0.000000</td>\n      <td>1.0</td>\n      <td>0</td>\n      <td>NaN</td>\n      <td>NaN</td>\n    </tr>\n  </tbody>\n</table>\n</div>",
            "text/plain": "                                    commit_hash   timestamp fixes    fix   ns  \\\n17571  637d7f4ffa0f2396c2fb61a5e51b9b980f47a2c2  1323292816   NaN  False  2.0   \n17570  c8142d2dc17fc1d3777689d67d32d010f5d8dfa7  1323292845   NaN  False  2.0   \n17569  af90ea5adf06c935ce1d5db4ce996054c94aeed7  1323294546   NaN   True  1.0   \n17568  82f3f98077bde9ac7c4ff285c593a2f351da5bf2  1323295924   NaN  False  1.0   \n17567  a454a7bce095b18da240cddf844bfea5a334b7cb  1323301755   NaN  False  1.0   \n\n        nd    nf  entrophy      la   ld    lt  ndev       age  nuc   exp  \\\n17571  5.0  23.0  3.630787  3754.0  0.0   0.0   1.0  0.000000  0.0  11.0   \n17570  2.0   2.0  0.811278     4.0  0.0   0.0   1.0  0.000000  0.0  23.5   \n17569  1.0   1.0  0.000000     1.0  1.0   3.0   1.0  0.019688  1.0  25.0   \n17568  1.0   1.0  0.000000     2.0  3.0  31.0   1.0  0.035972  1.0  26.0   \n17567  1.0   2.0  0.000000     5.0  0.0   0.0   1.0  0.000000  0.0   0.5   \n\n            rexp  sexp  contains_bug commit_hash_fix  timestamp_fix  \n17571   0.000000  21.0             0             NaN            NaN  \n17570   0.000000  22.0             0             NaN            NaN  \n17569  51.793651   2.0             0             NaN            NaN  \n17568  28.799228   3.0             0             NaN            NaN  \n17567   0.000000   1.0             0             NaN            NaN  "
          },
          "execution_count": 46,
          "metadata": {},
          "output_type": "execute_result"
        }
      ],
      "source": [
        "label_col = 'contains_bug'\n",
        "features_cols = ['fix', 'ns', 'nd', 'nf', 'entrophy', 'la', 'ld', 'lt', 'ndev', 'age', 'nuc', 'exp', 'rexp', 'sexp']\n",
        "preprocess_cols = ['commit_hash', 'author_date_unix_timestamp', 'fixes'] + features_cols + [label_col]\n",
        "df_preprocess = df[preprocess_cols].copy()\n",
        "# filter rows with missing data \n",
        "df_preprocess = df_preprocess.dropna(subset=['fix'])\n",
        "# timeline order\n",
        "df_preprocess = df_preprocess[::-1]\n",
        "# contains_bug\n",
        "df_preprocess[label_col] = df_preprocess[label_col].astype('int')\n",
        "# timestamp\n",
        "df_preprocess = df_preprocess.rename(columns={'author_date_unix_timestamp': 'timestamp'})\n",
        "# fixes\n",
        "df_preprocess['commit_hash_fix'] = df_preprocess['fixes'].dropna().apply(lambda x: re.findall('\\\\b\\\\w+\\\\b', x)[0])\n",
        "df_fix = df_preprocess[['commit_hash', 'timestamp']].set_index('commit_hash')\n",
        "df_preprocess = df_preprocess.join(df_fix, on='commit_hash_fix', how='left', rsuffix='_fix')\n",
        "df_preprocess.head()\n",
        "\n"
      ]
    },
    {
      "cell_type": "code",
      "execution_count": 47,
      "metadata": {},
      "outputs": [],
      "source": [
        "prequential_cols = ['timestamp', 'timestamp_fix'] + features_cols + [label_col]\n",
        "df_prequential = df_preprocess[prequential_cols].copy()"
      ]
    },
    {
      "cell_type": "code",
      "execution_count": 48,
      "metadata": {},
      "outputs": [],
      "source": [
        "def create_pipeline():\n",
        "    scaler = StandardScaler()\n",
        "    criterion = nn.BCELoss()\n",
        "    classifier = Classifier(input_size=len(features_cols), hidden_size=len(features_cols) // 2, drop_prob=0.2)\n",
        "    optimizer = optim.Adam(params=classifier.parameters(), lr=0.003)\n",
        "    return Pipeline(steps=[scaler], classifier=classifier, optimizer=optimizer, criterion=criterion,\n",
        "                    max_epochs=50, batch_size=128, fading_factor=0.9999)"
      ]
    },
    {
      "cell_type": "code",
      "execution_count": 49,
      "metadata": {},
      "outputs": [],
      "source": [
        "  def evaluate(label, targets, predictions):\n",
        "    gmean, recalls = metrics.gmean_recalls(targets, predictions)\n",
        "    print('{} g-mean: {}, recalls: {}'.format(label, gmean, recalls))\n",
        "  \n",
        "  def evaluate_train_test(seq, targets_train, predictions_train, targets_test, predictions_test):\n",
        "    print('Sequential: {}'.format(seq))\n",
        "    evaluate('Train', targets_train, predictions_train)\n",
        "    evaluate('Test', targets_test, predictions_test)"
      ]
    },
    {
      "cell_type": "code",
      "execution_count": 50,
      "metadata": {},
      "outputs": [
        {
          "name": "stderr",
          "output_type": "stream",
          "text": "/home/pytorch/.conda/envs/pytorch/lib/python3.7/site-packages/scipy/stats/stats.py:338: RuntimeWarning: divide by zero encountered in log\n  log_a = np.log(a)\nSequential: 500\nTrain g-mean: 0.0, recalls: [0. 1.]\nTest g-mean: 0.0, recalls: [0. 1.]\n/home/pytorch/.conda/envs/pytorch/lib/python3.7/site-packages/scipy/stats/stats.py:338: RuntimeWarning: divide by zero encountered in log\n  log_a = np.log(a)\n/home/pytorch/.conda/envs/pytorch/lib/python3.7/site-packages/scipy/stats/stats.py:338: RuntimeWarning: divide by zero encountered in log\n  log_a = np.log(a)\nSequential: 1000\nTrain g-mean: 0.0, recalls: [0. 1.]\nTest g-mean: 0.0, recalls: [0. 1.]\n/home/pytorch/.conda/envs/pytorch/lib/python3.7/site-packages/scipy/stats/stats.py:338: RuntimeWarning: divide by zero encountered in log\n  log_a = np.log(a)\n/home/pytorch/.conda/envs/pytorch/lib/python3.7/site-packages/scipy/stats/stats.py:338: RuntimeWarning: divide by zero encountered in log\n  log_a = np.log(a)\nSequential: 1500\nTrain g-mean: 0.8733663478827954, recalls: [0.94857143 0.80412371]\nTest g-mean: 0.7291196939156133, recalls: [0.55331412 0.96078431]\nSequential: 2000\nTrain g-mean: 0.8408004690614271, recalls: [0.9144385  0.77309237]\nTest g-mean: 0.7241368493234439, recalls: [0.54076087 0.96969697]\nSequential: 2500\nTrain g-mean: 0.8277768881708065, recalls: [0.89836066 0.76273885]\nTest g-mean: 0.6780911311418153, recalls: [0.48746518 0.94326241]\nSequential: 3000\nTrain g-mean: 0.8069760716081922, recalls: [0.83616299 0.77880795]\nTest g-mean: 0.6982120021884438, recalls: [0.5   0.975]\nSequential: 3500\nTrain g-mean: 0.7995561613537674, recalls: [0.75039662 0.85193622]\nTest g-mean: 0.711235544668568, recalls: [0.55466667 0.912     ]\nSequential: 4000\nTrain g-mean: 0.7926868804398461, recalls: [0.73873874 0.85057471]\nTest g-mean: 0.7219455969533017, recalls: [0.57821229 0.90140845]\nSequential: 4500\nTrain g-mean: 0.8019426666631594, recalls: [0.75206612 0.855127  ]\nTest g-mean: 0.6837847038745397, recalls: [0.48717949 0.95973154]\nSequential: 5000\nTrain g-mean: 0.7905933983807759, recalls: [0.72110286 0.86678053]\nTest g-mean: 0.6650538160554085, recalls: [0.44875346 0.98561151]\nSequential: 5500\nTrain g-mean: 0.7923781599229721, recalls: [0.72589792 0.86494689]\nTest g-mean: 0.6910813250385333, recalls: [0.48167539 0.99152542]\nSequential: 6000\nTrain g-mean: 0.7929441188722383, recalls: [0.73871601 0.85115304]\nTest g-mean: 0.662055326415217, recalls: [0.46394984 0.94475138]\nSequential: 6500\nTrain g-mean: 0.7957161532458334, recalls: [0.74876463 0.84561179]\nTest g-mean: 0.6768912897813164, recalls: [0.46363636 0.98823529]\nSequential: 7000\nTrain g-mean: 0.7859826044021397, recalls: [0.70554588 0.87558962]\nTest g-mean: 0.6817227808474329, recalls: [0.48195876 0.96428571]\nSequential: 7500\nTrain g-mean: 0.7872220718806385, recalls: [0.72801493 0.85124434]\nTest g-mean: 0.7124435118490107, recalls: [0.50757576 1.        ]\nSequential: 8000\nTrain g-mean: 0.7976676917141386, recalls: [0.74105771 0.85860215]\nTest g-mean: 0.6683754516149736, recalls: [0.45272206 0.98675497]\nSequential: 8500\nTrain g-mean: 0.7820101058132203, recalls: [0.70606352 0.86612576]\nTest g-mean: 0.6883415074372649, recalls: [0.5042735  0.93959732]\nSequential: 9000\nTrain g-mean: 0.7863574123176649, recalls: [0.73858487 0.83721994]\nTest g-mean: 0.7227641798688462, recalls: [0.52238806 1.        ]\nSequential: 9500\nTrain g-mean: 0.7865963104957394, recalls: [0.69884868 0.88536155]\nTest g-mean: 0.6730140011953565, recalls: [0.47959184 0.94444444]\nSequential: 10000\nTrain g-mean: 0.7847829587867811, recalls: [0.75467512 0.81609195]\nTest g-mean: 0.6696108543300014, recalls: [0.47043011 0.953125  ]\nSequential: 10500\nTrain g-mean: 0.7847855163993632, recalls: [0.7778965  0.79173554]\nTest g-mean: 0.6279764918599952, recalls: [0.40966921 0.96261682]\nSequential: 11000\nTrain g-mean: 0.7863175250642868, recalls: [0.71650513 0.86293206]\nTest g-mean: 0.6259912773873728, recalls: [0.40306122 0.97222222]\nSequential: 11500\nTrain g-mean: 0.7856648607574296, recalls: [0.70900723 0.87061069]\nTest g-mean: 0.7091357861639653, recalls: [0.52083333 0.96551724]\nSequential: 12000\nTrain g-mean: 0.7857006014672782, recalls: [0.73501502 0.83988139]\nTest g-mean: 0.7106615306881786, recalls: [0.56167979 0.89915966]\nSequential: 12500\nTrain g-mean: 0.7854942839078509, recalls: [0.73755869 0.83654532]\nTest g-mean: 0.7117721503390168, recalls: [0.54368932 0.93181818]\nSequential: 13000\nTrain g-mean: 0.783810116101726, recalls: [0.70651204 0.86956522]\nTest g-mean: 0.71011447992211, recalls: [0.50980392 0.98913043]\nSequential: 13500\nTrain g-mean: 0.7879555979941476, recalls: [0.74950131 0.82838284]\nTest g-mean: 0.7178569686580828, recalls: [0.60416667 0.85294118]\nSequential: 14000\nTrain g-mean: 0.7807544206229791, recalls: [0.72318374 0.84290815]\nTest g-mean: 0.7048224286749776, recalls: [0.54816514 0.90625   ]\nSequential: 14500\nTrain g-mean: 0.7846990590581598, recalls: [0.70368579 0.87503915]\nTest g-mean: 0.7149004783514536, recalls: [0.53431373 0.95652174]\nSequential: 15000\nTrain g-mean: 0.7904750574052841, recalls: [0.75085976 0.83218045]\nTest g-mean: 0.7222016331984751, recalls: [0.57373272 0.90909091]\nSequential: 15500\nTrain g-mean: 0.7920061924644208, recalls: [0.72483584 0.86540121]\nTest g-mean: 0.7724824567445812, recalls: [0.67688679 0.88157895]\nSequential: 16000\nTrain g-mean: 0.789526287802616, recalls: [0.74991744 0.83122718]\nTest g-mean: 0.7537503133556307, recalls: [0.81162791 0.7       ]\nSequential: 16500\nTrain g-mean: 0.7910440543001831, recalls: [0.72857827 0.85886544]\nTest g-mean: 0.7553052223681987, recalls: [0.65962441 0.86486486]\nSequential: 17000\nTrain g-mean: 0.789409039371395, recalls: [0.72680216 0.85740889]\nTest g-mean: 0.7091930787555746, recalls: [0.5956044  0.84444444]\nSequential: 17500\nTrain g-mean: 0.797975666982661, recalls: [0.75169351 0.84710744]\nTest g-mean: 0.6889316843283808, recalls: [0.79104478 0.6       ]\nFull test g-mean: 0.6944660184056254, recalls: [0.50768642 0.94996247]\n"
        }
      ],
      "source": [
        "# split dataset in chunks for testing and iterate over them (chunk from current to current + interval or end)\n",
        "# the previous chunks are used for training (chunks from start to current)\n",
        "seconds_by_day = 24 * 60 * 60\n",
        "verification_latency = 90 * seconds_by_day # seconds\n",
        "interval = 500 # commits\n",
        "end = len(df_prequential) # last commit\n",
        "n_chunks = math.ceil(end / interval)\n",
        "end = n_chunks * interval # last chunk end\n",
        "start = end - (n_chunks - 1) * interval # second chunk start\n",
        "#start = end - interval # last chunk start\n",
        "\n",
        "pipeline = create_pipeline()\n",
        "pipeline.save()\n",
        "predictions = []\n",
        "for current in range(start, end, interval):\n",
        "#for current in range(start, start+1, interval):\n",
        "    df_train = df_prequential[:current].copy()\n",
        "    df_test = df_prequential[current:min(current + interval, end)].copy()\n",
        "    # check if fix has been done (bug) or verification latency has passed (normal), otherwise exclude commit\n",
        "    train_timestamp = df_train['timestamp'].max()\n",
        "    df_train[label_col] = df_train.apply(lambda row: 1 if row.timestamp_fix <= train_timestamp else (0 if row.timestamp <= train_timestamp - verification_latency else None), axis='columns')\n",
        "    df_train = df_train.dropna(subset=[label_col])\n",
        "    df_train[label_col] = df_train[label_col].astype('int')\n",
        "    # convert to numpy array\n",
        "    X_train = df_train[features_cols].values\n",
        "    y_train = df_train[label_col].values\n",
        "    X_test = df_test[features_cols].values\n",
        "    y_test = df_test[label_col].values\n",
        "    # train and evaluate\n",
        "    pipeline = create_pipeline()\n",
        "    pipeline.load()\n",
        "    pipeline.train(X_train, y_train)\n",
        "    pipeline.save()\n",
        "    predictions_test = pipeline.predict(X_test)    \n",
        "    evaluate_train_test(current, y_train, pipeline.predict(X_train), y_test, predictions_test)\n",
        "    predictions.append(predictions_test)\n",
        "\n",
        "predictions = np.concatenate(predictions)\n",
        "targets = df_prequential[label_col][start:].values\n",
        "evaluate('Full test', targets, predictions)"
      ]
    },
    {
      "cell_type": "code",
      "execution_count": 0,
      "metadata": {
        "colab": {},
        "colab_type": "code",
        "id": "L_t4Gh43GYWl"
      },
      "outputs": [],
      "source": []
    }
  ]
}