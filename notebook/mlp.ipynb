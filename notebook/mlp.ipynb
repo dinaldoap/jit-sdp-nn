{
  "nbformat": 4,
  "nbformat_minor": 0,
  "metadata": {
    "colab": {
      "name": "JIT-SDP.ipynb",
      "provenance": [],
      "collapsed_sections": [],
      "include_colab_link": true
    },
    "kernelspec": {
      "name": "python37064bite406851a25184002a8fe65dca1936b2d",
      "display_name": "Python 3.7.0 64-bit"
    },
    "accelerator": "GPU"
  },
  "cells": [
    {
      "cell_type": "markdown",
      "metadata": {
        "colab_type": "text",
        "id": "view-in-github"
      },
      "source": [
        "<a href=\"https://colab.research.google.com/github/dinaldoap/jit-sdp-nn/blob/master/notebook/mlp.ipynb\" target=\"_parent\"><img src=\"https://colab.research.google.com/assets/colab-badge.svg\" alt=\"Open In Colab\"/></a>"
      ]
    },
    {
      "cell_type": "code",
      "execution_count": 21,
      "metadata": {},
      "outputs": [
        {
          "name": "stdout",
          "output_type": "stream",
          "text": "The autoreload extension is already loaded. To reload it, use:\n  %reload_ext autoreload\n"
        }
      ],
      "source": [
        "%load_ext autoreload\n",
        "%autoreload 2"
      ]
    },
    {
      "cell_type": "code",
      "execution_count": 22,
      "metadata": {},
      "outputs": [
        {
          "name": "stdout",
          "output_type": "stream",
          "text": "/workspace\n"
        }
      ],
      "source": [
        "%cd /workspace/"
      ]
    },
    {
      "cell_type": "code",
      "execution_count": 23,
      "metadata": {},
      "outputs": [],
      "source": [
        "import numpy as np\n",
        "import pandas as pd\n",
        "import torch\n",
        "import torch.nn as nn\n",
        "import torch.nn.functional as F\n",
        "import torch.optim as optim\n",
        "import torch.utils.data as data\n",
        "from sklearn.model_selection import train_test_split\n",
        "from sklearn.preprocessing import StandardScaler\n",
        "import random\n",
        "from scipy.stats import mstats\n",
        "import math\n",
        "import re\n",
        "\n",
        "from jitsdp import metrics\n",
        "from jitsdp.classifier import Classifier\n",
        "from jitsdp.pipeline import Pipeline\n",
        "\n",
        "import logging"
      ]
    },
    {
      "cell_type": "code",
      "execution_count": 24,
      "metadata": {},
      "outputs": [],
      "source": [
        "logging.getLogger('').handlers = []\n",
        "logging.basicConfig(filename='notebook/mlp.log', filemode='w', level=logging.DEBUG)"
      ]
    },
    {
      "cell_type": "code",
      "execution_count": 25,
      "metadata": {},
      "outputs": [
        {
          "data": {
            "text/html": "<div>\n<style scoped>\n    .dataframe tbody tr th:only-of-type {\n        vertical-align: middle;\n    }\n\n    .dataframe tbody tr th {\n        vertical-align: top;\n    }\n\n    .dataframe thead th {\n        text-align: right;\n    }\n</style>\n<table border=\"1\" class=\"dataframe\">\n  <thead>\n    <tr style=\"text-align: right;\">\n      <th></th>\n      <th>commit_hash</th>\n      <th>author_name</th>\n      <th>author_date_unix_timestamp</th>\n      <th>author_email</th>\n      <th>author_date</th>\n      <th>commit_message</th>\n      <th>fix</th>\n      <th>classification</th>\n      <th>linked</th>\n      <th>contains_bug</th>\n      <th>...</th>\n      <th>fileschanged</th>\n      <th>lt</th>\n      <th>ndev</th>\n      <th>age</th>\n      <th>nuc</th>\n      <th>exp</th>\n      <th>rexp</th>\n      <th>sexp</th>\n      <th>glm_probability</th>\n      <th>repository_id</th>\n    </tr>\n  </thead>\n  <tbody>\n    <tr>\n      <td>0</td>\n      <td>b96625a4b8e0aaaf58ca56082ed29dbc588e9379</td>\n      <td>ficristo</td>\n      <td>1512664331</td>\n      <td>ficristo.work@gmail.com</td>\n      <td>Thu Dec 7 17:32:11 2017 +0100</td>\n      <td>Remove PanelManager (#11589)</td>\n      <td>False</td>\n      <td>None</td>\n      <td>False</td>\n      <td>False</td>\n      <td>...</td>\n      <td>src/brackets.js,CAS_DELIMITER,src/search/Searc...</td>\n      <td>0.0</td>\n      <td>1.0</td>\n      <td>0.0</td>\n      <td>0.0</td>\n      <td>2.0</td>\n      <td>0.0</td>\n      <td>2.0</td>\n      <td>0.450896</td>\n      <td>62af12f4-9856-421d-a18b-16a4d7b39c63</td>\n    </tr>\n    <tr>\n      <td>1</td>\n      <td>51417390f9b7aedf983f0f847d578dd819765c6d</td>\n      <td>ficristo</td>\n      <td>1512664256</td>\n      <td>ficristo.work@gmail.com</td>\n      <td>Thu Dec 7 17:30:56 2017 +0100</td>\n      <td>Add wrapper functions to call the fs-extra one...</td>\n      <td>False</td>\n      <td>Feature Addition</td>\n      <td>False</td>\n      <td>False</td>\n      <td>...</td>\n      <td>test/node/TestingDomain.js,CAS_DELIMITER</td>\n      <td>0.0</td>\n      <td>1.0</td>\n      <td>0.0</td>\n      <td>0.0</td>\n      <td>0.0</td>\n      <td>0.0</td>\n      <td>0.0</td>\n      <td>0.401964</td>\n      <td>62af12f4-9856-421d-a18b-16a4d7b39c63</td>\n    </tr>\n    <tr>\n      <td>2</td>\n      <td>13af302a2a5bbbe459fa7ac060203dd410de97e9</td>\n      <td>Naveen Choudhary</td>\n      <td>1512657100</td>\n      <td>navch@users.noreply.github.com</td>\n      <td>Thu Dec 7 20:01:40 2017 +0530</td>\n      <td>Merge pull request #13945 from JungGaBin/fixtt...</td>\n      <td>False</td>\n      <td>Merge</td>\n      <td>False</td>\n      <td>False</td>\n      <td>...</td>\n      <td>NaN</td>\n      <td>0.0</td>\n      <td>0.0</td>\n      <td>0.0</td>\n      <td>0.0</td>\n      <td>0.0</td>\n      <td>0.0</td>\n      <td>0.0</td>\n      <td>0.201657</td>\n      <td>62af12f4-9856-421d-a18b-16a4d7b39c63</td>\n    </tr>\n    <tr>\n      <td>3</td>\n      <td>63e07fd375fcf6a29fe37b566464d4591f8f0b69</td>\n      <td>Prashanth Nethi</td>\n      <td>1512448426</td>\n      <td>prashant@adobe.com</td>\n      <td>Tue Dec 5 10:03:46 2017 +0530</td>\n      <td>Merge pull request #13852 from toryherman/1377...</td>\n      <td>False</td>\n      <td>Merge</td>\n      <td>False</td>\n      <td>False</td>\n      <td>...</td>\n      <td>NaN</td>\n      <td>0.0</td>\n      <td>0.0</td>\n      <td>0.0</td>\n      <td>0.0</td>\n      <td>0.0</td>\n      <td>0.0</td>\n      <td>0.0</td>\n      <td>0.201657</td>\n      <td>62af12f4-9856-421d-a18b-16a4d7b39c63</td>\n    </tr>\n    <tr>\n      <td>4</td>\n      <td>cf8dc16872045735ba485a90eec104b5517a909a</td>\n      <td>JungGaBin</td>\n      <td>1511896569</td>\n      <td>jgb5131@naver.com</td>\n      <td>Wed Nov 29 04:16:09 2017 +0900</td>\n      <td>Correct typo (#13938)Inpsector -&gt; Inspector</td>\n      <td>False</td>\n      <td>None</td>\n      <td>False</td>\n      <td>False</td>\n      <td>...</td>\n      <td>test/spec/LiveDevelopment-test.js,CAS_DELIMITER</td>\n      <td>0.0</td>\n      <td>1.0</td>\n      <td>0.0</td>\n      <td>0.0</td>\n      <td>3.0</td>\n      <td>0.0</td>\n      <td>1.0</td>\n      <td>0.402032</td>\n      <td>62af12f4-9856-421d-a18b-16a4d7b39c63</td>\n    </tr>\n  </tbody>\n</table>\n<p>5 rows × 27 columns</p>\n</div>",
            "text/plain": "                                commit_hash       author_name  \\\n0  b96625a4b8e0aaaf58ca56082ed29dbc588e9379          ficristo   \n1  51417390f9b7aedf983f0f847d578dd819765c6d          ficristo   \n2  13af302a2a5bbbe459fa7ac060203dd410de97e9  Naveen Choudhary   \n3  63e07fd375fcf6a29fe37b566464d4591f8f0b69   Prashanth Nethi   \n4  cf8dc16872045735ba485a90eec104b5517a909a         JungGaBin   \n\n   author_date_unix_timestamp                    author_email  \\\n0                  1512664331         ficristo.work@gmail.com   \n1                  1512664256         ficristo.work@gmail.com   \n2                  1512657100  navch@users.noreply.github.com   \n3                  1512448426              prashant@adobe.com   \n4                  1511896569               jgb5131@naver.com   \n\n                      author_date  \\\n0   Thu Dec 7 17:32:11 2017 +0100   \n1   Thu Dec 7 17:30:56 2017 +0100   \n2   Thu Dec 7 20:01:40 2017 +0530   \n3   Tue Dec 5 10:03:46 2017 +0530   \n4  Wed Nov 29 04:16:09 2017 +0900   \n\n                                      commit_message    fix    classification  \\\n0                       Remove PanelManager (#11589)  False              None   \n1  Add wrapper functions to call the fs-extra one...  False  Feature Addition   \n2  Merge pull request #13945 from JungGaBin/fixtt...  False             Merge   \n3  Merge pull request #13852 from toryherman/1377...  False             Merge   \n4        Correct typo (#13938)Inpsector -> Inspector  False              None   \n\n   linked  contains_bug  ...  \\\n0   False         False  ...   \n1   False         False  ...   \n2   False         False  ...   \n3   False         False  ...   \n4   False         False  ...   \n\n                                        fileschanged   lt  ndev  age  nuc  \\\n0  src/brackets.js,CAS_DELIMITER,src/search/Searc...  0.0   1.0  0.0  0.0   \n1           test/node/TestingDomain.js,CAS_DELIMITER  0.0   1.0  0.0  0.0   \n2                                                NaN  0.0   0.0  0.0  0.0   \n3                                                NaN  0.0   0.0  0.0  0.0   \n4    test/spec/LiveDevelopment-test.js,CAS_DELIMITER  0.0   1.0  0.0  0.0   \n\n   exp  rexp sexp  glm_probability                         repository_id  \n0  2.0   0.0  2.0         0.450896  62af12f4-9856-421d-a18b-16a4d7b39c63  \n1  0.0   0.0  0.0         0.401964  62af12f4-9856-421d-a18b-16a4d7b39c63  \n2  0.0   0.0  0.0         0.201657  62af12f4-9856-421d-a18b-16a4d7b39c63  \n3  0.0   0.0  0.0         0.201657  62af12f4-9856-421d-a18b-16a4d7b39c63  \n4  3.0   0.0  1.0         0.402032  62af12f4-9856-421d-a18b-16a4d7b39c63  \n\n[5 rows x 27 columns]"
          },
          "execution_count": 25,
          "metadata": {},
          "output_type": "execute_result"
        }
      ],
      "source": [
        "df = pd.read_csv('https://raw.githubusercontent.com/dinaldoap/jit-sdp-data/master/brackets.csv')\n",
        "df.head()"
      ]
    },
    {
      "cell_type": "code",
      "execution_count": 26,
      "metadata": {},
      "outputs": [
        {
          "data": {
            "text/html": "<div>\n<style scoped>\n    .dataframe tbody tr th:only-of-type {\n        vertical-align: middle;\n    }\n\n    .dataframe tbody tr th {\n        vertical-align: top;\n    }\n\n    .dataframe thead th {\n        text-align: right;\n    }\n</style>\n<table border=\"1\" class=\"dataframe\">\n  <thead>\n    <tr style=\"text-align: right;\">\n      <th></th>\n      <th>commit_hash</th>\n      <th>author_date_unix_timestamp</th>\n      <th>fixes</th>\n      <th>fix</th>\n      <th>ns</th>\n      <th>nd</th>\n      <th>nf</th>\n      <th>entrophy</th>\n      <th>la</th>\n      <th>ld</th>\n      <th>...</th>\n      <th>nuc</th>\n      <th>exp</th>\n      <th>rexp</th>\n      <th>sexp</th>\n      <th>contains_bug</th>\n      <th>seq</th>\n      <th>day</th>\n      <th>commit_hash_fix</th>\n      <th>day_fix</th>\n      <th>seq_fix</th>\n    </tr>\n  </thead>\n  <tbody>\n    <tr>\n      <td>17571</td>\n      <td>637d7f4ffa0f2396c2fb61a5e51b9b980f47a2c2</td>\n      <td>1323292816</td>\n      <td>NaN</td>\n      <td>False</td>\n      <td>2.0</td>\n      <td>5.0</td>\n      <td>23.0</td>\n      <td>3.630787</td>\n      <td>3754.0</td>\n      <td>0.0</td>\n      <td>...</td>\n      <td>0.0</td>\n      <td>11.0</td>\n      <td>0.000000</td>\n      <td>21.0</td>\n      <td>0</td>\n      <td>0</td>\n      <td>0</td>\n      <td>NaN</td>\n      <td>NaN</td>\n      <td>NaN</td>\n    </tr>\n    <tr>\n      <td>17570</td>\n      <td>c8142d2dc17fc1d3777689d67d32d010f5d8dfa7</td>\n      <td>1323292845</td>\n      <td>NaN</td>\n      <td>False</td>\n      <td>2.0</td>\n      <td>2.0</td>\n      <td>2.0</td>\n      <td>0.811278</td>\n      <td>4.0</td>\n      <td>0.0</td>\n      <td>...</td>\n      <td>0.0</td>\n      <td>23.5</td>\n      <td>0.000000</td>\n      <td>22.0</td>\n      <td>0</td>\n      <td>1</td>\n      <td>0</td>\n      <td>NaN</td>\n      <td>NaN</td>\n      <td>NaN</td>\n    </tr>\n    <tr>\n      <td>17569</td>\n      <td>af90ea5adf06c935ce1d5db4ce996054c94aeed7</td>\n      <td>1323294546</td>\n      <td>NaN</td>\n      <td>True</td>\n      <td>1.0</td>\n      <td>1.0</td>\n      <td>1.0</td>\n      <td>0.000000</td>\n      <td>1.0</td>\n      <td>1.0</td>\n      <td>...</td>\n      <td>1.0</td>\n      <td>25.0</td>\n      <td>51.793651</td>\n      <td>2.0</td>\n      <td>0</td>\n      <td>2</td>\n      <td>0</td>\n      <td>NaN</td>\n      <td>NaN</td>\n      <td>NaN</td>\n    </tr>\n    <tr>\n      <td>17568</td>\n      <td>82f3f98077bde9ac7c4ff285c593a2f351da5bf2</td>\n      <td>1323295924</td>\n      <td>NaN</td>\n      <td>False</td>\n      <td>1.0</td>\n      <td>1.0</td>\n      <td>1.0</td>\n      <td>0.000000</td>\n      <td>2.0</td>\n      <td>3.0</td>\n      <td>...</td>\n      <td>1.0</td>\n      <td>26.0</td>\n      <td>28.799228</td>\n      <td>3.0</td>\n      <td>0</td>\n      <td>3</td>\n      <td>0</td>\n      <td>NaN</td>\n      <td>NaN</td>\n      <td>NaN</td>\n    </tr>\n    <tr>\n      <td>17567</td>\n      <td>a454a7bce095b18da240cddf844bfea5a334b7cb</td>\n      <td>1323301755</td>\n      <td>NaN</td>\n      <td>False</td>\n      <td>1.0</td>\n      <td>1.0</td>\n      <td>2.0</td>\n      <td>0.000000</td>\n      <td>5.0</td>\n      <td>0.0</td>\n      <td>...</td>\n      <td>0.0</td>\n      <td>0.5</td>\n      <td>0.000000</td>\n      <td>1.0</td>\n      <td>0</td>\n      <td>4</td>\n      <td>0</td>\n      <td>NaN</td>\n      <td>NaN</td>\n      <td>NaN</td>\n    </tr>\n  </tbody>\n</table>\n<p>5 rows × 23 columns</p>\n</div>",
            "text/plain": "                                    commit_hash  author_date_unix_timestamp  \\\n17571  637d7f4ffa0f2396c2fb61a5e51b9b980f47a2c2                  1323292816   \n17570  c8142d2dc17fc1d3777689d67d32d010f5d8dfa7                  1323292845   \n17569  af90ea5adf06c935ce1d5db4ce996054c94aeed7                  1323294546   \n17568  82f3f98077bde9ac7c4ff285c593a2f351da5bf2                  1323295924   \n17567  a454a7bce095b18da240cddf844bfea5a334b7cb                  1323301755   \n\n      fixes    fix   ns   nd    nf  entrophy      la   ld  ...  nuc   exp  \\\n17571   NaN  False  2.0  5.0  23.0  3.630787  3754.0  0.0  ...  0.0  11.0   \n17570   NaN  False  2.0  2.0   2.0  0.811278     4.0  0.0  ...  0.0  23.5   \n17569   NaN   True  1.0  1.0   1.0  0.000000     1.0  1.0  ...  1.0  25.0   \n17568   NaN  False  1.0  1.0   1.0  0.000000     2.0  3.0  ...  1.0  26.0   \n17567   NaN  False  1.0  1.0   2.0  0.000000     5.0  0.0  ...  0.0   0.5   \n\n            rexp  sexp  contains_bug  seq  day  commit_hash_fix  day_fix  \\\n17571   0.000000  21.0             0    0    0              NaN      NaN   \n17570   0.000000  22.0             0    1    0              NaN      NaN   \n17569  51.793651   2.0             0    2    0              NaN      NaN   \n17568  28.799228   3.0             0    3    0              NaN      NaN   \n17567   0.000000   1.0             0    4    0              NaN      NaN   \n\n       seq_fix  \n17571      NaN  \n17570      NaN  \n17569      NaN  \n17568      NaN  \n17567      NaN  \n\n[5 rows x 23 columns]"
          },
          "execution_count": 26,
          "metadata": {},
          "output_type": "execute_result"
        }
      ],
      "source": [
        "label_col = 'contains_bug'\n",
        "features_cols = ['fix', 'ns', 'nd', 'nf', 'entrophy', 'la', 'ld', 'lt', 'ndev', 'age', 'nuc', 'exp', 'rexp', 'sexp']\n",
        "preprocess_cols = ['commit_hash', 'author_date_unix_timestamp', 'fixes'] + features_cols + [label_col]\n",
        "seconds_by_day = 24 * 60 * 60\n",
        "df_preprocess = df[preprocess_cols].copy()\n",
        "# filter rows with missing data \n",
        "df_preprocess = df_preprocess.dropna(subset=['fix'])\n",
        "# timeline order\n",
        "df_preprocess = df_preprocess[::-1]\n",
        "# add sequencial\n",
        "df_preprocess['seq'] = range(len(df_preprocess))\n",
        "# contains_bug\n",
        "df_preprocess[label_col] = df_preprocess[label_col].astype('int')\n",
        "# day\n",
        "first_timestamp = df_preprocess['author_date_unix_timestamp'].min()\n",
        "df_preprocess['day'] = df_preprocess['author_date_unix_timestamp'] - first_timestamp\n",
        "df_preprocess['day'] = df_preprocess['day'] / seconds_by_day\n",
        "df_preprocess['day'] = df_preprocess['day'].astype('int')\n",
        "# fixes\n",
        "df_preprocess['commit_hash_fix'] = df_preprocess['fixes'].dropna().apply(lambda x: re.findall('\\\\b\\\\w+\\\\b', x)[0])\n",
        "df_fix = df_preprocess[['commit_hash', 'day', 'seq']].set_index('commit_hash')\n",
        "df_preprocess = df_preprocess.join(df_fix, on='commit_hash_fix', how='left', rsuffix='_fix')\n",
        "df_preprocess.head()\n",
        "\n"
      ]
    },
    {
      "cell_type": "code",
      "execution_count": 27,
      "metadata": {},
      "outputs": [],
      "source": [
        "prequential_cols = ['day', 'day_fix', 'seq', 'seq_fix'] + features_cols + [label_col]\n",
        "# TODO: exclude last commits which aren't labeled\n",
        "df_prequential = df_preprocess[prequential_cols].copy()"
      ]
    },
    {
      "cell_type": "code",
      "execution_count": 31,
      "metadata": {},
      "outputs": [],
      "source": [
        "def create_pipeline():\n",
        "    scaler = StandardScaler()\n",
        "    criterion = nn.BCELoss()\n",
        "    classifier = Classifier(input_size=len(features_cols), hidden_size=len(features_cols) // 2, drop_prob=0.2)\n",
        "    optimizer = optim.Adam(params=classifier.parameters(), lr=0.003)\n",
        "    return Pipeline(steps=[scaler], classifier=classifier, optimizer=optimizer, criterion=criterion,\n",
        "                    max_epochs=50, batch_size=128, fading_factor=0.9999)"
      ]
    },
    {
      "cell_type": "code",
      "execution_count": 29,
      "metadata": {},
      "outputs": [],
      "source": [
        "  def evaluate(label, targets, predictions):\n",
        "    gmean, recalls = metrics.gmean_recalls(targets, predictions)\n",
        "    print('{} g-mean: {}, recalls: {}'.format(label, gmean, recalls))\n",
        "  \n",
        "  def evaluate_train_test(seq, targets_train, predictions_train, targets_test, predictions_test):\n",
        "    print('Sequential: {}'.format(seq))\n",
        "    evaluate('Train', targets_train, predictions_train)\n",
        "    evaluate('Test', targets_test, predictions_test)"
      ]
    },
    {
      "cell_type": "code",
      "execution_count": 30,
      "metadata": {},
      "outputs": [
        {
          "name": "stdout",
          "output_type": "stream",
          "text": "Sequential: 500\nTrain g-mean: 0.6715909347807777, recalls: [0.52538071 0.85849057]\nTest g-mean: 0.690173638211062, recalls: [0.52959502 0.89944134]\nSequential: 1000\nTrain g-mean: 0.709654523418258, recalls: [0.59001314 0.85355649]\nTest g-mean: 0.7212653826099367, recalls: [0.56024096 0.92857143]\nSequential: 1500\nTrain g-mean: 0.7602348086778485, recalls: [0.72571942 0.79639175]\nTest g-mean: 0.7593508666453864, recalls: [0.72910663 0.79084967]\nSequential: 2000\nTrain g-mean: 0.7650515878727312, recalls: [0.71970706 0.81325301]\nTest g-mean: 0.698200208365614, recalls: [0.80434783 0.60606061]\nSequential: 2500\nTrain g-mean: 0.78641391123531, recalls: [0.73557692 0.84076433]\nTest g-mean: 0.6853935495365391, recalls: [0.83844011 0.56028369]\nSequential: 3000\nTrain g-mean: 0.7855071546411762, recalls: [0.74298441 0.83046358]\nTest g-mean: 0.692661108887096, recalls: [0.85294118 0.5625    ]\nSequential: 3500\nTrain g-mean: 0.7814014709494098, recalls: [0.74561404 0.81890661]\nTest g-mean: 0.5576522213709874, recalls: [0.904 0.344]\nSequential: 4000\nTrain g-mean: 0.7927546005220758, recalls: [0.75747617 0.82967607]\nTest g-mean: 0.5164688813830792, recalls: [0.94692737 0.28169014]\nSequential: 4500\nTrain g-mean: 0.7925478362730529, recalls: [0.77102124 0.81467545]\nTest g-mean: 0.6137895444902274, recalls: [0.92022792 0.40939597]\nSequential: 5000\nTrain g-mean: 0.7917734760171667, recalls: [0.79707495 0.78650726]\nTest g-mean: 0.6241197791406693, recalls: [0.93351801 0.41726619]\nSequential: 5500\nTrain g-mean: 0.7906581646613596, recalls: [0.75729316 0.82549317]\nTest g-mean: 0.6603510711260143, recalls: [0.91884817 0.47457627]\nSequential: 6000\nTrain g-mean: 0.788089251424684, recalls: [0.75640184 0.82110412]\nTest g-mean: 0.677569505449318, recalls: [0.88401254 0.51933702]\nSequential: 6500\nTrain g-mean: 0.792566700380516, recalls: [0.80704596 0.77834721]\nTest g-mean: 0.7125310763463961, recalls: [0.91818182 0.55294118]\nSequential: 7000\nTrain g-mean: 0.7894262349421401, recalls: [0.77036199 0.80896226]\nTest g-mean: 0.6938843675021884, recalls: [0.88402062 0.54464286]\nSequential: 7500\nTrain g-mean: 0.7903259856420851, recalls: [0.7461619  0.83710407]\nTest g-mean: 0.7556604576611907, recalls: [0.88636364 0.64423077]\nSequential: 8000\nTrain g-mean: 0.789551660852528, recalls: [0.7509772  0.83010753]\nTest g-mean: 0.766972265658601, recalls: [0.88825215 0.66225166]\nSequential: 8500\nTrain g-mean: 0.793389531725385, recalls: [0.74019608 0.85040568]\nTest g-mean: 0.8167073169180495, recalls: [0.87179487 0.76510067]\nSequential: 9000\nTrain g-mean: 0.7873276857848068, recalls: [0.73359753 0.84499314]\nTest g-mean: 0.7974028815269932, recalls: [0.83084577 0.76530612]\nSequential: 9500\nTrain g-mean: 0.7929695550411598, recalls: [0.76673119 0.82010582]\nTest g-mean: 0.7742977702647929, recalls: [0.875      0.68518519]\nSequential: 10000\nTrain g-mean: 0.7929244850401993, recalls: [0.73807345 0.85185185]\nTest g-mean: 0.6986209534211916, recalls: [0.89247312 0.546875  ]\nSequential: 10500\nTrain g-mean: 0.7876854756038167, recalls: [0.74257426 0.83553719]\nTest g-mean: 0.748036517281031, recalls: [0.92111959 0.60747664]\nSequential: 11000\nTrain g-mean: 0.7877250410731165, recalls: [0.73016621 0.84982122]\nTest g-mean: 0.7682953714410694, recalls: [0.91071429 0.64814815]\nSequential: 11500\nTrain g-mean: 0.7948970032575114, recalls: [0.76677928 0.8240458 ]\nTest g-mean: 0.7493411857382937, recalls: [0.88020833 0.63793103]\nSequential: 12000\nTrain g-mean: 0.7931978455709656, recalls: [0.74811868 0.84099333]\nTest g-mean: 0.7245235560022144, recalls: [0.91863517 0.57142857]\nSequential: 12500\nTrain g-mean: 0.7938099453358796, recalls: [0.76335327 0.8254818 ]\nTest g-mean: 0.799623421959457, recalls: [0.83980583 0.76136364]\nSequential: 13000\nTrain g-mean: 0.7938926315807303, recalls: [0.74084731 0.85073605]\nTest g-mean: 0.7878350990039084, recalls: [0.86519608 0.7173913 ]\nSequential: 13500\nTrain g-mean: 0.7939875200652386, recalls: [0.76590258 0.82310231]\nTest g-mean: 0.7263425702874339, recalls: [0.875      0.60294118]\nSequential: 14000\nTrain g-mean: 0.7939845712239187, recalls: [0.73294258 0.86011035]\nTest g-mean: 0.7452544821195348, recalls: [0.86697248 0.640625  ]\nSequential: 14500\nTrain g-mean: 0.7970378460033303, recalls: [0.75210047 0.84466019]\nTest g-mean: 0.7522345229339042, recalls: [0.86764706 0.65217391]\nSequential: 15000\nTrain g-mean: 0.7933708206763356, recalls: [0.72745182 0.86526316]\nTest g-mean: 0.745277924315106, recalls: [0.85253456 0.65151515]\nSequential: 15500\nTrain g-mean: 0.7934487289647529, recalls: [0.73234634 0.85964912]\nTest g-mean: 0.7088600860878351, recalls: [0.86792453 0.57894737]\nSequential: 16000\nTrain g-mean: 0.7962246411827681, recalls: [0.7583407  0.83600112]\nTest g-mean: 0.7194497712988158, recalls: [0.88372093 0.58571429]\nSequential: 16500\nTrain g-mean: 0.7977202489408914, recalls: [0.75612793 0.84160044]\nTest g-mean: 0.7598275470668026, recalls: [0.85446009 0.67567568]\nSequential: 17000\nTrain g-mean: 0.7968357477818624, recalls: [0.76942829 0.82521947]\nTest g-mean: 0.6908436561661007, recalls: [0.76703297 0.62222222]\nSequential: 17500\nTrain g-mean: 0.8051730266288768, recalls: [0.78955625 0.82109869]\nTest g-mean: 0.720696180838025, recalls: [0.86567164 0.6       ]\nFull test g-mean: 0.7251543835403707, recalls: [0.85613767 0.61421066]\n"
        }
      ],
      "source": [
        "# split dataset in chunks for testing and iterate over them (chunk from current to current + interval or end)\n",
        "# the previous chunks are used for training (chunks from start to current)\n",
        "verification_latency = 0 # days\n",
        "interval = 500 # commits\n",
        "end = len(df_prequential) # last commit\n",
        "n_chunks = math.ceil(end / interval)\n",
        "end = n_chunks * interval # last chunk end\n",
        "start = end - (n_chunks - 1) * interval # second chunk start\n",
        "#start = end - interval # last chunk start\n",
        "\n",
        "pipeline = create_pipeline()\n",
        "pipeline.save()\n",
        "predictions = []\n",
        "for current in range(start, end, interval):\n",
        "#for current in range(start, start+1, interval):\n",
        "    df_train = df_prequential[:current].copy()\n",
        "    df_test = df_prequential[current:min(current + interval, end)].copy()\n",
        "    # check if fix has been done (bug) or verification latency has passed (normal), otherwise exclude commit\n",
        "    train_day = df_train['day'].max()\n",
        "    train_seq = df_train['seq'].max()\n",
        "    df_train[label_col] = df_train.apply(lambda row: 1 if row.seq_fix <= train_seq else (0 if row.day <= train_day - verification_latency else None), axis='columns')\n",
        "    df_train = df_train.dropna(subset=[label_col])\n",
        "    df_train[label_col] = df_train[label_col].astype('int')\n",
        "    # convert to numpy array\n",
        "    X_train = df_train[features_cols].values\n",
        "    y_train = df_train[label_col].values\n",
        "    X_test = df_test[features_cols].values\n",
        "    y_test = df_test[label_col].values\n",
        "    # train and evaluate\n",
        "    pipeline = create_pipeline()\n",
        "    pipeline.load()\n",
        "    pipeline.train(X_train, y_train)\n",
        "    pipeline.save()\n",
        "    predictions_test = pipeline.predict(X_test)    \n",
        "    evaluate_train_test(current, y_train, pipeline.predict(X_train), y_test, predictions_test)\n",
        "    predictions.append(predictions_test)\n",
        "\n",
        "predictions = np.concatenate(predictions)\n",
        "targets = df_prequential[label_col][start:].values\n",
        "evaluate('Full test', targets, predictions)"
      ]
    },
    {
      "cell_type": "code",
      "execution_count": 0,
      "metadata": {
        "colab": {},
        "colab_type": "code",
        "id": "L_t4Gh43GYWl"
      },
      "outputs": [],
      "source": []
    }
  ]
}