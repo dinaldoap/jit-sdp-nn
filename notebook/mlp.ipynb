{
  "nbformat": 4,
  "nbformat_minor": 0,
  "metadata": {
    "colab": {
      "name": "JIT-SDP.ipynb",
      "provenance": [],
      "collapsed_sections": [],
      "include_colab_link": true
    },
    "kernelspec": {
      "name": "python3",
      "display_name": "Python 3"
    },
    "accelerator": "GPU"
  },
  "cells": [
    {
      "cell_type": "markdown",
      "metadata": {
        "id": "view-in-github",
        "colab_type": "text"
      },
      "source": [
        "<a href=\"https://colab.research.google.com/github/dinaldoap/jit-sdp-nn/blob/master/notebook/mlp.ipynb\" target=\"_parent\"><img src=\"https://colab.research.google.com/assets/colab-badge.svg\" alt=\"Open In Colab\"/></a>"
      ]
    },
    {
      "cell_type": "code",
      "metadata": {
        "id": "OXwvNEAQE6NO",
        "colab_type": "code",
        "colab": {}
      },
      "source": [
        "import numpy as np\n",
        "import pandas as pd\n",
        "import torch\n",
        "import torch.nn as nn\n",
        "import torch.nn.functional as F\n",
        "import torch.optim as optim\n",
        "import torch.utils.data as data\n",
        "import random\n",
        "from scipy.stats import mstats"
      ],
      "execution_count": 0,
      "outputs": []
    },
    {
      "cell_type": "code",
      "metadata": {
        "id": "zAupgTDfmJ_I",
        "colab_type": "code",
        "outputId": "90810c01-b7b3-44e9-fd22-a87ad2d17cc2",
        "colab": {
          "base_uri": "https://localhost:8080/",
          "height": 204
        }
      },
      "source": [
        "df = pd.read_csv('https://raw.githubusercontent.com/dinaldoap/jit-sdp-data/master/jenkins.csv')\n",
        "df.head()"
      ],
      "execution_count": 438,
      "outputs": [
        {
          "output_type": "execute_result",
          "data": {
            "text/html": [
              "<div>\n",
              "<style scoped>\n",
              "    .dataframe tbody tr th:only-of-type {\n",
              "        vertical-align: middle;\n",
              "    }\n",
              "\n",
              "    .dataframe tbody tr th {\n",
              "        vertical-align: top;\n",
              "    }\n",
              "\n",
              "    .dataframe thead th {\n",
              "        text-align: right;\n",
              "    }\n",
              "</style>\n",
              "<table border=\"1\" class=\"dataframe\">\n",
              "  <thead>\n",
              "    <tr style=\"text-align: right;\">\n",
              "      <th></th>\n",
              "      <th>fix</th>\n",
              "      <th>ns</th>\n",
              "      <th>nd</th>\n",
              "      <th>nf</th>\n",
              "      <th>entropy</th>\n",
              "      <th>la</th>\n",
              "      <th>ld</th>\n",
              "      <th>lt</th>\n",
              "      <th>ndev</th>\n",
              "      <th>age</th>\n",
              "      <th>nuc</th>\n",
              "      <th>exp</th>\n",
              "      <th>rexp</th>\n",
              "      <th>sexp</th>\n",
              "      <th>author_date_unix_timestamp</th>\n",
              "      <th>classification</th>\n",
              "      <th>contains_bug</th>\n",
              "    </tr>\n",
              "  </thead>\n",
              "  <tbody>\n",
              "    <tr>\n",
              "      <th>0</th>\n",
              "      <td>False</td>\n",
              "      <td>7.0</td>\n",
              "      <td>7.0</td>\n",
              "      <td>7.0</td>\n",
              "      <td>2.641604</td>\n",
              "      <td>9.0</td>\n",
              "      <td>9.0</td>\n",
              "      <td>426.428571</td>\n",
              "      <td>100.0</td>\n",
              "      <td>0.000093</td>\n",
              "      <td>1.0</td>\n",
              "      <td>5171.0</td>\n",
              "      <td>30.227271</td>\n",
              "      <td>1472.714286</td>\n",
              "      <td>1555326371</td>\n",
              "      <td>None</td>\n",
              "      <td>False</td>\n",
              "    </tr>\n",
              "    <tr>\n",
              "      <th>1</th>\n",
              "      <td>False</td>\n",
              "      <td>7.0</td>\n",
              "      <td>7.0</td>\n",
              "      <td>7.0</td>\n",
              "      <td>2.750000</td>\n",
              "      <td>8.0</td>\n",
              "      <td>8.0</td>\n",
              "      <td>426.428571</td>\n",
              "      <td>100.0</td>\n",
              "      <td>6.314775</td>\n",
              "      <td>2.0</td>\n",
              "      <td>5170.0</td>\n",
              "      <td>29.227271</td>\n",
              "      <td>1471.714286</td>\n",
              "      <td>1555326363</td>\n",
              "      <td>None</td>\n",
              "      <td>False</td>\n",
              "    </tr>\n",
              "    <tr>\n",
              "      <th>2</th>\n",
              "      <td>False</td>\n",
              "      <td>1.0</td>\n",
              "      <td>1.0</td>\n",
              "      <td>2.0</td>\n",
              "      <td>0.906580</td>\n",
              "      <td>15.0</td>\n",
              "      <td>44.0</td>\n",
              "      <td>96.000000</td>\n",
              "      <td>4.0</td>\n",
              "      <td>0.034722</td>\n",
              "      <td>2.0</td>\n",
              "      <td>629.0</td>\n",
              "      <td>14.828373</td>\n",
              "      <td>414.000000</td>\n",
              "      <td>1554971763</td>\n",
              "      <td>None</td>\n",
              "      <td>False</td>\n",
              "    </tr>\n",
              "    <tr>\n",
              "      <th>3</th>\n",
              "      <td>False</td>\n",
              "      <td>1.0</td>\n",
              "      <td>1.0</td>\n",
              "      <td>1.0</td>\n",
              "      <td>0.000000</td>\n",
              "      <td>0.0</td>\n",
              "      <td>0.0</td>\n",
              "      <td>40.000000</td>\n",
              "      <td>1.0</td>\n",
              "      <td>0.000012</td>\n",
              "      <td>1.0</td>\n",
              "      <td>4.0</td>\n",
              "      <td>3.058824</td>\n",
              "      <td>3.000000</td>\n",
              "      <td>1554969774</td>\n",
              "      <td>None</td>\n",
              "      <td>False</td>\n",
              "    </tr>\n",
              "    <tr>\n",
              "      <th>4</th>\n",
              "      <td>False</td>\n",
              "      <td>1.0</td>\n",
              "      <td>2.0</td>\n",
              "      <td>4.0</td>\n",
              "      <td>1.662506</td>\n",
              "      <td>14.0</td>\n",
              "      <td>10.0</td>\n",
              "      <td>67.000000</td>\n",
              "      <td>6.0</td>\n",
              "      <td>21.280683</td>\n",
              "      <td>4.0</td>\n",
              "      <td>3.0</td>\n",
              "      <td>2.058824</td>\n",
              "      <td>2.000000</td>\n",
              "      <td>1554967752</td>\n",
              "      <td>Feature Addition</td>\n",
              "      <td>False</td>\n",
              "    </tr>\n",
              "  </tbody>\n",
              "</table>\n",
              "</div>"
            ],
            "text/plain": [
              "     fix   ns   nd  ...  author_date_unix_timestamp    classification  contains_bug\n",
              "0  False  7.0  7.0  ...                  1555326371              None         False\n",
              "1  False  7.0  7.0  ...                  1555326363              None         False\n",
              "2  False  1.0  1.0  ...                  1554971763              None         False\n",
              "3  False  1.0  1.0  ...                  1554969774              None         False\n",
              "4  False  1.0  2.0  ...                  1554967752  Feature Addition         False\n",
              "\n",
              "[5 rows x 17 columns]"
            ]
          },
          "metadata": {
            "tags": []
          },
          "execution_count": 438
        }
      ]
    },
    {
      "cell_type": "code",
      "metadata": {
        "id": "alizaxdPD3El",
        "colab_type": "code",
        "outputId": "96b71b30-d6bf-48b3-f469-fdcff3314779",
        "colab": {
          "base_uri": "https://localhost:8080/",
          "height": 119
        }
      },
      "source": [
        "#df = df.sample(frac=1)\n",
        "label_col = 'contains_bug'\n",
        "features_cols = ['fix', 'ns', 'nd', 'nf', 'entropy', 'la', 'ld', 'lt', 'ndev', 'age', 'nuc', 'exp', 'rexp', 'sexp', 'classification']\n",
        "x = df[features_cols]\n",
        "x['fix'] = x['fix'].astype('int')\n",
        "df_classification = pd.get_dummies(x, columns=['classification'])\n",
        "x = pd.concat([x, df_classification], axis='columns')\n",
        "x = x.drop(['classification'], axis='columns')\n",
        "x = x.values\n",
        "y = df[label_col]\n",
        "y = y.astype('category')\n",
        "y = y.cat.codes\n",
        "y = y.values"
      ],
      "execution_count": 439,
      "outputs": [
        {
          "output_type": "stream",
          "text": [
            "/usr/local/lib/python3.6/dist-packages/ipykernel_launcher.py:4: SettingWithCopyWarning: \n",
            "A value is trying to be set on a copy of a slice from a DataFrame.\n",
            "Try using .loc[row_indexer,col_indexer] = value instead\n",
            "\n",
            "See the caveats in the documentation: http://pandas.pydata.org/pandas-docs/stable/user_guide/indexing.html#returning-a-view-versus-a-copy\n",
            "  after removing the cwd from sys.path.\n"
          ],
          "name": "stderr"
        }
      ]
    },
    {
      "cell_type": "code",
      "metadata": {
        "id": "EBD1-tp2ExzQ",
        "colab_type": "code",
        "outputId": "193271d9-e6f2-427a-e875-f08caaddd0e5",
        "colab": {
          "base_uri": "https://localhost:8080/",
          "height": 493
        }
      },
      "source": [
        "print(x[:3])\n",
        "print(y[:3])"
      ],
      "execution_count": 440,
      "outputs": [
        {
          "output_type": "stream",
          "text": [
            "[[0.00000000e+00 7.00000000e+00 7.00000000e+00 7.00000000e+00\n",
            "  2.64160417e+00 9.00000000e+00 9.00000000e+00 4.26428571e+02\n",
            "  1.00000000e+02 9.25925926e-05 1.00000000e+00 5.17100000e+03\n",
            "  3.02272705e+01 1.47271429e+03 0.00000000e+00 7.00000000e+00\n",
            "  7.00000000e+00 7.00000000e+00 2.64160417e+00 9.00000000e+00\n",
            "  9.00000000e+00 4.26428571e+02 1.00000000e+02 9.25925926e-05\n",
            "  1.00000000e+00 5.17100000e+03 3.02272705e+01 1.47271429e+03\n",
            "  0.00000000e+00 0.00000000e+00 0.00000000e+00 1.00000000e+00\n",
            "  0.00000000e+00 0.00000000e+00]\n",
            " [0.00000000e+00 7.00000000e+00 7.00000000e+00 7.00000000e+00\n",
            "  2.75000000e+00 8.00000000e+00 8.00000000e+00 4.26428571e+02\n",
            "  1.00000000e+02 6.31477513e+00 2.00000000e+00 5.17000000e+03\n",
            "  2.92272705e+01 1.47171429e+03 0.00000000e+00 7.00000000e+00\n",
            "  7.00000000e+00 7.00000000e+00 2.75000000e+00 8.00000000e+00\n",
            "  8.00000000e+00 4.26428571e+02 1.00000000e+02 6.31477513e+00\n",
            "  2.00000000e+00 5.17000000e+03 2.92272705e+01 1.47171429e+03\n",
            "  0.00000000e+00 0.00000000e+00 0.00000000e+00 1.00000000e+00\n",
            "  0.00000000e+00 0.00000000e+00]\n",
            " [0.00000000e+00 1.00000000e+00 1.00000000e+00 2.00000000e+00\n",
            "  9.06579548e-01 1.50000000e+01 4.40000000e+01 9.60000000e+01\n",
            "  4.00000000e+00 3.47222222e-02 2.00000000e+00 6.29000000e+02\n",
            "  1.48283729e+01 4.14000000e+02 0.00000000e+00 1.00000000e+00\n",
            "  1.00000000e+00 2.00000000e+00 9.06579548e-01 1.50000000e+01\n",
            "  4.40000000e+01 9.60000000e+01 4.00000000e+00 3.47222222e-02\n",
            "  2.00000000e+00 6.29000000e+02 1.48283729e+01 4.14000000e+02\n",
            "  0.00000000e+00 0.00000000e+00 0.00000000e+00 1.00000000e+00\n",
            "  0.00000000e+00 0.00000000e+00]]\n",
            "[0 0 0]\n"
          ],
          "name": "stdout"
        }
      ]
    },
    {
      "cell_type": "code",
      "metadata": {
        "id": "xwCn1uNTMjfG",
        "colab_type": "code",
        "colab": {}
      },
      "source": [
        "val_index = int( len(x) * 0.8 )\n",
        "test_index = int( len(x) * 0.9 )\n",
        "x_train, y_train = x[:val_index], y[:val_index]\n",
        "x_val, y_val = x[val_index:test_index], y[val_index:test_index]\n",
        "x_test, y_test = x[test_index:], y[test_index:]"
      ],
      "execution_count": 0,
      "outputs": []
    },
    {
      "cell_type": "code",
      "metadata": {
        "id": "ZSqnoapE5Poq",
        "colab_type": "code",
        "outputId": "cab4f8ab-5fd6-45c2-9311-6b72da0b2ca6",
        "colab": {
          "base_uri": "https://localhost:8080/",
          "height": 1000
        }
      },
      "source": [
        "print(x_train[:3])\n",
        "print(x_val[:3])\n",
        "print(x_test[:3])"
      ],
      "execution_count": 442,
      "outputs": [
        {
          "output_type": "stream",
          "text": [
            "[[0.00000000e+00 7.00000000e+00 7.00000000e+00 7.00000000e+00\n",
            "  2.64160417e+00 9.00000000e+00 9.00000000e+00 4.26428571e+02\n",
            "  1.00000000e+02 9.25925926e-05 1.00000000e+00 5.17100000e+03\n",
            "  3.02272705e+01 1.47271429e+03 0.00000000e+00 7.00000000e+00\n",
            "  7.00000000e+00 7.00000000e+00 2.64160417e+00 9.00000000e+00\n",
            "  9.00000000e+00 4.26428571e+02 1.00000000e+02 9.25925926e-05\n",
            "  1.00000000e+00 5.17100000e+03 3.02272705e+01 1.47271429e+03\n",
            "  0.00000000e+00 0.00000000e+00 0.00000000e+00 1.00000000e+00\n",
            "  0.00000000e+00 0.00000000e+00]\n",
            " [0.00000000e+00 7.00000000e+00 7.00000000e+00 7.00000000e+00\n",
            "  2.75000000e+00 8.00000000e+00 8.00000000e+00 4.26428571e+02\n",
            "  1.00000000e+02 6.31477513e+00 2.00000000e+00 5.17000000e+03\n",
            "  2.92272705e+01 1.47171429e+03 0.00000000e+00 7.00000000e+00\n",
            "  7.00000000e+00 7.00000000e+00 2.75000000e+00 8.00000000e+00\n",
            "  8.00000000e+00 4.26428571e+02 1.00000000e+02 6.31477513e+00\n",
            "  2.00000000e+00 5.17000000e+03 2.92272705e+01 1.47171429e+03\n",
            "  0.00000000e+00 0.00000000e+00 0.00000000e+00 1.00000000e+00\n",
            "  0.00000000e+00 0.00000000e+00]\n",
            " [0.00000000e+00 1.00000000e+00 1.00000000e+00 2.00000000e+00\n",
            "  9.06579548e-01 1.50000000e+01 4.40000000e+01 9.60000000e+01\n",
            "  4.00000000e+00 3.47222222e-02 2.00000000e+00 6.29000000e+02\n",
            "  1.48283729e+01 4.14000000e+02 0.00000000e+00 1.00000000e+00\n",
            "  1.00000000e+00 2.00000000e+00 9.06579548e-01 1.50000000e+01\n",
            "  4.40000000e+01 9.60000000e+01 4.00000000e+00 3.47222222e-02\n",
            "  2.00000000e+00 6.29000000e+02 1.48283729e+01 4.14000000e+02\n",
            "  0.00000000e+00 0.00000000e+00 0.00000000e+00 1.00000000e+00\n",
            "  0.00000000e+00 0.00000000e+00]]\n",
            "[[0.00000000e+00 8.00000000e+00 8.00000000e+00 8.00000000e+00\n",
            "  2.73215889e+00 1.10000000e+01 1.10000000e+01 1.58625000e+02\n",
            "  5.00000000e+00 1.96759259e-04 1.00000000e+00 4.17300000e+03\n",
            "  2.45570735e+02 8.19125000e+02 0.00000000e+00 8.00000000e+00\n",
            "  8.00000000e+00 8.00000000e+00 2.73215889e+00 1.10000000e+01\n",
            "  1.10000000e+01 1.58625000e+02 5.00000000e+00 1.96759259e-04\n",
            "  1.00000000e+00 4.17300000e+03 2.45570735e+02 8.19125000e+02\n",
            "  0.00000000e+00 0.00000000e+00 0.00000000e+00 1.00000000e+00\n",
            "  0.00000000e+00 0.00000000e+00]\n",
            " [0.00000000e+00 8.00000000e+00 8.00000000e+00 8.00000000e+00\n",
            "  2.73215889e+00 1.10000000e+01 1.10000000e+01 1.58625000e+02\n",
            "  5.00000000e+00 4.29604022e+00 5.00000000e+00 4.17200000e+03\n",
            "  2.44570735e+02 8.18125000e+02 0.00000000e+00 8.00000000e+00\n",
            "  8.00000000e+00 8.00000000e+00 2.73215889e+00 1.10000000e+01\n",
            "  1.10000000e+01 1.58625000e+02 5.00000000e+00 4.29604022e+00\n",
            "  5.00000000e+00 4.17200000e+03 2.44570735e+02 8.18125000e+02\n",
            "  0.00000000e+00 0.00000000e+00 0.00000000e+00 1.00000000e+00\n",
            "  0.00000000e+00 0.00000000e+00]\n",
            " [0.00000000e+00 1.00000000e+00 1.00000000e+00 1.00000000e+00\n",
            "  0.00000000e+00 1.00000000e+00 1.00000000e+00 1.07000000e+02\n",
            "  1.00000000e+00 5.29513889e-01 1.00000000e+00 4.17100000e+03\n",
            "  2.43572058e+02 8.40000000e+01 0.00000000e+00 1.00000000e+00\n",
            "  1.00000000e+00 1.00000000e+00 0.00000000e+00 1.00000000e+00\n",
            "  1.00000000e+00 1.07000000e+02 1.00000000e+00 5.29513889e-01\n",
            "  1.00000000e+00 4.17100000e+03 2.43572058e+02 8.40000000e+01\n",
            "  0.00000000e+00 0.00000000e+00 0.00000000e+00 1.00000000e+00\n",
            "  0.00000000e+00 0.00000000e+00]]\n",
            "[[0.00000000e+00 1.00000000e+00 1.00000000e+00 1.00000000e+00\n",
            "  0.00000000e+00 1.00000000e+00 1.00000000e+00 2.31000000e+02\n",
            "  2.00000000e+00 8.17129630e-03 1.00000000e+00 2.29000000e+03\n",
            "  2.35138387e+02 1.96900000e+03 0.00000000e+00 1.00000000e+00\n",
            "  1.00000000e+00 1.00000000e+00 0.00000000e+00 1.00000000e+00\n",
            "  1.00000000e+00 2.31000000e+02 2.00000000e+00 8.17129630e-03\n",
            "  1.00000000e+00 2.29000000e+03 2.35138387e+02 1.96900000e+03\n",
            "  0.00000000e+00 0.00000000e+00 0.00000000e+00 1.00000000e+00\n",
            "  0.00000000e+00 0.00000000e+00]\n",
            " [0.00000000e+00 1.00000000e+00 3.00000000e+00 4.00000000e+00\n",
            "  1.92417435e+00 1.00000000e+01 4.00000000e+00 7.95000000e+01\n",
            "  2.00000000e+00 7.59004630e-01 4.00000000e+00 2.28900000e+03\n",
            "  2.34145689e+02 1.96800000e+03 0.00000000e+00 1.00000000e+00\n",
            "  3.00000000e+00 4.00000000e+00 1.92417435e+00 1.00000000e+01\n",
            "  4.00000000e+00 7.95000000e+01 2.00000000e+00 7.59004630e-01\n",
            "  4.00000000e+00 2.28900000e+03 2.34145689e+02 1.96800000e+03\n",
            "  0.00000000e+00 1.00000000e+00 0.00000000e+00 0.00000000e+00\n",
            "  0.00000000e+00 0.00000000e+00]\n",
            " [0.00000000e+00 1.00000000e+00 1.00000000e+00 1.00000000e+00\n",
            "  0.00000000e+00 5.00000000e+00 4.00000000e+00 2.10000000e+01\n",
            "  1.00000000e+00 5.92943287e+00 1.00000000e+00 2.28800000e+03\n",
            "  2.33161190e+02 1.96700000e+03 0.00000000e+00 1.00000000e+00\n",
            "  1.00000000e+00 1.00000000e+00 0.00000000e+00 5.00000000e+00\n",
            "  4.00000000e+00 2.10000000e+01 1.00000000e+00 5.92943287e+00\n",
            "  1.00000000e+00 2.28800000e+03 2.33161190e+02 1.96700000e+03\n",
            "  0.00000000e+00 0.00000000e+00 1.00000000e+00 0.00000000e+00\n",
            "  0.00000000e+00 0.00000000e+00]]\n"
          ],
          "name": "stdout"
        }
      ]
    },
    {
      "cell_type": "code",
      "metadata": {
        "id": "46STsbti3AmT",
        "colab_type": "code",
        "colab": {}
      },
      "source": [
        "mean_train = x_train.mean(axis=0)\n",
        "std_train = x_train.std(axis=0)"
      ],
      "execution_count": 0,
      "outputs": []
    },
    {
      "cell_type": "code",
      "metadata": {
        "id": "g5vvbrrK3PES",
        "colab_type": "code",
        "outputId": "10c8d89f-2985-412f-d903-2b4683557a0c",
        "colab": {
          "base_uri": "https://localhost:8080/",
          "height": 323
        }
      },
      "source": [
        "print(mean_train)\n",
        "print(std_train)"
      ],
      "execution_count": 444,
      "outputs": [
        {
          "output_type": "stream",
          "text": [
            "[2.90871477e-01 1.61432635e+00 2.60858547e+00 4.18908715e+00\n",
            " 7.43390526e-01 5.00800621e+01 2.96331523e+01 8.11968929e+02\n",
            " 2.32963538e+01 9.76994760e+01 2.02296354e+00 1.73095790e+03\n",
            " 6.53773667e+01 8.28714959e+02 2.90871477e-01 1.61432635e+00\n",
            " 2.60858547e+00 4.18908715e+00 7.43390526e-01 5.00800621e+01\n",
            " 2.96331523e+01 8.11968929e+02 2.32963538e+01 9.76994760e+01\n",
            " 2.02296354e+00 1.73095790e+03 6.53773667e+01 8.28714959e+02\n",
            " 2.90871477e-01 1.47142488e-01 3.46521852e-02 4.71373157e-01\n",
            " 1.51538660e-02 4.08068270e-02]\n",
            "[4.54164354e-01 1.62736223e+00 6.93052365e+00 2.56616350e+01\n",
            " 1.13236779e+00 5.86250473e+02 6.19852440e+02 1.15236538e+03\n",
            " 2.84287684e+01 2.37802272e+02 7.67653474e+00 2.11471132e+03\n",
            " 6.96820390e+01 1.34456679e+03 4.54164354e-01 1.62736223e+00\n",
            " 6.93052365e+00 2.56616350e+01 1.13236779e+00 5.86250473e+02\n",
            " 6.19852440e+02 1.15236538e+03 2.84287684e+01 2.37802272e+02\n",
            " 7.67653474e+00 2.11471132e+03 6.96820390e+01 1.34456679e+03\n",
            " 4.54164354e-01 3.54247902e-01 1.82897270e-01 4.99179831e-01\n",
            " 1.22164751e-01 1.97842437e-01]\n"
          ],
          "name": "stdout"
        }
      ]
    },
    {
      "cell_type": "code",
      "metadata": {
        "id": "P2IoFA5h425Q",
        "colab_type": "code",
        "colab": {}
      },
      "source": [
        "x_train = (x_train - mean_train) / std_train\n",
        "x_val = (x_val - mean_train) / std_train\n",
        "x_test = (x_test - mean_train) / std_train"
      ],
      "execution_count": 0,
      "outputs": []
    },
    {
      "cell_type": "code",
      "metadata": {
        "id": "J1AoKNoU5V1w",
        "colab_type": "code",
        "outputId": "bcd201e3-08c1-44ad-f789-de5da27d65d0",
        "colab": {
          "base_uri": "https://localhost:8080/",
          "height": 1000
        }
      },
      "source": [
        "print(x_train[:3])\n",
        "print(x_val[:3])\n",
        "print(x_test[:3])"
      ],
      "execution_count": 446,
      "outputs": [
        {
          "output_type": "stream",
          "text": [
            "[[-6.40454219e-01  3.30944983e+00  6.33633872e-01  1.09537559e-01\n",
            "   1.67632253e+00 -7.00725440e-02 -3.32872003e-02 -3.34564335e-01\n",
            "   2.69809951e+00 -4.10842935e-01 -1.33258504e-01  1.62671948e+00\n",
            "  -5.04435529e-01  4.78964178e-01 -6.40454219e-01  3.30944983e+00\n",
            "   6.33633872e-01  1.09537559e-01  1.67632253e+00 -7.00725440e-02\n",
            "  -3.32872003e-02 -3.34564335e-01  2.69809951e+00 -4.10842935e-01\n",
            "  -1.33258504e-01  1.62671948e+00 -5.04435529e-01  4.78964178e-01\n",
            "  -6.40454219e-01 -4.15365869e-01 -1.89462561e-01  1.05899079e+00\n",
            "  -1.24044505e-01 -2.06259221e-01]\n",
            " [-6.40454219e-01  3.30944983e+00  6.33633872e-01  1.09537559e-01\n",
            "   1.77204746e+00 -7.17782996e-02 -3.49004875e-02 -3.34564335e-01\n",
            "   2.69809951e+00 -3.84288594e-01 -2.99139370e-03  1.62624660e+00\n",
            "  -5.18786429e-01  4.78220444e-01 -6.40454219e-01  3.30944983e+00\n",
            "   6.33633872e-01  1.09537559e-01  1.77204746e+00 -7.17782996e-02\n",
            "  -3.49004875e-02 -3.34564335e-01  2.69809951e+00 -3.84288594e-01\n",
            "  -2.99139370e-03  1.62624660e+00 -5.18786429e-01  4.78220444e-01\n",
            "  -6.40454219e-01 -4.15365869e-01 -1.89462561e-01  1.05899079e+00\n",
            "  -1.24044505e-01 -2.06259221e-01]\n",
            " [-6.40454219e-01 -3.77498225e-01 -2.32101577e-01 -8.53058331e-02\n",
            "   1.44113090e-01 -5.98380107e-02  2.31778513e-02 -6.21303747e-01\n",
            "  -6.78761509e-01 -4.10697311e-01 -2.99139370e-03 -5.21091408e-01\n",
            "  -7.25423575e-01 -3.08437605e-01 -6.40454219e-01 -3.77498225e-01\n",
            "  -2.32101577e-01 -8.53058331e-02  1.44113090e-01 -5.98380107e-02\n",
            "   2.31778513e-02 -6.21303747e-01 -6.78761509e-01 -4.10697311e-01\n",
            "  -2.99139370e-03 -5.21091408e-01 -7.25423575e-01 -3.08437605e-01\n",
            "  -6.40454219e-01 -4.15365869e-01 -1.89462561e-01  1.05899079e+00\n",
            "  -1.24044505e-01 -2.06259221e-01]]\n",
            "[[-0.64045422  3.92394118  0.77792311  0.14850624  1.75629188 -0.06666103\n",
            "  -0.03006063 -0.566959   -0.64358587 -0.4108425  -0.1332585   1.15478745\n",
            "   2.58593708 -0.00713238 -0.64045422  3.92394118  0.77792311  0.14850624\n",
            "   1.75629188 -0.06666103 -0.03006063 -0.566959   -0.64358587 -0.4108425\n",
            "  -0.1332585   1.15478745  2.58593708 -0.00713238 -0.64045422 -0.41536587\n",
            "  -0.18946256  1.05899079 -0.1240445  -0.20625922]\n",
            " [-0.64045422  3.92394118  0.77792311  0.14850624  1.75629188 -0.06666103\n",
            "  -0.03006063 -0.566959   -0.64358587 -0.39277773  0.38780994  1.15431457\n",
            "   2.57158618 -0.00787611 -0.64045422  3.92394118  0.77792311  0.14850624\n",
            "   1.75629188 -0.06666103 -0.03006063 -0.566959   -0.64358587 -0.39277773\n",
            "   0.38780994  1.15431457  2.57158618 -0.00787611 -0.64045422 -0.41536587\n",
            "  -0.18946256  1.05899079 -0.1240445  -0.20625922]\n",
            " [-0.64045422 -0.37749822 -0.23210158 -0.12427451 -0.65649211 -0.08371859\n",
            "  -0.0461935  -0.61175816 -0.78428842 -0.40861663 -0.1332585   1.1538417\n",
            "   2.55725426 -0.55386982 -0.64045422 -0.37749822 -0.23210158 -0.12427451\n",
            "  -0.65649211 -0.08371859 -0.0461935  -0.61175816 -0.78428842 -0.40861663\n",
            "  -0.1332585   1.1538417   2.55725426 -0.55386982 -0.64045422 -0.41536587\n",
            "  -0.18946256  1.05899079 -0.1240445  -0.20625922]]\n",
            "[[-0.64045422 -0.37749822 -0.23210158 -0.12427451 -0.65649211 -0.08371859\n",
            "  -0.0461935  -0.5041534  -0.74911278 -0.41080896 -0.1332585   0.26435859\n",
            "   2.43622349  0.84806872 -0.64045422 -0.37749822 -0.23210158 -0.12427451\n",
            "  -0.65649211 -0.08371859 -0.0461935  -0.5041534  -0.74911278 -0.41080896\n",
            "  -0.1332585   0.26435859  2.43622349  0.84806872 -0.64045422 -0.41536587\n",
            "  -0.18946256  1.05899079 -0.1240445  -0.20625922]\n",
            " [-0.64045422 -0.37749822  0.05647691 -0.00736848  1.04275646 -0.06836679\n",
            "  -0.04135364 -0.63562212 -0.74911278 -0.40765158  0.25754283  0.26388571\n",
            "   2.42197738  0.84732499 -0.64045422 -0.37749822  0.05647691 -0.00736848\n",
            "   1.04275646 -0.06836679 -0.04135364 -0.63562212 -0.74911278 -0.40765158\n",
            "   0.25754283  0.26388571  2.42197738  0.84732499 -0.64045422  2.40751606\n",
            "  -0.18946256 -0.94429528 -0.1240445  -0.20625922]\n",
            " [-0.64045422 -0.37749822 -0.23210158 -0.12427451 -0.65649211 -0.07689557\n",
            "  -0.04135364 -0.68638727 -0.78428842 -0.38590903 -0.1332585   0.26341283\n",
            "   2.40784893  0.84658126 -0.64045422 -0.37749822 -0.23210158 -0.12427451\n",
            "  -0.65649211 -0.07689557 -0.04135364 -0.68638727 -0.78428842 -0.38590903\n",
            "  -0.1332585   0.26341283  2.40784893  0.84658126 -0.64045422 -0.41536587\n",
            "   5.27808762 -0.94429528 -0.1240445  -0.20625922]]\n"
          ],
          "name": "stdout"
        }
      ]
    },
    {
      "cell_type": "code",
      "metadata": {
        "id": "ZNcuSWBQp2Ua",
        "colab_type": "code",
        "colab": {}
      },
      "source": [
        "def create_sampler(y):\n",
        "  _, counts = np.unique(y, return_counts=True)\n",
        "  n_samples = len(y)\n",
        "  class_weights = n_samples / counts\n",
        "  weights = class_weights[y]\n",
        "  fade = reversed(range(n_samples))\n",
        "  fading_factor = 1 #0.999999\n",
        "  fade = [fading_factor**x for x in (fade)]\n",
        "  weights = weights * fade\n",
        "  return data.WeightedRandomSampler(weights=weights, num_samples=n_samples, replacement=True)"
      ],
      "execution_count": 0,
      "outputs": []
    },
    {
      "cell_type": "code",
      "metadata": {
        "id": "Fh6O6Nz6uC51",
        "colab_type": "code",
        "colab": {}
      },
      "source": [
        "sampler = create_sampler(y_train)"
      ],
      "execution_count": 0,
      "outputs": []
    },
    {
      "cell_type": "code",
      "metadata": {
        "id": "iP6L6GN22_bR",
        "colab_type": "code",
        "colab": {}
      },
      "source": [
        "x_train, y_train = torch.from_numpy(x_train), torch.from_numpy(y_train)\n",
        "x_val, y_val = torch.from_numpy(x_val), torch.from_numpy(y_val)\n",
        "x_test, y_test = torch.from_numpy(x_test), torch.from_numpy(y_test)"
      ],
      "execution_count": 0,
      "outputs": []
    },
    {
      "cell_type": "code",
      "metadata": {
        "id": "1XnnrzRjL3IP",
        "colab_type": "code",
        "colab": {}
      },
      "source": [
        "train_dataset = data.TensorDataset(x_train, y_train)\n",
        "val_dataset = data.TensorDataset(x_val, y_val)\n",
        "test_dataset = data.TensorDataset(x_test, y_test)\n",
        "\n",
        "train_dataloader = data.DataLoader(train_dataset, batch_size=512, sampler=sampler)\n",
        "val_dataloader = data.DataLoader(val_dataset, batch_size=32)\n",
        "test_dataloader = data.DataLoader(test_dataset, batch_size=32)"
      ],
      "execution_count": 0,
      "outputs": []
    },
    {
      "cell_type": "code",
      "metadata": {
        "id": "SHoY9-JcORo-",
        "colab_type": "code",
        "outputId": "d3463bfe-fd82-47f6-c75f-aca8e7c2002c",
        "colab": {
          "base_uri": "https://localhost:8080/",
          "height": 833
        }
      },
      "source": [
        "inputs, targets = next(iter(train_dataloader))\n",
        "print(inputs[:3])\n",
        "print(targets[:3])\n",
        "\n",
        "inputs, targets = next(iter(val_dataloader))\n",
        "print(inputs[:3])\n",
        "print(targets[:3])\n",
        "\n",
        "inputs, targets = next(iter(test_dataloader))\n",
        "print(inputs[:3])\n",
        "print(targets[:3])"
      ],
      "execution_count": 451,
      "outputs": [
        {
          "output_type": "stream",
          "text": [
            "tensor([[-0.6405, -0.3775, -0.2321, -0.1243, -0.6565, -0.0837, -0.0462, -0.6760,\n",
            "         -0.6084, -0.4108, -0.1333, -0.6899,  0.1471, -0.5531, -0.6405, -0.3775,\n",
            "         -0.2321, -0.1243, -0.6565, -0.0837, -0.0462, -0.6760, -0.6084, -0.4108,\n",
            "         -0.1333, -0.6899,  0.1471, -0.5531, -0.6405, -0.4154, -0.1895,  1.0590,\n",
            "         -0.1240, -0.2063],\n",
            "        [-0.6405, -0.3775, -0.2321, -0.1243, -0.6565, -0.0837, -0.0462,  0.2022,\n",
            "         -0.5029, -0.3536, -0.1333, -0.7490, -0.8580, -0.5308, -0.6405, -0.3775,\n",
            "         -0.2321, -0.1243, -0.6565, -0.0837, -0.0462,  0.2022, -0.5029, -0.3536,\n",
            "         -0.1333, -0.7490, -0.8580, -0.5308, -0.6405, -0.4154, -0.1895,  1.0590,\n",
            "         -0.1240, -0.2063],\n",
            "        [-0.6405, -0.3775, -0.2321, -0.1243, -0.6565, -0.0837, -0.0462, -0.6682,\n",
            "         -0.6084, -0.2566, -0.1333, -0.8185, -0.9382, -0.6163, -0.6405, -0.3775,\n",
            "         -0.2321, -0.1243, -0.6565, -0.0837, -0.0462, -0.6682, -0.6084, -0.2566,\n",
            "         -0.1333, -0.8185, -0.9382, -0.6163, -0.6405,  2.4075, -0.1895, -0.9443,\n",
            "         -0.1240, -0.2063]], dtype=torch.float64)\n",
            "tensor([0, 1, 0], dtype=torch.int8)\n",
            "tensor([[-0.6405,  3.9239,  0.7779,  0.1485,  1.7563, -0.0667, -0.0301, -0.5670,\n",
            "         -0.6436, -0.4108, -0.1333,  1.1548,  2.5859, -0.0071, -0.6405,  3.9239,\n",
            "          0.7779,  0.1485,  1.7563, -0.0667, -0.0301, -0.5670, -0.6436, -0.4108,\n",
            "         -0.1333,  1.1548,  2.5859, -0.0071, -0.6405, -0.4154, -0.1895,  1.0590,\n",
            "         -0.1240, -0.2063],\n",
            "        [-0.6405,  3.9239,  0.7779,  0.1485,  1.7563, -0.0667, -0.0301, -0.5670,\n",
            "         -0.6436, -0.3928,  0.3878,  1.1543,  2.5716, -0.0079, -0.6405,  3.9239,\n",
            "          0.7779,  0.1485,  1.7563, -0.0667, -0.0301, -0.5670, -0.6436, -0.3928,\n",
            "          0.3878,  1.1543,  2.5716, -0.0079, -0.6405, -0.4154, -0.1895,  1.0590,\n",
            "         -0.1240, -0.2063],\n",
            "        [-0.6405, -0.3775, -0.2321, -0.1243, -0.6565, -0.0837, -0.0462, -0.6118,\n",
            "         -0.7843, -0.4086, -0.1333,  1.1538,  2.5573, -0.5539, -0.6405, -0.3775,\n",
            "         -0.2321, -0.1243, -0.6565, -0.0837, -0.0462, -0.6118, -0.7843, -0.4086,\n",
            "         -0.1333,  1.1538,  2.5573, -0.5539, -0.6405, -0.4154, -0.1895,  1.0590,\n",
            "         -0.1240, -0.2063]], dtype=torch.float64)\n",
            "tensor([0, 0, 0], dtype=torch.int8)\n",
            "tensor([[-0.6405, -0.3775, -0.2321, -0.1243, -0.6565, -0.0837, -0.0462, -0.5042,\n",
            "         -0.7491, -0.4108, -0.1333,  0.2644,  2.4362,  0.8481, -0.6405, -0.3775,\n",
            "         -0.2321, -0.1243, -0.6565, -0.0837, -0.0462, -0.5042, -0.7491, -0.4108,\n",
            "         -0.1333,  0.2644,  2.4362,  0.8481, -0.6405, -0.4154, -0.1895,  1.0590,\n",
            "         -0.1240, -0.2063],\n",
            "        [-0.6405, -0.3775,  0.0565, -0.0074,  1.0428, -0.0684, -0.0414, -0.6356,\n",
            "         -0.7491, -0.4077,  0.2575,  0.2639,  2.4220,  0.8473, -0.6405, -0.3775,\n",
            "          0.0565, -0.0074,  1.0428, -0.0684, -0.0414, -0.6356, -0.7491, -0.4077,\n",
            "          0.2575,  0.2639,  2.4220,  0.8473, -0.6405,  2.4075, -0.1895, -0.9443,\n",
            "         -0.1240, -0.2063],\n",
            "        [-0.6405, -0.3775, -0.2321, -0.1243, -0.6565, -0.0769, -0.0414, -0.6864,\n",
            "         -0.7843, -0.3859, -0.1333,  0.2634,  2.4078,  0.8466, -0.6405, -0.3775,\n",
            "         -0.2321, -0.1243, -0.6565, -0.0769, -0.0414, -0.6864, -0.7843, -0.3859,\n",
            "         -0.1333,  0.2634,  2.4078,  0.8466, -0.6405, -0.4154,  5.2781, -0.9443,\n",
            "         -0.1240, -0.2063]], dtype=torch.float64)\n",
            "tensor([1, 1, 0], dtype=torch.int8)\n"
          ],
          "name": "stdout"
        }
      ]
    },
    {
      "cell_type": "code",
      "metadata": {
        "id": "b-GctbL8E1oA",
        "colab_type": "code",
        "colab": {}
      },
      "source": [
        "class Classifier(nn.Module):\n",
        "  def __init__(self, input_size, hidden_size, drop_prob, epoch=None, val_loss=None):\n",
        "    super(Classifier, self).__init__()\n",
        "    self.input_size = input_size\n",
        "    self.hidden_size = hidden_size\n",
        "    self.drop_prob = drop_prob\n",
        "    self.epoch = epoch\n",
        "    self.val_loss = val_loss\n",
        "    self.fc1 = nn.Linear(input_size, hidden_size)\n",
        "    self.fcout = nn.Linear(hidden_size, 1)\n",
        "    self.dropout = nn.Dropout(drop_prob)\n",
        "  \n",
        "  def forward(self, x):\n",
        "    x = torch.relu(self.fc1(x))\n",
        "    x = self.dropout(x)\n",
        "    x = torch.sigmoid(self.fcout(x))\n",
        "    return x"
      ],
      "execution_count": 0,
      "outputs": []
    },
    {
      "cell_type": "code",
      "metadata": {
        "id": "inpSePkGLTIs",
        "colab_type": "code",
        "outputId": "12d3b603-5f61-47c0-9a30-c6b79418c8bd",
        "colab": {
          "base_uri": "https://localhost:8080/",
          "height": 102
        }
      },
      "source": [
        "classifier = Classifier(input_size=x.shape[1], hidden_size=x.shape[1], drop_prob=0.5)\n",
        "classifier"
      ],
      "execution_count": 453,
      "outputs": [
        {
          "output_type": "execute_result",
          "data": {
            "text/plain": [
              "Classifier(\n",
              "  (fc1): Linear(in_features=34, out_features=34, bias=True)\n",
              "  (fcout): Linear(in_features=34, out_features=1, bias=True)\n",
              "  (dropout): Dropout(p=0.5, inplace=False)\n",
              ")"
            ]
          },
          "metadata": {
            "tags": []
          },
          "execution_count": 453
        }
      ]
    },
    {
      "cell_type": "code",
      "metadata": {
        "id": "vsT5eIrNoXAh",
        "colab_type": "code",
        "colab": {}
      },
      "source": [
        "filename = 'classifier.cpt'\n",
        "def save_classifier(classifier):\n",
        "  checkpoint = {\n",
        "      'input_size': classifier.input_size,\n",
        "      'hidden_size': classifier.hidden_size,\n",
        "      'drop_prob': classifier.drop_prob,\n",
        "      'val_loss': classifier.val_loss,\n",
        "      'epoch': classifier.epoch,\n",
        "      'state_dict': classifier.state_dict()\n",
        "  }\n",
        "  with open(filename, 'wb') as f:\n",
        "    torch.save(checkpoint, f)\n",
        "\n",
        "def load_classifier():\n",
        "  with open(filename, 'rb') as f:\n",
        "    checkpoint = torch.load(f)\n",
        "  classifier = Classifier(checkpoint['input_size'], checkpoint['hidden_size'], checkpoint['drop_prob'], checkpoint['epoch'], checkpoint['val_loss'])\n",
        "  classifier.load_state_dict(checkpoint['state_dict'])\n",
        "  return classifier"
      ],
      "execution_count": 0,
      "outputs": []
    },
    {
      "cell_type": "code",
      "metadata": {
        "id": "LX_eofKUq0ok",
        "colab_type": "code",
        "colab": {}
      },
      "source": [
        "save_classifier(classifier)\n",
        "classifier = load_classifier()"
      ],
      "execution_count": 0,
      "outputs": []
    },
    {
      "cell_type": "code",
      "metadata": {
        "id": "PR8s5ZA5rX-V",
        "colab_type": "code",
        "outputId": "469e59e0-40f0-451f-fa64-38b02f0bd116",
        "colab": {
          "base_uri": "https://localhost:8080/",
          "height": 68
        }
      },
      "source": [
        "if torch.cuda.is_available():\n",
        "  classifier = classifier.cuda()\n",
        "  inputs = inputs.cuda()\n",
        "\n",
        "classifier(inputs[:3].float())"
      ],
      "execution_count": 456,
      "outputs": [
        {
          "output_type": "execute_result",
          "data": {
            "text/plain": [
              "tensor([[0.3300],\n",
              "        [0.4429],\n",
              "        [0.5332]], device='cuda:0', grad_fn=<SigmoidBackward>)"
            ]
          },
          "metadata": {
            "tags": []
          },
          "execution_count": 456
        }
      ]
    },
    {
      "cell_type": "code",
      "metadata": {
        "id": "arYOr5lMLYy7",
        "colab_type": "code",
        "colab": {}
      },
      "source": [
        "criterion = nn.BCELoss()\n",
        "optimizer = optim.Adam(params=classifier.parameters(), lr=0.003)"
      ],
      "execution_count": 0,
      "outputs": []
    },
    {
      "cell_type": "code",
      "metadata": {
        "id": "dFy03p96Lza1",
        "colab_type": "code",
        "outputId": "10fd3772-2909-4de1-b208-d719470a45f2",
        "colab": {
          "base_uri": "https://localhost:8080/",
          "height": 1000
        }
      },
      "source": [
        "train_loss = 0\n",
        "epochs = 200\n",
        "for epoch in range(epochs):\n",
        "  classifier.train()\n",
        "  for inputs, targets in train_dataloader:\n",
        "    if torch.cuda.is_available():\n",
        "      inputs, targets = inputs.cuda(), targets.cuda()\n",
        "\n",
        "    outputs = classifier(inputs.float())\n",
        "    loss = criterion(outputs.squeeze(), targets.float())\n",
        "    train_loss += loss.item()\n",
        "\n",
        "    optimizer.zero_grad()\n",
        "    loss.backward()\n",
        "    optimizer.step()\n",
        "  \n",
        "  with torch.no_grad():\n",
        "    classifier.eval()\n",
        "    val_loss = 0\n",
        "    for inputs, targets in val_dataloader:\n",
        "      if torch.cuda.is_available():\n",
        "        inputs, targets = inputs.cuda(), targets.cuda()\n",
        "\n",
        "      outputs = classifier(inputs.float())\n",
        "      loss = criterion(outputs.squeeze(), targets.float())\n",
        "      val_loss += loss.item()\n",
        "\n",
        "    train_loss = train_loss / len(train_dataloader)\n",
        "    val_loss = val_loss / len(val_dataloader)\n",
        "    print('Epoch: {}, Train loss: {}, Val loss: {}'.format(epoch, train_loss, val_loss))\n",
        "\n",
        "    if classifier.val_loss is None or val_loss < classifier.val_loss:\n",
        "      classifier.epoch = epoch\n",
        "      classifier.val_loss = val_loss\n",
        "      save_classifier(classifier)\n",
        "\n",
        "classifier.epoch = epoch\n",
        "classifier.val_loss = val_loss"
      ],
      "execution_count": 458,
      "outputs": [
        {
          "output_type": "stream",
          "text": [
            "Epoch: 0, Train loss: 0.6473907671476665, Val loss: 0.6584849655628204\n",
            "Epoch: 1, Train loss: 0.6248877828636328, Val loss: 0.6206800616101215\n",
            "Epoch: 2, Train loss: 0.6020582919197086, Val loss: 0.636688127329475\n",
            "Epoch: 3, Train loss: 0.5995526235482065, Val loss: 0.6432105742002788\n",
            "Epoch: 4, Train loss: 0.585846847403418, Val loss: 0.5957143189091432\n",
            "Epoch: 5, Train loss: 0.583291485281063, Val loss: 0.6049797131042731\n",
            "Epoch: 6, Train loss: 0.5790394736583628, Val loss: 0.6048770037136579\n",
            "Epoch: 7, Train loss: 0.5751057444780949, Val loss: 0.5885274045561489\n",
            "Epoch: 8, Train loss: 0.566900051421162, Val loss: 0.5876771348871683\n",
            "Epoch: 9, Train loss: 0.5711412596280699, Val loss: 0.59112766894855\n",
            "Epoch: 10, Train loss: 0.5683736429077892, Val loss: 0.5865606904814118\n",
            "Epoch: 11, Train loss: 0.5668691763372341, Val loss: 0.582472391818699\n",
            "Epoch: 12, Train loss: 0.5569955418222075, Val loss: 0.599867702706864\n",
            "Epoch: 13, Train loss: 0.5546679332322011, Val loss: 0.5403762604845198\n",
            "Epoch: 14, Train loss: 0.5568495859034912, Val loss: 0.5717409900144527\n",
            "Epoch: 15, Train loss: 0.5528270818406241, Val loss: 0.5417641993415984\n",
            "Epoch: 16, Train loss: 0.5476655699119597, Val loss: 0.5323659667843267\n",
            "Epoch: 17, Train loss: 0.5397347055958699, Val loss: 0.5453241345913786\n",
            "Epoch: 18, Train loss: 0.5506743047401753, Val loss: 0.5232571163459828\n",
            "Epoch: 19, Train loss: 0.5511963536179, Val loss: 0.5388923977550707\n",
            "Epoch: 20, Train loss: 0.5483942898999075, Val loss: 0.5217304814018702\n",
            "Epoch: 21, Train loss: 0.5455211674772084, Val loss: 0.5226453970137396\n",
            "Epoch: 22, Train loss: 0.545204983666284, Val loss: 0.5375605217720333\n",
            "Epoch: 23, Train loss: 0.5380084416979954, Val loss: 0.5256153078455674\n",
            "Epoch: 24, Train loss: 0.5458135923840352, Val loss: 0.5216811381672558\n",
            "Epoch: 25, Train loss: 0.5422325715189904, Val loss: 0.4838224590608948\n",
            "Epoch: 26, Train loss: 0.5350644768454677, Val loss: 0.5075670594447538\n",
            "Epoch: 27, Train loss: 0.5371050376671921, Val loss: 0.4990044244025883\n",
            "Epoch: 28, Train loss: 0.5362084809598651, Val loss: 0.5327245730318522\n",
            "Epoch: 29, Train loss: 0.5372844769862067, Val loss: 0.522956257587985\n",
            "Epoch: 30, Train loss: 0.5365279273356962, Val loss: 0.49262853005999013\n",
            "Epoch: 31, Train loss: 0.5347797422455225, Val loss: 0.5120651027873943\n",
            "Epoch: 32, Train loss: 0.5374557426855399, Val loss: 0.5329098803432364\n",
            "Epoch: 33, Train loss: 0.5411955817521805, Val loss: 0.49049099338682073\n",
            "Epoch: 34, Train loss: 0.5364362396273205, Val loss: 0.5194852928581991\n",
            "Epoch: 35, Train loss: 0.5355563001608461, Val loss: 0.5051642354381712\n",
            "Epoch: 36, Train loss: 0.5256055306885734, Val loss: 0.49344011004033844\n",
            "Epoch: 37, Train loss: 0.5291031967952954, Val loss: 0.5026929743195835\n",
            "Epoch: 38, Train loss: 0.5325307212674699, Val loss: 0.47941010386536\n",
            "Epoch: 39, Train loss: 0.5259254401253087, Val loss: 0.5046681361763101\n",
            "Epoch: 40, Train loss: 0.5295025599769501, Val loss: 0.5065759587052622\n",
            "Epoch: 41, Train loss: 0.5327140058675663, Val loss: 0.4964411023416017\n",
            "Epoch: 42, Train loss: 0.532021804769832, Val loss: 0.4934086215339209\n",
            "Epoch: 43, Train loss: 0.5313180492666729, Val loss: 0.5093248523771763\n",
            "Epoch: 44, Train loss: 0.5319703545652653, Val loss: 0.4806727208197117\n",
            "Epoch: 45, Train loss: 0.5320553309731391, Val loss: 0.47753256363304036\n",
            "Epoch: 46, Train loss: 0.5274733543579325, Val loss: 0.4896341781867178\n",
            "Epoch: 47, Train loss: 0.5299385831549097, Val loss: 0.4824984669685364\n",
            "Epoch: 48, Train loss: 0.5272462180983454, Val loss: 0.4913761802017689\n",
            "Epoch: 49, Train loss: 0.5272488942055624, Val loss: 0.5307620681430164\n",
            "Epoch: 50, Train loss: 0.529024310149406, Val loss: 0.49194908396978126\n",
            "Epoch: 51, Train loss: 0.5290607513889318, Val loss: 0.5005107067133251\n",
            "Epoch: 52, Train loss: 0.5318650932738255, Val loss: 0.47836972655434357\n",
            "Epoch: 53, Train loss: 0.5258842683979008, Val loss: 0.4936083449344886\n",
            "Epoch: 54, Train loss: 0.5261846513527217, Val loss: 0.4785324476267162\n",
            "Epoch: 55, Train loss: 0.5279947151504525, Val loss: 0.4987567078910376\n",
            "Epoch: 56, Train loss: 0.529957585245273, Val loss: 0.4789383601593344\n",
            "Epoch: 57, Train loss: 0.521643570972898, Val loss: 0.49439487096510437\n",
            "Epoch: 58, Train loss: 0.519388812725832, Val loss: 0.5030498108581493\n",
            "Epoch: 59, Train loss: 0.5208396375164936, Val loss: 0.44715994851369606\n",
            "Epoch: 60, Train loss: 0.5264923495681285, Val loss: 0.48038306793099955\n",
            "Epoch: 61, Train loss: 0.5268302510773697, Val loss: 0.4816867524856015\n",
            "Epoch: 62, Train loss: 0.5218512328324495, Val loss: 0.5139547109996018\n",
            "Epoch: 63, Train loss: 0.5264302693748103, Val loss: 0.4804232116592558\n",
            "Epoch: 64, Train loss: 0.526495524673461, Val loss: 0.48335058046014684\n",
            "Epoch: 65, Train loss: 0.5181920860009445, Val loss: 0.4940357267072326\n",
            "Epoch: 66, Train loss: 0.5190478548506818, Val loss: 0.4913808646562852\n",
            "Epoch: 67, Train loss: 0.5207760921829101, Val loss: 0.4708097824140599\n",
            "Epoch: 68, Train loss: 0.5170103444648237, Val loss: 0.46720161563471746\n",
            "Epoch: 69, Train loss: 0.5198368747349174, Val loss: 0.5024939916635814\n",
            "Epoch: 70, Train loss: 0.5274662430854105, Val loss: 0.46570954471826553\n",
            "Epoch: 71, Train loss: 0.526321928897896, Val loss: 0.4778307115561084\n",
            "Epoch: 72, Train loss: 0.5357540417449359, Val loss: 0.44960619352365794\n",
            "Epoch: 73, Train loss: 0.5184291095815643, Val loss: 0.4791802126718195\n",
            "Epoch: 74, Train loss: 0.5187614115478766, Val loss: 0.4620488140928118\n",
            "Epoch: 75, Train loss: 0.5165818855229234, Val loss: 0.4655721271900754\n",
            "Epoch: 76, Train loss: 0.5270284349590625, Val loss: 0.4828304399393107\n",
            "Epoch: 77, Train loss: 0.5164813891703364, Val loss: 0.4666052201860829\n",
            "Epoch: 78, Train loss: 0.5234479587738307, Val loss: 0.4716536226241212\n",
            "Epoch: 79, Train loss: 0.5205607186322269, Val loss: 0.49600675623667867\n",
            "Epoch: 80, Train loss: 0.5261978838280754, Val loss: 0.473846146542775\n",
            "Epoch: 81, Train loss: 0.5189835492807415, Val loss: 0.48204848876124934\n",
            "Epoch: 82, Train loss: 0.5233749984231899, Val loss: 0.5166395934004533\n",
            "Epoch: 83, Train loss: 0.5115865365416525, Val loss: 0.48176185825937673\n",
            "Epoch: 84, Train loss: 0.5266280955801688, Val loss: 0.45897753732769114\n",
            "Epoch: 85, Train loss: 0.5193349786670853, Val loss: 0.45619269440832894\n",
            "Epoch: 86, Train loss: 0.5224702234541948, Val loss: 0.46697968224945824\n",
            "Epoch: 87, Train loss: 0.534450819292287, Val loss: 0.48935865238308907\n",
            "Epoch: 88, Train loss: 0.5284757282179339, Val loss: 0.4615313146067293\n",
            "Epoch: 89, Train loss: 0.5133802991839923, Val loss: 0.47113820557531555\n",
            "Epoch: 90, Train loss: 0.5170627333138405, Val loss: 0.49751511216163635\n",
            "Epoch: 91, Train loss: 0.5252420661674624, Val loss: 0.45075999259164456\n",
            "Epoch: 92, Train loss: 0.5192477869303255, Val loss: 0.4673942617679897\n",
            "Epoch: 93, Train loss: 0.5242159818016416, Val loss: 0.4851329485444646\n",
            "Epoch: 94, Train loss: 0.5196527199640686, Val loss: 0.4751273879879399\n",
            "Epoch: 95, Train loss: 0.5159809933333408, Val loss: 0.47221881621762324\n",
            "Epoch: 96, Train loss: 0.5200257490764292, Val loss: 0.48668039001916585\n",
            "Epoch: 97, Train loss: 0.5208503177570938, Val loss: 0.4551047969021295\n",
            "Epoch: 98, Train loss: 0.5195234587077708, Val loss: 0.4758059460865824\n",
            "Epoch: 99, Train loss: 0.5181635654032345, Val loss: 0.49947818015751083\n",
            "Epoch: 100, Train loss: 0.5206162459914625, Val loss: 0.4690646050791991\n",
            "Epoch: 101, Train loss: 0.5144060241738556, Val loss: 0.4972255790704175\n",
            "Epoch: 102, Train loss: 0.518234954036013, Val loss: 0.4572949762407102\n",
            "Epoch: 103, Train loss: 0.5152708774532334, Val loss: 0.47495108725208984\n",
            "Epoch: 104, Train loss: 0.5177261073488035, Val loss: 0.48081533689247935\n",
            "Epoch: 105, Train loss: 0.5204596060386301, Val loss: 0.477057202670135\n",
            "Epoch: 106, Train loss: 0.5173921298506777, Val loss: 0.478232224716952\n",
            "Epoch: 107, Train loss: 0.5094440344434111, Val loss: 0.43531940700976474\n",
            "Epoch: 108, Train loss: 0.5194410510843813, Val loss: 0.4740255896590258\n",
            "Epoch: 109, Train loss: 0.5223111631263396, Val loss: 0.4321079422768794\n",
            "Epoch: 110, Train loss: 0.518121847515015, Val loss: 0.45857901028112363\n",
            "Epoch: 111, Train loss: 0.5172444615710385, Val loss: 0.468454240772285\n",
            "Epoch: 112, Train loss: 0.5171179474287614, Val loss: 0.44288593177732666\n",
            "Epoch: 113, Train loss: 0.5153947472595682, Val loss: 0.48523302788012906\n",
            "Epoch: 114, Train loss: 0.5165002910715015, Val loss: 0.4615902212497435\n",
            "Epoch: 115, Train loss: 0.5143913751328767, Val loss: 0.4786113737837264\n",
            "Epoch: 116, Train loss: 0.5178921594574911, Val loss: 0.49044828999199364\n",
            "Epoch: 117, Train loss: 0.5159119346015151, Val loss: 0.4691775858794388\n",
            "Epoch: 118, Train loss: 0.5099297486854031, Val loss: 0.4865124194245589\n",
            "Epoch: 119, Train loss: 0.518355322571994, Val loss: 0.46477128545704643\n",
            "Epoch: 120, Train loss: 0.514229361495752, Val loss: 0.46209773264433207\n",
            "Epoch: 121, Train loss: 0.5065973221806418, Val loss: 0.46951123797579813\n",
            "Epoch: 122, Train loss: 0.5145789536978794, Val loss: 0.4413105618012579\n",
            "Epoch: 123, Train loss: 0.5202665074173453, Val loss: 0.4607664925095282\n",
            "Epoch: 124, Train loss: 0.5153905828885442, Val loss: 0.4513456068540874\n",
            "Epoch: 125, Train loss: 0.5128758920391719, Val loss: 0.4794493768560259\n",
            "Epoch: 126, Train loss: 0.5138760242367009, Val loss: 0.46834614559223775\n",
            "Epoch: 127, Train loss: 0.5065483804687707, Val loss: 0.4570732985280062\n",
            "Epoch: 128, Train loss: 0.5166328354784921, Val loss: 0.4711961110955791\n",
            "Epoch: 129, Train loss: 0.51543121067084, Val loss: 0.4591371189606817\n",
            "Epoch: 130, Train loss: 0.5181638053444909, Val loss: 0.48631867531098816\n",
            "Epoch: 131, Train loss: 0.5193884052503212, Val loss: 0.46417999287184913\n",
            "Epoch: 132, Train loss: 0.5194686995725571, Val loss: 0.47653996454257713\n",
            "Epoch: 133, Train loss: 0.514397980473493, Val loss: 0.4747080055898742\n",
            "Epoch: 134, Train loss: 0.515994741772927, Val loss: 0.4788356897862334\n",
            "Epoch: 135, Train loss: 0.5098856550103562, Val loss: 0.4730274502776171\n",
            "Epoch: 136, Train loss: 0.5123877309959347, Val loss: 0.46443227482469457\n",
            "Epoch: 137, Train loss: 0.5181250127344832, Val loss: 0.45337410428022085\n",
            "Epoch: 138, Train loss: 0.5190680391751609, Val loss: 0.45676867918748604\n",
            "Epoch: 139, Train loss: 0.5092170201037088, Val loss: 0.4751487938981307\n",
            "Epoch: 140, Train loss: 0.511705795302448, Val loss: 0.4809101961160961\n",
            "Epoch: 141, Train loss: 0.5101344415329647, Val loss: 0.45732693609438446\n",
            "Epoch: 142, Train loss: 0.5171848946725662, Val loss: 0.4530228290118669\n",
            "Epoch: 143, Train loss: 0.5127069568788675, Val loss: 0.453891348289816\n",
            "Epoch: 144, Train loss: 0.5114431998608291, Val loss: 0.4630199649224156\n",
            "Epoch: 145, Train loss: 0.5150655061568026, Val loss: 0.4494279511272907\n",
            "Epoch: 146, Train loss: 0.5041515525249148, Val loss: 0.4642588617770295\n",
            "Epoch: 147, Train loss: 0.5145388229794343, Val loss: 0.4723993061404479\n",
            "Epoch: 148, Train loss: 0.510910446665023, Val loss: 0.45487476689250844\n",
            "Epoch: 149, Train loss: 0.5041882206269872, Val loss: 0.48672432805362503\n",
            "Epoch: 150, Train loss: 0.5127433878530242, Val loss: 0.4436393829160615\n",
            "Epoch: 151, Train loss: 0.5152209629676561, Val loss: 0.45834146087106903\n",
            "Epoch: 152, Train loss: 0.5091722597941543, Val loss: 0.44084219438465017\n",
            "Epoch: 153, Train loss: 0.5083439145963046, Val loss: 0.4272736944258213\n",
            "Epoch: 154, Train loss: 0.5075908501798663, Val loss: 0.45044105754871117\n",
            "Epoch: 155, Train loss: 0.5096148940028191, Val loss: 0.44981181033347784\n",
            "Epoch: 156, Train loss: 0.5151743271688135, Val loss: 0.4440442813854468\n",
            "Epoch: 157, Train loss: 0.5148295626272745, Val loss: 0.4686690606176853\n",
            "Epoch: 158, Train loss: 0.5179018178666631, Val loss: 0.4439752639124268\n",
            "Epoch: 159, Train loss: 0.507070893778835, Val loss: 0.4460303065808196\n",
            "Epoch: 160, Train loss: 0.507872752315497, Val loss: 0.47344724814358513\n",
            "Epoch: 161, Train loss: 0.5139229820999841, Val loss: 0.46385101523054273\n",
            "Epoch: 162, Train loss: 0.5126200167412124, Val loss: 0.4569319317999639\n",
            "Epoch: 163, Train loss: 0.5146408163352875, Val loss: 0.4728225497038741\n",
            "Epoch: 164, Train loss: 0.5105335973408245, Val loss: 0.4508117233452044\n",
            "Epoch: 165, Train loss: 0.515532439379071, Val loss: 0.4777425868730796\n",
            "Epoch: 166, Train loss: 0.5129938887772899, Val loss: 0.45916123276478366\n",
            "Epoch: 167, Train loss: 0.5131577532208226, Val loss: 0.443564260280446\n",
            "Epoch: 168, Train loss: 0.5107755236999934, Val loss: 0.46843082751882703\n",
            "Epoch: 169, Train loss: 0.5104897513022987, Val loss: 0.44571879859033386\n",
            "Epoch: 170, Train loss: 0.5179851036689547, Val loss: 0.4516163397776453\n",
            "Epoch: 171, Train loss: 0.5131357421514807, Val loss: 0.44859465741013227\n",
            "Epoch: 172, Train loss: 0.5175383164433989, Val loss: 0.46675836569384527\n",
            "Epoch: 173, Train loss: 0.5206568697930124, Val loss: 0.4383272781575981\n",
            "Epoch: 174, Train loss: 0.5145200150050634, Val loss: 0.4626507212064768\n",
            "Epoch: 175, Train loss: 0.5111438999490725, Val loss: 0.4574386497077189\n",
            "Epoch: 176, Train loss: 0.5081219627928232, Val loss: 0.43386067528473704\n",
            "Epoch: 177, Train loss: 0.5033021811185999, Val loss: 0.47036181056970044\n",
            "Epoch: 178, Train loss: 0.5140884470091021, Val loss: 0.4616675498454194\n",
            "Epoch: 179, Train loss: 0.5103438856077449, Val loss: 0.4573892937286904\n",
            "Epoch: 180, Train loss: 0.5166324425733724, Val loss: 0.4749194762032283\n",
            "Epoch: 181, Train loss: 0.5123683317423824, Val loss: 0.4520882377891164\n",
            "Epoch: 182, Train loss: 0.5094719610295823, Val loss: 0.4409681409597397\n",
            "Epoch: 183, Train loss: 0.5053446773418265, Val loss: 0.4821246734967357\n",
            "Epoch: 184, Train loss: 0.5128980072018569, Val loss: 0.4658415643008132\n",
            "Epoch: 185, Train loss: 0.5084816494314217, Val loss: 0.45125077351143483\n",
            "Epoch: 186, Train loss: 0.5069995568999291, Val loss: 0.45128448817290756\n",
            "Epoch: 187, Train loss: 0.5109487898695066, Val loss: 0.47534216038490595\n",
            "Epoch: 188, Train loss: 0.5165471571253778, Val loss: 0.44665950536727905\n",
            "Epoch: 189, Train loss: 0.5136044264298966, Val loss: 0.4848618879914284\n",
            "Epoch: 190, Train loss: 0.5185471003004917, Val loss: 0.4599219917466766\n",
            "Epoch: 191, Train loss: 0.5146935059960187, Val loss: 0.47425581671689687\n",
            "Epoch: 192, Train loss: 0.5201940507071465, Val loss: 0.45012999639699336\n",
            "Epoch: 193, Train loss: 0.5169259081555492, Val loss: 0.46460693839349243\n",
            "Epoch: 194, Train loss: 0.5160361349851236, Val loss: 0.480421564884876\n",
            "Epoch: 195, Train loss: 0.5098675437670798, Val loss: 0.45045283554415955\n",
            "Epoch: 196, Train loss: 0.5169668282539747, Val loss: 0.46348834076994344\n",
            "Epoch: 197, Train loss: 0.5031444699238034, Val loss: 0.4605359358614997\n",
            "Epoch: 198, Train loss: 0.5122180564640653, Val loss: 0.481527021840999\n",
            "Epoch: 199, Train loss: 0.5121144636248253, Val loss: 0.4746992433149564\n"
          ],
          "name": "stdout"
        }
      ]
    },
    {
      "cell_type": "code",
      "metadata": {
        "id": "QXw0R-Tkucgw",
        "colab_type": "code",
        "colab": {}
      },
      "source": [
        "def calculate_recalls(targets, predictions):\n",
        "  n_classes = 2\n",
        "  confusion_matrix, _, _ = np.histogram2d(targets.detach().cpu().numpy(), predictions.squeeze().detach().cpu().numpy(), bins=n_classes)\n",
        "  return np.diag(confusion_matrix) / (np.sum(confusion_matrix, axis=1))\n",
        "\n",
        "def gmean(classifier, dataloader):\n",
        "  with torch.no_grad():\n",
        "    classifier.eval()\n",
        "    recalls = np.zeros((2))\n",
        "    for inputs, targets in dataloader:\n",
        "      if torch.cuda.is_available():\n",
        "        inputs, targets = inputs.cuda(), targets.cuda()\n",
        "      \n",
        "      outputs = classifier(inputs.float())\n",
        "      predictions = torch.round(outputs).int()\n",
        "      recalls += calculate_recalls(targets, predictions)\n",
        "\n",
        "    recalls = recalls / len(dataloader)\n",
        "    return mstats.gmean(recalls)    "
      ],
      "execution_count": 0,
      "outputs": []
    },
    {
      "cell_type": "code",
      "metadata": {
        "id": "hlrNw0bEqAeh",
        "colab_type": "code",
        "colab": {}
      },
      "source": [
        "def evaluate(classifier):\n",
        "  if torch.cuda.is_available():\n",
        "    classifier = classifier.cuda()\n",
        "  train_accuracy = gmean(classifier, train_dataloader)\n",
        "  test_accuracy = gmean(classifier, test_dataloader)\n",
        "  print('Epoch: {}'.format(classifier.epoch))\n",
        "  print('Train g-mean: {}'.format(train_accuracy.item()))\n",
        "  print('Test g-mean: {}'.format(test_accuracy.item()))"
      ],
      "execution_count": 0,
      "outputs": []
    },
    {
      "cell_type": "code",
      "metadata": {
        "id": "FFoBTASdvqRv",
        "colab_type": "code",
        "colab": {
          "base_uri": "https://localhost:8080/",
          "height": 85
        },
        "outputId": "349cdae4-d4be-4d14-ad44-22fa389a7645"
      },
      "source": [
        "print('Best classifier')\n",
        "evaluate(load_classifier())"
      ],
      "execution_count": 461,
      "outputs": [
        {
          "output_type": "stream",
          "text": [
            "Best classifier\n",
            "Epoch: 153\n",
            "Train g-mean: 0.7685135808186105\n",
            "Test g-mean: 0.735250675988632\n"
          ],
          "name": "stdout"
        }
      ]
    },
    {
      "cell_type": "code",
      "metadata": {
        "id": "918KM5F07hFl",
        "colab_type": "code",
        "colab": {
          "base_uri": "https://localhost:8080/",
          "height": 85
        },
        "outputId": "074fc9cc-60a4-49d3-9880-b66a5491de0d"
      },
      "source": [
        "print('Last classifier')\n",
        "evaluate(classifier)"
      ],
      "execution_count": 462,
      "outputs": [
        {
          "output_type": "stream",
          "text": [
            "Last classifier\n",
            "Epoch: 199\n",
            "Train g-mean: 0.7726625191209947\n",
            "Test g-mean: 0.7395796249173632\n"
          ],
          "name": "stdout"
        }
      ]
    },
    {
      "cell_type": "code",
      "metadata": {
        "id": "L_t4Gh43GYWl",
        "colab_type": "code",
        "colab": {}
      },
      "source": [
        ""
      ],
      "execution_count": 0,
      "outputs": []
    }
  ]
}