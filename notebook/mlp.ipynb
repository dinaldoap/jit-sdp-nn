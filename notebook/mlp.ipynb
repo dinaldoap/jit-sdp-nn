{
  "nbformat": 4,
  "nbformat_minor": 0,
  "metadata": {
    "colab": {
      "name": "JIT-SDP.ipynb",
      "provenance": [],
      "collapsed_sections": [],
      "include_colab_link": true
    },
    "kernelspec": {
      "name": "python3",
      "display_name": "Python 3"
    },
    "accelerator": "GPU"
  },
  "cells": [
    {
      "cell_type": "markdown",
      "metadata": {
        "colab_type": "text",
        "id": "view-in-github"
      },
      "source": [
        "<a href=\"https://colab.research.google.com/github/dinaldoap/jit-sdp-nn/blob/master/notebook/mlp.ipynb\" target=\"_parent\"><img src=\"https://colab.research.google.com/assets/colab-badge.svg\" alt=\"Open In Colab\"/></a>"
      ]
    },
    {
      "cell_type": "code",
      "execution_count": 32,
      "metadata": {},
      "outputs": [
        {
          "name": "stdout",
          "output_type": "stream",
          "text": "The autoreload extension is already loaded. To reload it, use:\n  %reload_ext autoreload\n"
        }
      ],
      "source": [
        "%load_ext autoreload\n",
        "%autoreload 2"
      ]
    },
    {
      "cell_type": "code",
      "execution_count": 33,
      "metadata": {},
      "outputs": [
        {
          "name": "stdout",
          "output_type": "stream",
          "text": "/workspace\n"
        }
      ],
      "source": [
        "%cd /workspace/"
      ]
    },
    {
      "cell_type": "code",
      "execution_count": 34,
      "metadata": {},
      "outputs": [],
      "source": [
        "import numpy as np\n",
        "import pandas as pd\n",
        "import torch\n",
        "import torch.nn as nn\n",
        "import torch.nn.functional as F\n",
        "import torch.optim as optim\n",
        "import torch.utils.data as data\n",
        "from sklearn.model_selection import train_test_split\n",
        "from sklearn.preprocessing import StandardScaler\n",
        "import random\n",
        "from scipy.stats import mstats\n",
        "import math\n",
        "import re\n",
        "\n",
        "from jitsdp import metrics\n",
        "from jitsdp.classifier import Classifier\n",
        "from jitsdp.pipeline import Pipeline\n",
        "\n",
        "import logging"
      ]
    },
    {
      "cell_type": "code",
      "execution_count": 35,
      "metadata": {},
      "outputs": [],
      "source": [
        "logging.getLogger('').handlers = []\n",
        "logging.basicConfig(filename='notebook/mlp.log', filemode='w', level=logging.DEBUG)"
      ]
    },
    {
      "cell_type": "code",
      "execution_count": 36,
      "metadata": {},
      "outputs": [
        {
          "data": {
            "text/html": "<div>\n<style scoped>\n    .dataframe tbody tr th:only-of-type {\n        vertical-align: middle;\n    }\n\n    .dataframe tbody tr th {\n        vertical-align: top;\n    }\n\n    .dataframe thead th {\n        text-align: right;\n    }\n</style>\n<table border=\"1\" class=\"dataframe\">\n  <thead>\n    <tr style=\"text-align: right;\">\n      <th></th>\n      <th>commit_hash</th>\n      <th>author_name</th>\n      <th>author_date_unix_timestamp</th>\n      <th>author_email</th>\n      <th>author_date</th>\n      <th>commit_message</th>\n      <th>fix</th>\n      <th>classification</th>\n      <th>linked</th>\n      <th>contains_bug</th>\n      <th>...</th>\n      <th>nuc</th>\n      <th>exp</th>\n      <th>rexp</th>\n      <th>sexp</th>\n      <th>glm_probability</th>\n      <th>rf_probability</th>\n      <th>repository_id</th>\n      <th>issue_id</th>\n      <th>issue_date</th>\n      <th>issue_type</th>\n    </tr>\n  </thead>\n  <tbody>\n    <tr>\n      <td>0</td>\n      <td>5f406086936d2abf1392b0f77db246b308715d6d</td>\n      <td>Narayani</td>\n      <td>1574927837</td>\n      <td>narayani@adobe.com</td>\n      <td>Thu Nov 28 13:27:17 2019 +0530</td>\n      <td>Merge pull request #14985 from adobe/alf_local...</td>\n      <td>NaN</td>\n      <td>Merge</td>\n      <td>False</td>\n      <td>False</td>\n      <td>...</td>\n      <td>0.0</td>\n      <td>0.0</td>\n      <td>0.000000</td>\n      <td>0.0</td>\n      <td>0.173803</td>\n      <td>0.000</td>\n      <td>3dc71fdd-a705-47f1-9685-0dbc873af923</td>\n      <td>NaN</td>\n      <td>NaN</td>\n      <td>NaN</td>\n    </tr>\n    <tr>\n      <td>1</td>\n      <td>95626cc3650dcd00e886670d80307b8f710d6168</td>\n      <td>walf</td>\n      <td>1574926230</td>\n      <td>walf@adobe.com</td>\n      <td>Wed Nov 27 23:30:30 2019 -0800</td>\n      <td>Updated by ALF automation.</td>\n      <td>False</td>\n      <td>None</td>\n      <td>False</td>\n      <td>False</td>\n      <td>...</td>\n      <td>1.0</td>\n      <td>9.0</td>\n      <td>1.075033</td>\n      <td>8.0</td>\n      <td>0.464372</td>\n      <td>0.286</td>\n      <td>3dc71fdd-a705-47f1-9685-0dbc873af923</td>\n      <td>NaN</td>\n      <td>NaN</td>\n      <td>NaN</td>\n    </tr>\n    <tr>\n      <td>2</td>\n      <td>8f26cd850e648d6c4dd04cdfa69119a7feda0867</td>\n      <td>walf</td>\n      <td>1574915324</td>\n      <td>walf@adobe.com</td>\n      <td>Wed Nov 27 20:28:44 2019 -0800</td>\n      <td>Updated by ALF automation.</td>\n      <td>False</td>\n      <td>None</td>\n      <td>False</td>\n      <td>False</td>\n      <td>...</td>\n      <td>1.0</td>\n      <td>8.0</td>\n      <td>0.075033</td>\n      <td>7.0</td>\n      <td>0.459778</td>\n      <td>0.302</td>\n      <td>3dc71fdd-a705-47f1-9685-0dbc873af923</td>\n      <td>NaN</td>\n      <td>NaN</td>\n      <td>NaN</td>\n    </tr>\n    <tr>\n      <td>3</td>\n      <td>a7dda4aeab550d36bc2c0ca4ecfc29efda21f9ea</td>\n      <td>Narayani</td>\n      <td>1574757872</td>\n      <td>narayani@adobe.com</td>\n      <td>Tue Nov 26 14:14:32 2019 +0530</td>\n      <td>Merge pull request #14729 from adobe/alf_local...</td>\n      <td>NaN</td>\n      <td>Merge</td>\n      <td>False</td>\n      <td>False</td>\n      <td>...</td>\n      <td>0.0</td>\n      <td>0.0</td>\n      <td>0.000000</td>\n      <td>0.0</td>\n      <td>0.173803</td>\n      <td>0.000</td>\n      <td>3dc71fdd-a705-47f1-9685-0dbc873af923</td>\n      <td>NaN</td>\n      <td>NaN</td>\n      <td>NaN</td>\n    </tr>\n    <tr>\n      <td>4</td>\n      <td>8a806ec41b613d70b26005e2c4907b021a41e744</td>\n      <td>Gautam Jha</td>\n      <td>1574315174</td>\n      <td>gjha@adobe.com</td>\n      <td>Thu Nov 21 11:16:14 2019 +0530</td>\n      <td>Moving command line port validation errors to ...</td>\n      <td>False</td>\n      <td>None</td>\n      <td>False</td>\n      <td>False</td>\n      <td>...</td>\n      <td>2.0</td>\n      <td>4.0</td>\n      <td>2.500000</td>\n      <td>2.0</td>\n      <td>0.640227</td>\n      <td>0.496</td>\n      <td>3dc71fdd-a705-47f1-9685-0dbc873af923</td>\n      <td>NaN</td>\n      <td>NaN</td>\n      <td>NaN</td>\n    </tr>\n  </tbody>\n</table>\n<p>5 rows × 31 columns</p>\n</div>",
            "text/plain": "                                commit_hash author_name  \\\n0  5f406086936d2abf1392b0f77db246b308715d6d    Narayani   \n1  95626cc3650dcd00e886670d80307b8f710d6168        walf   \n2  8f26cd850e648d6c4dd04cdfa69119a7feda0867        walf   \n3  a7dda4aeab550d36bc2c0ca4ecfc29efda21f9ea    Narayani   \n4  8a806ec41b613d70b26005e2c4907b021a41e744  Gautam Jha   \n\n   author_date_unix_timestamp        author_email  \\\n0                  1574927837  narayani@adobe.com   \n1                  1574926230      walf@adobe.com   \n2                  1574915324      walf@adobe.com   \n3                  1574757872  narayani@adobe.com   \n4                  1574315174      gjha@adobe.com   \n\n                      author_date  \\\n0  Thu Nov 28 13:27:17 2019 +0530   \n1  Wed Nov 27 23:30:30 2019 -0800   \n2  Wed Nov 27 20:28:44 2019 -0800   \n3  Tue Nov 26 14:14:32 2019 +0530   \n4  Thu Nov 21 11:16:14 2019 +0530   \n\n                                      commit_message    fix classification  \\\n0  Merge pull request #14985 from adobe/alf_local...    NaN          Merge   \n1                        Updated by ALF automation.   False           None   \n2                        Updated by ALF automation.   False           None   \n3  Merge pull request #14729 from adobe/alf_local...    NaN          Merge   \n4  Moving command line port validation errors to ...  False           None   \n\n   linked  contains_bug  ...  nuc  exp      rexp  sexp  glm_probability  \\\n0   False         False  ...  0.0  0.0  0.000000   0.0         0.173803   \n1   False         False  ...  1.0  9.0  1.075033   8.0         0.464372   \n2   False         False  ...  1.0  8.0  0.075033   7.0         0.459778   \n3   False         False  ...  0.0  0.0  0.000000   0.0         0.173803   \n4   False         False  ...  2.0  4.0  2.500000   2.0         0.640227   \n\n   rf_probability                         repository_id issue_id  issue_date  \\\n0           0.000  3dc71fdd-a705-47f1-9685-0dbc873af923      NaN         NaN   \n1           0.286  3dc71fdd-a705-47f1-9685-0dbc873af923      NaN         NaN   \n2           0.302  3dc71fdd-a705-47f1-9685-0dbc873af923      NaN         NaN   \n3           0.000  3dc71fdd-a705-47f1-9685-0dbc873af923      NaN         NaN   \n4           0.496  3dc71fdd-a705-47f1-9685-0dbc873af923      NaN         NaN   \n\n   issue_type  \n0         NaN  \n1         NaN  \n2         NaN  \n3         NaN  \n4         NaN  \n\n[5 rows x 31 columns]"
          },
          "execution_count": 36,
          "metadata": {},
          "output_type": "execute_result"
        }
      ],
      "source": [
        "df = pd.read_csv('https://raw.githubusercontent.com/dinaldoap/jit-sdp-data/master/brackets.csv')\n",
        "df.head()"
      ]
    },
    {
      "cell_type": "code",
      "execution_count": 37,
      "metadata": {},
      "outputs": [
        {
          "data": {
            "text/html": "<div>\n<style scoped>\n    .dataframe tbody tr th:only-of-type {\n        vertical-align: middle;\n    }\n\n    .dataframe tbody tr th {\n        vertical-align: top;\n    }\n\n    .dataframe thead th {\n        text-align: right;\n    }\n</style>\n<table border=\"1\" class=\"dataframe\">\n  <thead>\n    <tr style=\"text-align: right;\">\n      <th></th>\n      <th>commit_hash</th>\n      <th>author_date_unix_timestamp</th>\n      <th>fixes</th>\n      <th>fix</th>\n      <th>ns</th>\n      <th>nd</th>\n      <th>nf</th>\n      <th>entropy</th>\n      <th>la</th>\n      <th>ld</th>\n      <th>...</th>\n      <th>nuc</th>\n      <th>exp</th>\n      <th>rexp</th>\n      <th>sexp</th>\n      <th>contains_bug</th>\n      <th>seq</th>\n      <th>day</th>\n      <th>commit_hash_fix</th>\n      <th>day_fix</th>\n      <th>seq_fix</th>\n    </tr>\n  </thead>\n  <tbody>\n    <tr>\n      <td>17747</td>\n      <td>637d7f4ffa0f2396c2fb61a5e51b9b980f47a2c2</td>\n      <td>1323292816</td>\n      <td>[\"c94ebc139b7ca8ae681c71d28e051f4270d493c4\", \"...</td>\n      <td>False</td>\n      <td>2.0</td>\n      <td>5.0</td>\n      <td>23.0</td>\n      <td>3.630787</td>\n      <td>3754.0</td>\n      <td>0.0</td>\n      <td>...</td>\n      <td>0.0</td>\n      <td>0.0</td>\n      <td>0.0</td>\n      <td>0.0</td>\n      <td>1</td>\n      <td>0</td>\n      <td>0</td>\n      <td>c94ebc139b7ca8ae681c71d28e051f4270d493c4</td>\n      <td>30.0</td>\n      <td>206.0</td>\n    </tr>\n    <tr>\n      <td>17746</td>\n      <td>c8142d2dc17fc1d3777689d67d32d010f5d8dfa7</td>\n      <td>1323292845</td>\n      <td>NaN</td>\n      <td>False</td>\n      <td>2.0</td>\n      <td>2.0</td>\n      <td>2.0</td>\n      <td>0.811278</td>\n      <td>4.0</td>\n      <td>0.0</td>\n      <td>...</td>\n      <td>0.0</td>\n      <td>1.0</td>\n      <td>1.0</td>\n      <td>0.0</td>\n      <td>0</td>\n      <td>1</td>\n      <td>0</td>\n      <td>NaN</td>\n      <td>NaN</td>\n      <td>NaN</td>\n    </tr>\n    <tr>\n      <td>17745</td>\n      <td>af90ea5adf06c935ce1d5db4ce996054c94aeed7</td>\n      <td>1323294546</td>\n      <td>NaN</td>\n      <td>True</td>\n      <td>1.0</td>\n      <td>1.0</td>\n      <td>1.0</td>\n      <td>0.000000</td>\n      <td>1.0</td>\n      <td>1.0</td>\n      <td>...</td>\n      <td>1.0</td>\n      <td>2.0</td>\n      <td>2.0</td>\n      <td>1.0</td>\n      <td>0</td>\n      <td>2</td>\n      <td>0</td>\n      <td>NaN</td>\n      <td>NaN</td>\n      <td>NaN</td>\n    </tr>\n    <tr>\n      <td>17744</td>\n      <td>82f3f98077bde9ac7c4ff285c593a2f351da5bf2</td>\n      <td>1323295924</td>\n      <td>NaN</td>\n      <td>False</td>\n      <td>1.0</td>\n      <td>1.0</td>\n      <td>1.0</td>\n      <td>0.000000</td>\n      <td>2.0</td>\n      <td>3.0</td>\n      <td>...</td>\n      <td>1.0</td>\n      <td>3.0</td>\n      <td>3.0</td>\n      <td>2.0</td>\n      <td>0</td>\n      <td>3</td>\n      <td>0</td>\n      <td>NaN</td>\n      <td>NaN</td>\n      <td>NaN</td>\n    </tr>\n    <tr>\n      <td>17743</td>\n      <td>a454a7bce095b18da240cddf844bfea5a334b7cb</td>\n      <td>1323301755</td>\n      <td>NaN</td>\n      <td>False</td>\n      <td>1.0</td>\n      <td>1.0</td>\n      <td>1.0</td>\n      <td>0.000000</td>\n      <td>5.0</td>\n      <td>0.0</td>\n      <td>...</td>\n      <td>0.0</td>\n      <td>0.0</td>\n      <td>0.0</td>\n      <td>0.0</td>\n      <td>0</td>\n      <td>4</td>\n      <td>0</td>\n      <td>NaN</td>\n      <td>NaN</td>\n      <td>NaN</td>\n    </tr>\n  </tbody>\n</table>\n<p>5 rows × 23 columns</p>\n</div>",
            "text/plain": "                                    commit_hash  author_date_unix_timestamp  \\\n17747  637d7f4ffa0f2396c2fb61a5e51b9b980f47a2c2                  1323292816   \n17746  c8142d2dc17fc1d3777689d67d32d010f5d8dfa7                  1323292845   \n17745  af90ea5adf06c935ce1d5db4ce996054c94aeed7                  1323294546   \n17744  82f3f98077bde9ac7c4ff285c593a2f351da5bf2                  1323295924   \n17743  a454a7bce095b18da240cddf844bfea5a334b7cb                  1323301755   \n\n                                                   fixes    fix   ns   nd  \\\n17747  [\"c94ebc139b7ca8ae681c71d28e051f4270d493c4\", \"...  False  2.0  5.0   \n17746                                                NaN  False  2.0  2.0   \n17745                                                NaN   True  1.0  1.0   \n17744                                                NaN  False  1.0  1.0   \n17743                                                NaN  False  1.0  1.0   \n\n         nf   entropy      la   ld  ...  nuc  exp  rexp  sexp  contains_bug  \\\n17747  23.0  3.630787  3754.0  0.0  ...  0.0  0.0   0.0   0.0             1   \n17746   2.0  0.811278     4.0  0.0  ...  0.0  1.0   1.0   0.0             0   \n17745   1.0  0.000000     1.0  1.0  ...  1.0  2.0   2.0   1.0             0   \n17744   1.0  0.000000     2.0  3.0  ...  1.0  3.0   3.0   2.0             0   \n17743   1.0  0.000000     5.0  0.0  ...  0.0  0.0   0.0   0.0             0   \n\n       seq  day                           commit_hash_fix  day_fix  seq_fix  \n17747    0    0  c94ebc139b7ca8ae681c71d28e051f4270d493c4     30.0    206.0  \n17746    1    0                                       NaN      NaN      NaN  \n17745    2    0                                       NaN      NaN      NaN  \n17744    3    0                                       NaN      NaN      NaN  \n17743    4    0                                       NaN      NaN      NaN  \n\n[5 rows x 23 columns]"
          },
          "execution_count": 37,
          "metadata": {},
          "output_type": "execute_result"
        }
      ],
      "source": [
        "label_col = 'contains_bug'\n",
        "features_cols = ['fix', 'ns', 'nd', 'nf', 'entropy', 'la', 'ld', 'lt', 'ndev', 'age', 'nuc', 'exp', 'rexp', 'sexp']\n",
        "preprocess_cols = ['commit_hash', 'author_date_unix_timestamp', 'fixes'] + features_cols + [label_col]\n",
        "seconds_by_day = 24 * 60 * 60\n",
        "df_preprocess = df[preprocess_cols].copy()\n",
        "# filter rows with missing data \n",
        "df_preprocess = df_preprocess.dropna(subset=['fix'])\n",
        "# timeline order\n",
        "df_preprocess = df_preprocess[::-1]\n",
        "# add sequencial\n",
        "df_preprocess['seq'] = range(len(df_preprocess))\n",
        "# contains_bug\n",
        "df_preprocess[label_col] = df_preprocess[label_col].astype('int')\n",
        "# day\n",
        "first_timestamp = df_preprocess['author_date_unix_timestamp'].min()\n",
        "df_preprocess['day'] = df_preprocess['author_date_unix_timestamp'] - first_timestamp\n",
        "df_preprocess['day'] = df_preprocess['day'] / seconds_by_day\n",
        "df_preprocess['day'] = df_preprocess['day'].astype('int')\n",
        "# fixes\n",
        "df_preprocess['commit_hash_fix'] = df_preprocess['fixes'].dropna().apply(lambda x: re.findall('\\\\b\\\\w+\\\\b', x)[0])\n",
        "df_fix = df_preprocess[['commit_hash', 'day', 'seq']].set_index('commit_hash')\n",
        "df_preprocess = df_preprocess.join(df_fix, on='commit_hash_fix', how='left', rsuffix='_fix')\n",
        "df_preprocess.head()\n",
        "\n"
      ]
    },
    {
      "cell_type": "code",
      "execution_count": 38,
      "metadata": {},
      "outputs": [],
      "source": [
        "prequential_cols = ['day', 'day_fix', 'seq', 'seq_fix'] + features_cols + [label_col]\n",
        "df_prequential = df_preprocess[prequential_cols].copy()"
      ]
    },
    {
      "cell_type": "code",
      "execution_count": 39,
      "metadata": {},
      "outputs": [],
      "source": [
        "def create_pipeline():\n",
        "    scaler = StandardScaler()\n",
        "    criterion = nn.BCELoss()\n",
        "    classifier = Classifier(input_size=len(features_cols), hidden_size=len(features_cols), drop_prob=0.5)\n",
        "    optimizer = optim.Adam(params=classifier.parameters(), lr=0.003)\n",
        "    return Pipeline(steps=[scaler], classifier=classifier, optimizer=optimizer, criterion=criterion, max_epochs=200, fading_factor=0.9999)"
      ]
    },
    {
      "cell_type": "code",
      "execution_count": 40,
      "metadata": {},
      "outputs": [],
      "source": [
        "  def evaluate(label, targets, predictions):\n",
        "    gmean, recalls = metrics.gmean_recalls(targets, predictions)\n",
        "    print('{} g-mean: {}, recalls: {}'.format(label, gmean, recalls))\n",
        "  \n",
        "  def evaluate_train_test(seq, targets_train, predictions_train, targets_test, predictions_test):\n",
        "    print('Sequential: {}'.format(seq))\n",
        "    evaluate('Train', targets_train, predictions_train)\n",
        "    evaluate('Test', targets_test, predictions_test)"
      ]
    },
    {
      "cell_type": "code",
      "execution_count": 41,
      "metadata": {},
      "outputs": [
        {
          "name": "stdout",
          "output_type": "stream",
          "text": "Sequential: 1000\nTrain g-mean: 0.7361409690808125, recalls: [0.78705036 0.68852459]\nTest g-mean: 0.4875387896415773, recalls: [0.89767442 0.26478873]\nSequential: 2000\nTrain g-mean: 0.7288758018680915, recalls: [0.71449275 0.74354839]\nTest g-mean: 0.6418733721521445, recalls: [0.83993661 0.49051491]\nSequential: 3000\nTrain g-mean: 0.7340771374300374, recalls: [0.69647059 0.77371429]\nTest g-mean: 0.6710182317196669, recalls: [0.80797637 0.55727554]\nSequential: 4000\nTrain g-mean: 0.7124738709167793, recalls: [0.65862314 0.77072758]\nTest g-mean: 0.6501682922087686, recalls: [0.66666667 0.63407821]\nSequential: 5000\nTrain g-mean: 0.7057033021796614, recalls: [0.62315131 0.79919137]\nTest g-mean: 0.6515133897086806, recalls: [0.6530303 0.65     ]\nSequential: 6000\nTrain g-mean: 0.7020472506791287, recalls: [0.67896142 0.72591804]\nTest g-mean: 0.6850800824244687, recalls: [0.70945946 0.66153846]\nSequential: 7000\nTrain g-mean: 0.7200329841842454, recalls: [0.74277574 0.69798658]\nTest g-mean: 0.6933573975551701, recalls: [0.81916329 0.58687259]\nSequential: 8000\nTrain g-mean: 0.7246343307770343, recalls: [0.73482032 0.71458954]\nTest g-mean: 0.684149409711588, recalls: [0.80749354 0.57964602]\nSequential: 9000\nTrain g-mean: 0.7187184701685863, recalls: [0.75932043 0.68028755]\nTest g-mean: 0.6529904507649739, recalls: [0.75994865 0.56108597]\nSequential: 10000\nTrain g-mean: 0.7293577215508457, recalls: [0.75593316 0.70371657]\nTest g-mean: 0.721806055355637, recalls: [0.80921895 0.64383562]\nSequential: 11000\nTrain g-mean: 0.7264035181006748, recalls: [0.73144244 0.72139931]\nTest g-mean: 0.6993139374202167, recalls: [0.79314888 0.61658031]\nFull test g-mean: 0.6591414859218696, recalls: [0.77889897 0.55779699]\n"
        }
      ],
      "source": [
        "# split dataset in chunks for testing and iterate over them (chunk from current to current + interval or end)\n",
        "# the previous chunks are used for training (chunks from start to current)\n",
        "verification_latency = 0 # days\n",
        "interval = 1000 # commits\n",
        "end = len(df_prequential) # last commit\n",
        "n_chunks = math.ceil(end / interval)\n",
        "end = n_chunks * interval # last chunk end\n",
        "start = end - (n_chunks - 1) * interval # second chunk start\n",
        "#start = end - interval # last chunk start\n",
        "\n",
        "predictions = []\n",
        "for current in range(start, end, interval):\n",
        "#for current in range(start, start+1, interval):\n",
        "    df_train = df_prequential[:current].copy()\n",
        "    df_test = df_prequential[current:min(current + interval, end)].copy()\n",
        "    # check if fix has been done (bug) or verification latency has passed (normal), otherwise exclude commit\n",
        "    train_day = df_train['day'].max()\n",
        "    train_seq = df_train['seq'].max()\n",
        "    df_train[label_col] = df_train.apply(lambda row: 1 if row.seq_fix <= train_seq else (0 if row.day <= train_day - verification_latency else None), axis='columns')\n",
        "    df_train = df_train.dropna(subset=[label_col])\n",
        "    df_train[label_col] = df_train[label_col].astype('int')\n",
        "    # convert to numpy array\n",
        "    X_train = df_train[features_cols].values\n",
        "    y_train = df_train[label_col].values\n",
        "    X_test = df_test[features_cols].values\n",
        "    y_test = df_test[label_col].values\n",
        "    # train and evaluate\n",
        "    pipeline = create_pipeline()\n",
        "    pipeline.train(X_train, y_train)\n",
        "    predictions_test = pipeline.predict(X_test)    \n",
        "    evaluate_train_test(current, y_train, pipeline.predict(X_train), y_test, predictions_test)\n",
        "    predictions.append(predictions_test)\n",
        "\n",
        "predictions = np.concatenate(predictions)\n",
        "targets = df_prequential[label_col][start:].values\n",
        "evaluate('Full test', targets, predictions)"
      ]
    },
    {
      "cell_type": "code",
      "execution_count": 0,
      "metadata": {
        "colab": {},
        "colab_type": "code",
        "id": "L_t4Gh43GYWl"
      },
      "outputs": [],
      "source": []
    }
  ]
}