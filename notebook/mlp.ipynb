{
  "nbformat": 4,
  "nbformat_minor": 0,
  "metadata": {
    "colab": {
      "name": "JIT-SDP.ipynb",
      "provenance": [],
      "collapsed_sections": [],
      "include_colab_link": true
    },
    "kernelspec": {
      "name": "python3",
      "display_name": "Python 3"
    },
    "accelerator": "GPU"
  },
  "cells": [
    {
      "cell_type": "markdown",
      "metadata": {
        "colab_type": "text",
        "id": "view-in-github"
      },
      "source": [
        "<a href=\"https://colab.research.google.com/github/dinaldoap/jit-sdp-nn/blob/master/notebook/mlp.ipynb\" target=\"_parent\"><img src=\"https://colab.research.google.com/assets/colab-badge.svg\" alt=\"Open In Colab\"/></a>"
      ]
    },
    {
      "cell_type": "code",
      "execution_count": 0,
      "metadata": {},
      "outputs": [],
      "source": [
        "%load_ext autoreload\n",
        "%autoreload 2"
      ]
    },
    {
      "cell_type": "code",
      "execution_count": 0,
      "metadata": {},
      "outputs": [],
      "source": [
        "import numpy as np\n",
        "import pandas as pd\n",
        "import torch\n",
        "import torch.nn as nn\n",
        "import torch.nn.functional as F\n",
        "import torch.optim as optim\n",
        "import torch.utils.data as data\n",
        "from sklearn.model_selection import train_test_split\n",
        "from sklearn.preprocessing import StandardScaler\n",
        "import random\n",
        "from scipy.stats import mstats\n",
        "import math\n",
        "import re\n",
        "\n",
        "from jitsdp import metrics\n",
        "from jitsdp.classifier import Classifier\n",
        "from jitsdp.pipeline import Pipeline"
      ]
    },
    {
      "cell_type": "code",
      "execution_count": 0,
      "metadata": {},
      "outputs": [],
      "source": [
        "df = pd.read_csv('https://raw.githubusercontent.com/dinaldoap/jit-sdp-data/master/brackets.csv')\n",
        "df.head()"
      ]
    },
    {
      "cell_type": "code",
      "execution_count": 0,
      "metadata": {},
      "outputs": [],
      "source": [
        "label_col = 'contains_bug'\n",
        "features_cols = ['fix', 'ns', 'nd', 'nf', 'entropy', 'la', 'ld', 'lt', 'ndev', 'age', 'nuc', 'exp', 'rexp', 'sexp']\n",
        "preprocess_cols = ['commit_hash', 'author_date_unix_timestamp', 'fixes'] + features_cols + [label_col]\n",
        "seconds_by_day = 24 * 60 * 60\n",
        "df_preprocess = df[preprocess_cols]\n",
        "# filter rows with missing data \n",
        "df_preprocess = df_preprocess.dropna(subset=['fix'])\n",
        "# timeline order\n",
        "df_preprocess = df_preprocess[::-1]\n",
        "# contains_bug\n",
        "df_preprocess[label_col] = df_preprocess[label_col].astype('int')\n",
        "# day\n",
        "first_timestamp = df_preprocess['author_date_unix_timestamp'].min()\n",
        "df_preprocess['day'] = df_preprocess['author_date_unix_timestamp'] - first_timestamp\n",
        "df_preprocess['day'] = df_preprocess['day'] / seconds_by_day\n",
        "df_preprocess['day'] = df_preprocess['day'].astype('int')\n",
        "# fixes\n",
        "df_preprocess['commit_hash_fix'] = df_preprocess['fixes'].dropna().apply(lambda x: re.findall('\\\\b\\\\w+\\\\b', x)[0])\n",
        "df_fix = df_preprocess[['commit_hash', 'day']].set_index('commit_hash')\n",
        "df_preprocess = df_preprocess.join(df_fix, on='commit_hash_fix', how='left', rsuffix='_fix')\n",
        "df_preprocess.head()\n",
        "\n"
      ]
    },
    {
      "cell_type": "code",
      "execution_count": 0,
      "metadata": {},
      "outputs": [],
      "source": [
        "prequential_cols = ['day', 'day_fix'] + features_cols + [label_col]\n",
        "df_prequential = df_preprocess[prequential_cols]"
      ]
    },
    {
      "cell_type": "code",
      "execution_count": 0,
      "metadata": {},
      "outputs": [],
      "source": [
        "def create_pipeline():\n",
        "    scaler = StandardScaler()\n",
        "    criterion = nn.BCELoss()\n",
        "    classifier = Classifier(input_size=len(features_cols), hidden_size=len(features_cols), drop_prob=0.5)\n",
        "    optimizer = optim.Adam(params=classifier.parameters(), lr=0.003)\n",
        "    return Pipeline(steps=[scaler], classifier=classifier, optimizer=optimizer, criterion=criterion, max_epochs=200, fading_factor=0.9999)"
      ]
    },
    {
      "cell_type": "code",
      "execution_count": 0,
      "metadata": {},
      "outputs": [],
      "source": [
        "  def evaluate(pipeline, X_train, y_train, X_test, y_test):\n",
        "    train_gmean, train_recalls = pipeline.evaluate(X_train, y_train)\n",
        "    test_gmean, test_recalls = pipeline.evaluate(X_test, y_test)\n",
        "    print('Epoch: {}'.format(pipeline.epoch))\n",
        "    print('Train g-mean: {}, recalls: {}'.format(train_gmean.item(), train_recalls))\n",
        "    print('Test g-mean: {}, recalls: {}'.format(test_gmean.item(), test_recalls))"
      ]
    },
    {
      "cell_type": "code",
      "execution_count": 8,
      "metadata": {},
      "outputs": [
        {
          "name": "stderr",
          "output_type": "stream",
          "text": "/home/pytorch/.conda/envs/pytorch/lib/python3.7/site-packages/ipykernel_launcher.py:11: UserWarning: Boolean Series key will be reindexed to match DataFrame index.\n  # This is added back by InteractiveShellApp.init_path()\nEpoch: 199\nTrain g-mean: 0.7148376387082239, recalls: [0.74257148 0.68813961]\nTest g-mean: 0.4763998795528962, recalls: [0.7375    0.3077381]\n/home/pytorch/.conda/envs/pytorch/lib/python3.7/site-packages/ipykernel_launcher.py:11: UserWarning: Boolean Series key will be reindexed to match DataFrame index.\n  # This is added back by InteractiveShellApp.init_path()\nEpoch: 199\nTrain g-mean: 0.6665091675824271, recalls: [0.68296942 0.65044563]\nTest g-mean: 0.5032053968211945, recalls: [0.65590112 0.38605769]\n/home/pytorch/.conda/envs/pytorch/lib/python3.7/site-packages/ipykernel_launcher.py:11: UserWarning: Boolean Series key will be reindexed to match DataFrame index.\n  # This is added back by InteractiveShellApp.init_path()\nEpoch: 199\nTrain g-mean: 0.6635201499718992, recalls: [0.63223675 0.69635147]\nTest g-mean: 0.643120363852963, recalls: [0.61147186 0.67640693]\n/home/pytorch/.conda/envs/pytorch/lib/python3.7/site-packages/ipykernel_launcher.py:11: UserWarning: Boolean Series key will be reindexed to match DataFrame index.\n  # This is added back by InteractiveShellApp.init_path()\nEpoch: 199\nTrain g-mean: 0.692849873756045, recalls: [0.65675841 0.73092471]\nTest g-mean: 0.618017677369251, recalls: [0.62955487 0.60669192]\n/home/pytorch/.conda/envs/pytorch/lib/python3.7/site-packages/ipykernel_launcher.py:11: UserWarning: Boolean Series key will be reindexed to match DataFrame index.\n  # This is added back by InteractiveShellApp.init_path()\nEpoch: 199\nTrain g-mean: 0.6982547144428805, recalls: [0.7224835  0.67483846]\nTest g-mean: 0.7828585131463638, recalls: [0.82843137 0.73979266]\n/home/pytorch/.conda/envs/pytorch/lib/python3.7/site-packages/ipykernel_launcher.py:11: UserWarning: Boolean Series key will be reindexed to match DataFrame index.\n  # This is added back by InteractiveShellApp.init_path()\nEpoch: 199\nTrain g-mean: 0.7159061617772184, recalls: [0.67409597 0.76030959]\nTest g-mean: 0.6253926014303683, recalls: [0.55300454 0.70725624]\n/home/pytorch/.conda/envs/pytorch/lib/python3.7/site-packages/ipykernel_launcher.py:11: UserWarning: Boolean Series key will be reindexed to match DataFrame index.\n  # This is added back by InteractiveShellApp.init_path()\nEpoch: 199\nTrain g-mean: 0.7122085353517467, recalls: [0.71133879 0.71307934]\nTest g-mean: 0.7259566048480648, recalls: [0.69257837 0.76094348]\n/home/pytorch/.conda/envs/pytorch/lib/python3.7/site-packages/ipykernel_launcher.py:11: UserWarning: Boolean Series key will be reindexed to match DataFrame index.\n  # This is added back by InteractiveShellApp.init_path()\nEpoch: 199\nTrain g-mean: 0.7065688581915678, recalls: [0.70821525 0.7049263 ]\nTest g-mean: 0.6422469568626544, recalls: [0.66088359 0.62413586]\n/home/pytorch/.conda/envs/pytorch/lib/python3.7/site-packages/ipykernel_launcher.py:11: UserWarning: Boolean Series key will be reindexed to match DataFrame index.\n  # This is added back by InteractiveShellApp.init_path()\nEpoch: 199\nTrain g-mean: 0.6943197303214795, recalls: [0.69403614 0.69460344]\nTest g-mean: 0.746995092115357, recalls: [0.76497558 0.72943723]\n/home/pytorch/.conda/envs/pytorch/lib/python3.7/site-packages/ipykernel_launcher.py:11: UserWarning: Boolean Series key will be reindexed to match DataFrame index.\n  # This is added back by InteractiveShellApp.init_path()\nEpoch: 199\nTrain g-mean: 0.7000485632539457, recalls: [0.67354277 0.72759743]\nTest g-mean: 0.631987389619877, recalls: [0.68169464 0.58590465]\n/home/pytorch/.conda/envs/pytorch/lib/python3.7/site-packages/ipykernel_launcher.py:11: UserWarning: Boolean Series key will be reindexed to match DataFrame index.\n  # This is added back by InteractiveShellApp.init_path()\nEpoch: 199\nTrain g-mean: 0.7005288459581065, recalls: [0.74394903 0.65964286]\nTest g-mean: 0.6576831527854017, recalls: [0.81119048 0.53322511]\n/home/pytorch/.conda/envs/pytorch/lib/python3.7/site-packages/ipykernel_launcher.py:11: UserWarning: Boolean Series key will be reindexed to match DataFrame index.\n  # This is added back by InteractiveShellApp.init_path()\nEpoch: 199\nTrain g-mean: 0.7141987823039455, recalls: [0.73077653 0.6979971 ]\nTest g-mean: 0.6633327949170599, recalls: [0.7078355  0.62162805]\n/home/pytorch/.conda/envs/pytorch/lib/python3.7/site-packages/ipykernel_launcher.py:11: UserWarning: Boolean Series key will be reindexed to match DataFrame index.\n  # This is added back by InteractiveShellApp.init_path()\nEpoch: 199\nTrain g-mean: 0.7087384326422858, recalls: [0.74442463 0.67476296]\nTest g-mean: 0.5602770796007318, recalls: [0.75346108 0.41662458]\n/home/pytorch/.conda/envs/pytorch/lib/python3.7/site-packages/ipykernel_launcher.py:11: UserWarning: Boolean Series key will be reindexed to match DataFrame index.\n  # This is added back by InteractiveShellApp.init_path()\nEpoch: 199\nTrain g-mean: 0.700996496713336, recalls: [0.73236403 0.67097245]\nTest g-mean: 0.6015255514497715, recalls: [0.85213121 0.42462121]\n/home/pytorch/.conda/envs/pytorch/lib/python3.7/site-packages/ipykernel_launcher.py:11: UserWarning: Boolean Series key will be reindexed to match DataFrame index.\n  # This is added back by InteractiveShellApp.init_path()\nEpoch: 199\nTrain g-mean: 0.700162178375877, recalls: [0.72664386 0.67464559]\nTest g-mean: 0.6429238530214642, recalls: [0.70785662 0.58394747]\n/home/pytorch/.conda/envs/pytorch/lib/python3.7/site-packages/ipykernel_launcher.py:11: UserWarning: Boolean Series key will be reindexed to match DataFrame index.\n  # This is added back by InteractiveShellApp.init_path()\nEpoch: 199\nTrain g-mean: 0.6901912689055147, recalls: [0.7065666  0.67419545]\nTest g-mean: 0.6636902759081609, recalls: [0.77887427 0.56554029]\n/home/pytorch/.conda/envs/pytorch/lib/python3.7/site-packages/ipykernel_launcher.py:11: UserWarning: Boolean Series key will be reindexed to match DataFrame index.\n  # This is added back by InteractiveShellApp.init_path()\nEpoch: 199\nTrain g-mean: 0.6935101331063498, recalls: [0.70546662 0.68175628]\nTest g-mean: 0.6274813705702119, recalls: [0.71325808 0.5520202 ]\n/home/pytorch/.conda/envs/pytorch/lib/python3.7/site-packages/ipykernel_launcher.py:11: UserWarning: Boolean Series key will be reindexed to match DataFrame index.\n  # This is added back by InteractiveShellApp.init_path()\nEpoch: 199\nTrain g-mean: 0.6782062166375762, recalls: [0.69649832 0.66039452]\nTest g-mean: 0.6869188403901868, recalls: [0.79433856 0.59402566]\n/home/pytorch/.conda/envs/pytorch/lib/python3.7/site-packages/ipykernel_launcher.py:11: UserWarning: Boolean Series key will be reindexed to match DataFrame index.\n  # This is added back by InteractiveShellApp.init_path()\nEpoch: 199\nTrain g-mean: 0.6984038481807728, recalls: [0.70803548 0.68890323]\nTest g-mean: 0.6352376189270109, recalls: [0.75129011 0.53711186]\n/home/pytorch/.conda/envs/pytorch/lib/python3.7/site-packages/ipykernel_launcher.py:11: UserWarning: Boolean Series key will be reindexed to match DataFrame index.\n  # This is added back by InteractiveShellApp.init_path()\nEpoch: 199\nTrain g-mean: 0.6978930711180651, recalls: [0.68501479 0.71101346]\nTest g-mean: 0.6120994804842537, recalls: [0.834205   0.44912914]\n/home/pytorch/.conda/envs/pytorch/lib/python3.7/site-packages/ipykernel_launcher.py:11: UserWarning: Boolean Series key will be reindexed to match DataFrame index.\n  # This is added back by InteractiveShellApp.init_path()\nEpoch: 199\nTrain g-mean: 0.7044030514781764, recalls: [0.72988042 0.67981501]\nTest g-mean: 0.7329755969962787, recalls: [0.84736544 0.63402778]\n/home/pytorch/.conda/envs/pytorch/lib/python3.7/site-packages/ipykernel_launcher.py:11: UserWarning: Boolean Series key will be reindexed to match DataFrame index.\n  # This is added back by InteractiveShellApp.init_path()\nEpoch: 199\nTrain g-mean: 0.6978381394377178, recalls: [0.67683628 0.71949168]\nTest g-mean: 0.6977905948787508, recalls: [0.76405435 0.63727366]\n/home/pytorch/.conda/envs/pytorch/lib/python3.7/site-packages/ipykernel_launcher.py:11: UserWarning: Boolean Series key will be reindexed to match DataFrame index.\n  # This is added back by InteractiveShellApp.init_path()\nEpoch: 199\nTrain g-mean: 0.7037554305310308, recalls: [0.71555476 0.69215067]\nTest g-mean: 0.679504284360956, recalls: [0.74893105 0.61651346]\n/home/pytorch/.conda/envs/pytorch/lib/python3.7/site-packages/ipykernel_launcher.py:11: UserWarning: Boolean Series key will be reindexed to match DataFrame index.\n  # This is added back by InteractiveShellApp.init_path()\nEpoch: 199\nTrain g-mean: 0.7196083246435971, recalls: [0.73775713 0.70190598]\nTest g-mean: 0.7235496585373146, recalls: [0.78533808 0.66662259]\n/home/pytorch/.conda/envs/pytorch/lib/python3.7/site-packages/ipykernel_launcher.py:11: UserWarning: Boolean Series key will be reindexed to match DataFrame index.\n  # This is added back by InteractiveShellApp.init_path()\nEpoch: 199\nTrain g-mean: 0.7137255705968741, recalls: [0.72957678 0.69821875]\nTest g-mean: 0.709597306247519, recalls: [0.71351628 0.70569986]\n/home/pytorch/.conda/envs/pytorch/lib/python3.7/site-packages/ipykernel_launcher.py:11: UserWarning: Boolean Series key will be reindexed to match DataFrame index.\n  # This is added back by InteractiveShellApp.init_path()\nEpoch: 199\nTrain g-mean: 0.7170540625148747, recalls: [0.68612856 0.74937346]\nTest g-mean: 0.6715034823930058, recalls: [0.71443534 0.63115149]\n/home/pytorch/.conda/envs/pytorch/lib/python3.7/site-packages/ipykernel_launcher.py:11: UserWarning: Boolean Series key will be reindexed to match DataFrame index.\n  # This is added back by InteractiveShellApp.init_path()\nEpoch: 199\nTrain g-mean: 0.6752482284285908, recalls: [0.73536973 0.62004207]\nTest g-mean: 0.6295493816398026, recalls: [0.77493653 0.51143856]\n/home/pytorch/.conda/envs/pytorch/lib/python3.7/site-packages/ipykernel_launcher.py:11: UserWarning: Boolean Series key will be reindexed to match DataFrame index.\n  # This is added back by InteractiveShellApp.init_path()\nEpoch: 199\nTrain g-mean: 0.7197255360835396, recalls: [0.70147928 0.7384464 ]\nTest g-mean: 0.6843311184325421, recalls: [0.78423582 0.59715339]\n/home/pytorch/.conda/envs/pytorch/lib/python3.7/site-packages/ipykernel_launcher.py:11: UserWarning: Boolean Series key will be reindexed to match DataFrame index.\n  # This is added back by InteractiveShellApp.init_path()\nEpoch: 199\nTrain g-mean: 0.7190164780113353, recalls: [0.71795757 0.72007695]\nTest g-mean: 0.6708070019582976, recalls: [0.82726018 0.54394258]\n/home/pytorch/.conda/envs/pytorch/lib/python3.7/site-packages/ipykernel_launcher.py:11: UserWarning: Boolean Series key will be reindexed to match DataFrame index.\n  # This is added back by InteractiveShellApp.init_path()\nEpoch: 199\nTrain g-mean: 0.7061110300596343, recalls: [0.69887302 0.713424  ]\nTest g-mean: 0.6785211153677246, recalls: [0.73674855 0.62489557]\n/home/pytorch/.conda/envs/pytorch/lib/python3.7/site-packages/ipykernel_launcher.py:11: UserWarning: Boolean Series key will be reindexed to match DataFrame index.\n  # This is added back by InteractiveShellApp.init_path()\nEpoch: 199\nTrain g-mean: 0.7138691723154281, recalls: [0.71773563 0.71002354]\nTest g-mean: 0.6740916226695265, recalls: [0.71417481 0.63625811]\n/home/pytorch/.conda/envs/pytorch/lib/python3.7/site-packages/ipykernel_launcher.py:11: UserWarning: Boolean Series key will be reindexed to match DataFrame index.\n  # This is added back by InteractiveShellApp.init_path()\nEpoch: 199\nTrain g-mean: 0.7111010397595892, recalls: [0.68457428 0.7386557 ]\nTest g-mean: 0.716332983538109, recalls: [0.74605599 0.68779415]\n/home/pytorch/.conda/envs/pytorch/lib/python3.7/site-packages/ipykernel_launcher.py:11: UserWarning: Boolean Series key will be reindexed to match DataFrame index.\n  # This is added back by InteractiveShellApp.init_path()\nEpoch: 199\nTrain g-mean: 0.7162892094298481, recalls: [0.72211811 0.71050736]\nTest g-mean: 0.6895888799246195, recalls: [0.70293544 0.67649573]\n/home/pytorch/.conda/envs/pytorch/lib/python3.7/site-packages/ipykernel_launcher.py:11: UserWarning: Boolean Series key will be reindexed to match DataFrame index.\n  # This is added back by InteractiveShellApp.init_path()\nEpoch: 199\nTrain g-mean: 0.7046740944582597, recalls: [0.72542485 0.68451691]\nTest g-mean: 0.7710483535121023, recalls: [0.81068184 0.73335251]\n/home/pytorch/.conda/envs/pytorch/lib/python3.7/site-packages/ipykernel_launcher.py:11: UserWarning: Boolean Series key will be reindexed to match DataFrame index.\n  # This is added back by InteractiveShellApp.init_path()\nEpoch: 199\nTrain g-mean: 0.7123770904475114, recalls: [0.71890009 0.70591327]\nTest g-mean: 0.7128815175319885, recalls: [0.79173162 0.64188425]\n/home/pytorch/.conda/envs/pytorch/lib/python3.7/site-packages/ipykernel_launcher.py:11: UserWarning: Boolean Series key will be reindexed to match DataFrame index.\n  # This is added back by InteractiveShellApp.init_path()\nEpoch: 199\nTrain g-mean: 0.7179275137899096, recalls: [0.70948505 0.72647044]\nTest g-mean: 0.6995556460982023, recalls: [0.73333437 0.66733283]\n/home/pytorch/.conda/envs/pytorch/lib/python3.7/site-packages/ipykernel_launcher.py:11: UserWarning: Boolean Series key will be reindexed to match DataFrame index.\n  # This is added back by InteractiveShellApp.init_path()\n"
        }
      ],
      "source": [
        "# split dataset in chunks for testing and iterate over them (chunk from current to current + interval or end)\n",
        "# the previous chunks are used for training (chunks from start to current)\n",
        "start = 30\n",
        "interval = 30\n",
        "end = df_prequential['day'].max() # last day\n",
        "end = math.ceil((end - start) / interval) * interval + start # last chunk\n",
        "\n",
        "for current in range(start, end, interval):\n",
        "    df_train = df_prequential[df_prequential['day'] < current]\n",
        "    df_test = df_prequential[df_prequential['day'] < min(current + interval, end)]\n",
        "    df_test = df_test[df_prequential['day'] >= current]  \n",
        "    # TODO: check if fix has been done (bug) or verification latency has passed (normal), otherwise exclude commit\n",
        "    # convert to numpy array\n",
        "    X_train = df_train[features_cols].values\n",
        "    y_train = df_train[label_col].values\n",
        "    X_test = df_test[features_cols].values\n",
        "    y_test = df_test[label_col].values\n",
        "    # train and evaluate\n",
        "    pipeline = create_pipeline()\n",
        "    pipeline.train(X_train, y_train)\n",
        "    evaluate(pipeline, X_train, y_train, X_test, y_test)\n",
        "    \n"
      ]
    },
    {
      "cell_type": "code",
      "execution_count": 0,
      "metadata": {
        "colab": {},
        "colab_type": "code",
        "id": "L_t4Gh43GYWl"
      },
      "outputs": [],
      "source": []
    }
  ]
}