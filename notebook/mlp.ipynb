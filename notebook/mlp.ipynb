{
  "nbformat": 4,
  "nbformat_minor": 0,
  "metadata": {
    "colab": {
      "name": "JIT-SDP.ipynb",
      "provenance": [],
      "collapsed_sections": [],
      "include_colab_link": true
    },
    "kernelspec": {
      "name": "python3",
      "display_name": "Python 3"
    },
    "accelerator": "GPU"
  },
  "cells": [
    {
      "cell_type": "markdown",
      "metadata": {
        "id": "view-in-github",
        "colab_type": "text"
      },
      "source": [
        "<a href=\"https://colab.research.google.com/github/dinaldoap/jit-sdp-nn/blob/master/notebook/mlp.ipynb\" target=\"_parent\"><img src=\"https://colab.research.google.com/assets/colab-badge.svg\" alt=\"Open In Colab\"/></a>"
      ]
    },
    {
      "cell_type": "code",
      "metadata": {
        "id": "OXwvNEAQE6NO",
        "colab_type": "code",
        "colab": {}
      },
      "source": [
        "import numpy as np\n",
        "import pandas as pd\n",
        "import torch\n",
        "import torch.nn as nn\n",
        "import torch.nn.functional as F\n",
        "import torch.optim as optim\n",
        "import torch.utils.data as data\n",
        "import random\n",
        "from scipy.stats import mstats"
      ],
      "execution_count": 0,
      "outputs": []
    },
    {
      "cell_type": "code",
      "metadata": {
        "id": "zAupgTDfmJ_I",
        "colab_type": "code",
        "outputId": "8c2e037d-a9ad-41ef-8a24-ccad8ca64166",
        "colab": {
          "base_uri": "https://localhost:8080/",
          "height": 204
        }
      },
      "source": [
        "df = pd.read_csv('https://raw.githubusercontent.com/dinaldoap/jit-sdp-data/master/jenkins.csv')\n",
        "df.head()"
      ],
      "execution_count": 132,
      "outputs": [
        {
          "output_type": "execute_result",
          "data": {
            "text/html": [
              "<div>\n",
              "<style scoped>\n",
              "    .dataframe tbody tr th:only-of-type {\n",
              "        vertical-align: middle;\n",
              "    }\n",
              "\n",
              "    .dataframe tbody tr th {\n",
              "        vertical-align: top;\n",
              "    }\n",
              "\n",
              "    .dataframe thead th {\n",
              "        text-align: right;\n",
              "    }\n",
              "</style>\n",
              "<table border=\"1\" class=\"dataframe\">\n",
              "  <thead>\n",
              "    <tr style=\"text-align: right;\">\n",
              "      <th></th>\n",
              "      <th>fix</th>\n",
              "      <th>ns</th>\n",
              "      <th>nd</th>\n",
              "      <th>nf</th>\n",
              "      <th>entropy</th>\n",
              "      <th>la</th>\n",
              "      <th>ld</th>\n",
              "      <th>lt</th>\n",
              "      <th>ndev</th>\n",
              "      <th>age</th>\n",
              "      <th>nuc</th>\n",
              "      <th>exp</th>\n",
              "      <th>rexp</th>\n",
              "      <th>sexp</th>\n",
              "      <th>author_date_unix_timestamp</th>\n",
              "      <th>classification</th>\n",
              "      <th>contains_bug</th>\n",
              "    </tr>\n",
              "  </thead>\n",
              "  <tbody>\n",
              "    <tr>\n",
              "      <th>0</th>\n",
              "      <td>False</td>\n",
              "      <td>7.0</td>\n",
              "      <td>7.0</td>\n",
              "      <td>7.0</td>\n",
              "      <td>2.641604</td>\n",
              "      <td>9.0</td>\n",
              "      <td>9.0</td>\n",
              "      <td>426.428571</td>\n",
              "      <td>100.0</td>\n",
              "      <td>0.000093</td>\n",
              "      <td>1.0</td>\n",
              "      <td>5171.0</td>\n",
              "      <td>30.227271</td>\n",
              "      <td>1472.714286</td>\n",
              "      <td>1555326371</td>\n",
              "      <td>None</td>\n",
              "      <td>False</td>\n",
              "    </tr>\n",
              "    <tr>\n",
              "      <th>1</th>\n",
              "      <td>False</td>\n",
              "      <td>7.0</td>\n",
              "      <td>7.0</td>\n",
              "      <td>7.0</td>\n",
              "      <td>2.750000</td>\n",
              "      <td>8.0</td>\n",
              "      <td>8.0</td>\n",
              "      <td>426.428571</td>\n",
              "      <td>100.0</td>\n",
              "      <td>6.314775</td>\n",
              "      <td>2.0</td>\n",
              "      <td>5170.0</td>\n",
              "      <td>29.227271</td>\n",
              "      <td>1471.714286</td>\n",
              "      <td>1555326363</td>\n",
              "      <td>None</td>\n",
              "      <td>False</td>\n",
              "    </tr>\n",
              "    <tr>\n",
              "      <th>2</th>\n",
              "      <td>False</td>\n",
              "      <td>1.0</td>\n",
              "      <td>1.0</td>\n",
              "      <td>2.0</td>\n",
              "      <td>0.906580</td>\n",
              "      <td>15.0</td>\n",
              "      <td>44.0</td>\n",
              "      <td>96.000000</td>\n",
              "      <td>4.0</td>\n",
              "      <td>0.034722</td>\n",
              "      <td>2.0</td>\n",
              "      <td>629.0</td>\n",
              "      <td>14.828373</td>\n",
              "      <td>414.000000</td>\n",
              "      <td>1554971763</td>\n",
              "      <td>None</td>\n",
              "      <td>False</td>\n",
              "    </tr>\n",
              "    <tr>\n",
              "      <th>3</th>\n",
              "      <td>False</td>\n",
              "      <td>1.0</td>\n",
              "      <td>1.0</td>\n",
              "      <td>1.0</td>\n",
              "      <td>0.000000</td>\n",
              "      <td>0.0</td>\n",
              "      <td>0.0</td>\n",
              "      <td>40.000000</td>\n",
              "      <td>1.0</td>\n",
              "      <td>0.000012</td>\n",
              "      <td>1.0</td>\n",
              "      <td>4.0</td>\n",
              "      <td>3.058824</td>\n",
              "      <td>3.000000</td>\n",
              "      <td>1554969774</td>\n",
              "      <td>None</td>\n",
              "      <td>False</td>\n",
              "    </tr>\n",
              "    <tr>\n",
              "      <th>4</th>\n",
              "      <td>False</td>\n",
              "      <td>1.0</td>\n",
              "      <td>2.0</td>\n",
              "      <td>4.0</td>\n",
              "      <td>1.662506</td>\n",
              "      <td>14.0</td>\n",
              "      <td>10.0</td>\n",
              "      <td>67.000000</td>\n",
              "      <td>6.0</td>\n",
              "      <td>21.280683</td>\n",
              "      <td>4.0</td>\n",
              "      <td>3.0</td>\n",
              "      <td>2.058824</td>\n",
              "      <td>2.000000</td>\n",
              "      <td>1554967752</td>\n",
              "      <td>Feature Addition</td>\n",
              "      <td>False</td>\n",
              "    </tr>\n",
              "  </tbody>\n",
              "</table>\n",
              "</div>"
            ],
            "text/plain": [
              "     fix   ns   nd  ...  author_date_unix_timestamp    classification  contains_bug\n",
              "0  False  7.0  7.0  ...                  1555326371              None         False\n",
              "1  False  7.0  7.0  ...                  1555326363              None         False\n",
              "2  False  1.0  1.0  ...                  1554971763              None         False\n",
              "3  False  1.0  1.0  ...                  1554969774              None         False\n",
              "4  False  1.0  2.0  ...                  1554967752  Feature Addition         False\n",
              "\n",
              "[5 rows x 17 columns]"
            ]
          },
          "metadata": {
            "tags": []
          },
          "execution_count": 132
        }
      ]
    },
    {
      "cell_type": "code",
      "metadata": {
        "id": "alizaxdPD3El",
        "colab_type": "code",
        "outputId": "07aa2cec-d66b-4066-f8fe-1d8aaef7e7b2",
        "colab": {
          "base_uri": "https://localhost:8080/",
          "height": 119
        }
      },
      "source": [
        "#df = df.sample(frac=1)\n",
        "label_col = 'contains_bug'\n",
        "features_cols = ['fix', 'ns', 'nd', 'nf', 'entropy', 'la', 'ld', 'lt', 'ndev', 'age', 'nuc', 'exp', 'rexp', 'sexp', 'classification']\n",
        "x = df[features_cols]\n",
        "x['fix'] = x['fix'].astype('int')\n",
        "df_classification = pd.get_dummies(x, columns=['classification'])\n",
        "x = pd.concat([x, df_classification], axis='columns')\n",
        "x = x.drop(['classification'], axis='columns')\n",
        "x = x.values\n",
        "y = df[label_col]\n",
        "y = y.astype('category')\n",
        "y = y.cat.codes\n",
        "y = y.values"
      ],
      "execution_count": 133,
      "outputs": [
        {
          "output_type": "stream",
          "text": [
            "/usr/local/lib/python3.6/dist-packages/ipykernel_launcher.py:4: SettingWithCopyWarning: \n",
            "A value is trying to be set on a copy of a slice from a DataFrame.\n",
            "Try using .loc[row_indexer,col_indexer] = value instead\n",
            "\n",
            "See the caveats in the documentation: http://pandas.pydata.org/pandas-docs/stable/user_guide/indexing.html#returning-a-view-versus-a-copy\n",
            "  after removing the cwd from sys.path.\n"
          ],
          "name": "stderr"
        }
      ]
    },
    {
      "cell_type": "code",
      "metadata": {
        "id": "EBD1-tp2ExzQ",
        "colab_type": "code",
        "outputId": "44ac7b09-e688-4e7b-cd19-a7787c335bb2",
        "colab": {
          "base_uri": "https://localhost:8080/",
          "height": 493
        }
      },
      "source": [
        "print(x[:3])\n",
        "print(y[:3])"
      ],
      "execution_count": 134,
      "outputs": [
        {
          "output_type": "stream",
          "text": [
            "[[0.00000000e+00 7.00000000e+00 7.00000000e+00 7.00000000e+00\n",
            "  2.64160417e+00 9.00000000e+00 9.00000000e+00 4.26428571e+02\n",
            "  1.00000000e+02 9.25925926e-05 1.00000000e+00 5.17100000e+03\n",
            "  3.02272705e+01 1.47271429e+03 0.00000000e+00 7.00000000e+00\n",
            "  7.00000000e+00 7.00000000e+00 2.64160417e+00 9.00000000e+00\n",
            "  9.00000000e+00 4.26428571e+02 1.00000000e+02 9.25925926e-05\n",
            "  1.00000000e+00 5.17100000e+03 3.02272705e+01 1.47271429e+03\n",
            "  0.00000000e+00 0.00000000e+00 0.00000000e+00 1.00000000e+00\n",
            "  0.00000000e+00 0.00000000e+00]\n",
            " [0.00000000e+00 7.00000000e+00 7.00000000e+00 7.00000000e+00\n",
            "  2.75000000e+00 8.00000000e+00 8.00000000e+00 4.26428571e+02\n",
            "  1.00000000e+02 6.31477513e+00 2.00000000e+00 5.17000000e+03\n",
            "  2.92272705e+01 1.47171429e+03 0.00000000e+00 7.00000000e+00\n",
            "  7.00000000e+00 7.00000000e+00 2.75000000e+00 8.00000000e+00\n",
            "  8.00000000e+00 4.26428571e+02 1.00000000e+02 6.31477513e+00\n",
            "  2.00000000e+00 5.17000000e+03 2.92272705e+01 1.47171429e+03\n",
            "  0.00000000e+00 0.00000000e+00 0.00000000e+00 1.00000000e+00\n",
            "  0.00000000e+00 0.00000000e+00]\n",
            " [0.00000000e+00 1.00000000e+00 1.00000000e+00 2.00000000e+00\n",
            "  9.06579548e-01 1.50000000e+01 4.40000000e+01 9.60000000e+01\n",
            "  4.00000000e+00 3.47222222e-02 2.00000000e+00 6.29000000e+02\n",
            "  1.48283729e+01 4.14000000e+02 0.00000000e+00 1.00000000e+00\n",
            "  1.00000000e+00 2.00000000e+00 9.06579548e-01 1.50000000e+01\n",
            "  4.40000000e+01 9.60000000e+01 4.00000000e+00 3.47222222e-02\n",
            "  2.00000000e+00 6.29000000e+02 1.48283729e+01 4.14000000e+02\n",
            "  0.00000000e+00 0.00000000e+00 0.00000000e+00 1.00000000e+00\n",
            "  0.00000000e+00 0.00000000e+00]]\n",
            "[0 0 0]\n"
          ],
          "name": "stdout"
        }
      ]
    },
    {
      "cell_type": "code",
      "metadata": {
        "id": "xwCn1uNTMjfG",
        "colab_type": "code",
        "colab": {}
      },
      "source": [
        "val_index = int( len(x) * 0.8 )\n",
        "test_index = int( len(x) * 0.9 )\n",
        "x_train, y_train = x[:val_index], y[:val_index]\n",
        "x_val, y_val = x[val_index:test_index], y[val_index:test_index]\n",
        "x_test, y_test = x[test_index:], y[test_index:]"
      ],
      "execution_count": 0,
      "outputs": []
    },
    {
      "cell_type": "code",
      "metadata": {
        "id": "ZSqnoapE5Poq",
        "colab_type": "code",
        "outputId": "c20966ab-f26a-4ecd-e90b-3f7ea8207c25",
        "colab": {
          "base_uri": "https://localhost:8080/",
          "height": 1000
        }
      },
      "source": [
        "print(x_train[:3])\n",
        "print(x_val[:3])\n",
        "print(x_test[:3])"
      ],
      "execution_count": 136,
      "outputs": [
        {
          "output_type": "stream",
          "text": [
            "[[0.00000000e+00 7.00000000e+00 7.00000000e+00 7.00000000e+00\n",
            "  2.64160417e+00 9.00000000e+00 9.00000000e+00 4.26428571e+02\n",
            "  1.00000000e+02 9.25925926e-05 1.00000000e+00 5.17100000e+03\n",
            "  3.02272705e+01 1.47271429e+03 0.00000000e+00 7.00000000e+00\n",
            "  7.00000000e+00 7.00000000e+00 2.64160417e+00 9.00000000e+00\n",
            "  9.00000000e+00 4.26428571e+02 1.00000000e+02 9.25925926e-05\n",
            "  1.00000000e+00 5.17100000e+03 3.02272705e+01 1.47271429e+03\n",
            "  0.00000000e+00 0.00000000e+00 0.00000000e+00 1.00000000e+00\n",
            "  0.00000000e+00 0.00000000e+00]\n",
            " [0.00000000e+00 7.00000000e+00 7.00000000e+00 7.00000000e+00\n",
            "  2.75000000e+00 8.00000000e+00 8.00000000e+00 4.26428571e+02\n",
            "  1.00000000e+02 6.31477513e+00 2.00000000e+00 5.17000000e+03\n",
            "  2.92272705e+01 1.47171429e+03 0.00000000e+00 7.00000000e+00\n",
            "  7.00000000e+00 7.00000000e+00 2.75000000e+00 8.00000000e+00\n",
            "  8.00000000e+00 4.26428571e+02 1.00000000e+02 6.31477513e+00\n",
            "  2.00000000e+00 5.17000000e+03 2.92272705e+01 1.47171429e+03\n",
            "  0.00000000e+00 0.00000000e+00 0.00000000e+00 1.00000000e+00\n",
            "  0.00000000e+00 0.00000000e+00]\n",
            " [0.00000000e+00 1.00000000e+00 1.00000000e+00 2.00000000e+00\n",
            "  9.06579548e-01 1.50000000e+01 4.40000000e+01 9.60000000e+01\n",
            "  4.00000000e+00 3.47222222e-02 2.00000000e+00 6.29000000e+02\n",
            "  1.48283729e+01 4.14000000e+02 0.00000000e+00 1.00000000e+00\n",
            "  1.00000000e+00 2.00000000e+00 9.06579548e-01 1.50000000e+01\n",
            "  4.40000000e+01 9.60000000e+01 4.00000000e+00 3.47222222e-02\n",
            "  2.00000000e+00 6.29000000e+02 1.48283729e+01 4.14000000e+02\n",
            "  0.00000000e+00 0.00000000e+00 0.00000000e+00 1.00000000e+00\n",
            "  0.00000000e+00 0.00000000e+00]]\n",
            "[[0.00000000e+00 8.00000000e+00 8.00000000e+00 8.00000000e+00\n",
            "  2.73215889e+00 1.10000000e+01 1.10000000e+01 1.58625000e+02\n",
            "  5.00000000e+00 1.96759259e-04 1.00000000e+00 4.17300000e+03\n",
            "  2.45570735e+02 8.19125000e+02 0.00000000e+00 8.00000000e+00\n",
            "  8.00000000e+00 8.00000000e+00 2.73215889e+00 1.10000000e+01\n",
            "  1.10000000e+01 1.58625000e+02 5.00000000e+00 1.96759259e-04\n",
            "  1.00000000e+00 4.17300000e+03 2.45570735e+02 8.19125000e+02\n",
            "  0.00000000e+00 0.00000000e+00 0.00000000e+00 1.00000000e+00\n",
            "  0.00000000e+00 0.00000000e+00]\n",
            " [0.00000000e+00 8.00000000e+00 8.00000000e+00 8.00000000e+00\n",
            "  2.73215889e+00 1.10000000e+01 1.10000000e+01 1.58625000e+02\n",
            "  5.00000000e+00 4.29604022e+00 5.00000000e+00 4.17200000e+03\n",
            "  2.44570735e+02 8.18125000e+02 0.00000000e+00 8.00000000e+00\n",
            "  8.00000000e+00 8.00000000e+00 2.73215889e+00 1.10000000e+01\n",
            "  1.10000000e+01 1.58625000e+02 5.00000000e+00 4.29604022e+00\n",
            "  5.00000000e+00 4.17200000e+03 2.44570735e+02 8.18125000e+02\n",
            "  0.00000000e+00 0.00000000e+00 0.00000000e+00 1.00000000e+00\n",
            "  0.00000000e+00 0.00000000e+00]\n",
            " [0.00000000e+00 1.00000000e+00 1.00000000e+00 1.00000000e+00\n",
            "  0.00000000e+00 1.00000000e+00 1.00000000e+00 1.07000000e+02\n",
            "  1.00000000e+00 5.29513889e-01 1.00000000e+00 4.17100000e+03\n",
            "  2.43572058e+02 8.40000000e+01 0.00000000e+00 1.00000000e+00\n",
            "  1.00000000e+00 1.00000000e+00 0.00000000e+00 1.00000000e+00\n",
            "  1.00000000e+00 1.07000000e+02 1.00000000e+00 5.29513889e-01\n",
            "  1.00000000e+00 4.17100000e+03 2.43572058e+02 8.40000000e+01\n",
            "  0.00000000e+00 0.00000000e+00 0.00000000e+00 1.00000000e+00\n",
            "  0.00000000e+00 0.00000000e+00]]\n",
            "[[0.00000000e+00 1.00000000e+00 1.00000000e+00 1.00000000e+00\n",
            "  0.00000000e+00 1.00000000e+00 1.00000000e+00 2.31000000e+02\n",
            "  2.00000000e+00 8.17129630e-03 1.00000000e+00 2.29000000e+03\n",
            "  2.35138387e+02 1.96900000e+03 0.00000000e+00 1.00000000e+00\n",
            "  1.00000000e+00 1.00000000e+00 0.00000000e+00 1.00000000e+00\n",
            "  1.00000000e+00 2.31000000e+02 2.00000000e+00 8.17129630e-03\n",
            "  1.00000000e+00 2.29000000e+03 2.35138387e+02 1.96900000e+03\n",
            "  0.00000000e+00 0.00000000e+00 0.00000000e+00 1.00000000e+00\n",
            "  0.00000000e+00 0.00000000e+00]\n",
            " [0.00000000e+00 1.00000000e+00 3.00000000e+00 4.00000000e+00\n",
            "  1.92417435e+00 1.00000000e+01 4.00000000e+00 7.95000000e+01\n",
            "  2.00000000e+00 7.59004630e-01 4.00000000e+00 2.28900000e+03\n",
            "  2.34145689e+02 1.96800000e+03 0.00000000e+00 1.00000000e+00\n",
            "  3.00000000e+00 4.00000000e+00 1.92417435e+00 1.00000000e+01\n",
            "  4.00000000e+00 7.95000000e+01 2.00000000e+00 7.59004630e-01\n",
            "  4.00000000e+00 2.28900000e+03 2.34145689e+02 1.96800000e+03\n",
            "  0.00000000e+00 1.00000000e+00 0.00000000e+00 0.00000000e+00\n",
            "  0.00000000e+00 0.00000000e+00]\n",
            " [0.00000000e+00 1.00000000e+00 1.00000000e+00 1.00000000e+00\n",
            "  0.00000000e+00 5.00000000e+00 4.00000000e+00 2.10000000e+01\n",
            "  1.00000000e+00 5.92943287e+00 1.00000000e+00 2.28800000e+03\n",
            "  2.33161190e+02 1.96700000e+03 0.00000000e+00 1.00000000e+00\n",
            "  1.00000000e+00 1.00000000e+00 0.00000000e+00 5.00000000e+00\n",
            "  4.00000000e+00 2.10000000e+01 1.00000000e+00 5.92943287e+00\n",
            "  1.00000000e+00 2.28800000e+03 2.33161190e+02 1.96700000e+03\n",
            "  0.00000000e+00 0.00000000e+00 1.00000000e+00 0.00000000e+00\n",
            "  0.00000000e+00 0.00000000e+00]]\n"
          ],
          "name": "stdout"
        }
      ]
    },
    {
      "cell_type": "code",
      "metadata": {
        "id": "46STsbti3AmT",
        "colab_type": "code",
        "colab": {}
      },
      "source": [
        "mean_train = x_train.mean(axis=0)\n",
        "std_train = x_train.std(axis=0)"
      ],
      "execution_count": 0,
      "outputs": []
    },
    {
      "cell_type": "code",
      "metadata": {
        "id": "g5vvbrrK3PES",
        "colab_type": "code",
        "outputId": "190d0610-b654-4342-f5cb-14d76f454e63",
        "colab": {
          "base_uri": "https://localhost:8080/",
          "height": 323
        }
      },
      "source": [
        "print(mean_train)\n",
        "print(std_train)"
      ],
      "execution_count": 138,
      "outputs": [
        {
          "output_type": "stream",
          "text": [
            "[2.90871477e-01 1.61432635e+00 2.60858547e+00 4.18908715e+00\n",
            " 7.43390526e-01 5.00800621e+01 2.96331523e+01 8.11968929e+02\n",
            " 2.32963538e+01 9.76994760e+01 2.02296354e+00 1.73095790e+03\n",
            " 6.53773667e+01 8.28714959e+02 2.90871477e-01 1.61432635e+00\n",
            " 2.60858547e+00 4.18908715e+00 7.43390526e-01 5.00800621e+01\n",
            " 2.96331523e+01 8.11968929e+02 2.32963538e+01 9.76994760e+01\n",
            " 2.02296354e+00 1.73095790e+03 6.53773667e+01 8.28714959e+02\n",
            " 2.90871477e-01 1.47142488e-01 3.46521852e-02 4.71373157e-01\n",
            " 1.51538660e-02 4.08068270e-02]\n",
            "[4.54164354e-01 1.62736223e+00 6.93052365e+00 2.56616350e+01\n",
            " 1.13236779e+00 5.86250473e+02 6.19852440e+02 1.15236538e+03\n",
            " 2.84287684e+01 2.37802272e+02 7.67653474e+00 2.11471132e+03\n",
            " 6.96820390e+01 1.34456679e+03 4.54164354e-01 1.62736223e+00\n",
            " 6.93052365e+00 2.56616350e+01 1.13236779e+00 5.86250473e+02\n",
            " 6.19852440e+02 1.15236538e+03 2.84287684e+01 2.37802272e+02\n",
            " 7.67653474e+00 2.11471132e+03 6.96820390e+01 1.34456679e+03\n",
            " 4.54164354e-01 3.54247902e-01 1.82897270e-01 4.99179831e-01\n",
            " 1.22164751e-01 1.97842437e-01]\n"
          ],
          "name": "stdout"
        }
      ]
    },
    {
      "cell_type": "code",
      "metadata": {
        "id": "P2IoFA5h425Q",
        "colab_type": "code",
        "colab": {}
      },
      "source": [
        "x_train = (x_train - mean_train) / std_train\n",
        "x_val = (x_val - mean_train) / std_train\n",
        "x_test = (x_test - mean_train) / std_train"
      ],
      "execution_count": 0,
      "outputs": []
    },
    {
      "cell_type": "code",
      "metadata": {
        "id": "J1AoKNoU5V1w",
        "colab_type": "code",
        "outputId": "fdef5b00-6657-4ba5-b4c1-8e1a1ef1a9a1",
        "colab": {
          "base_uri": "https://localhost:8080/",
          "height": 1000
        }
      },
      "source": [
        "print(x_train[:3])\n",
        "print(x_val[:3])\n",
        "print(x_test[:3])"
      ],
      "execution_count": 140,
      "outputs": [
        {
          "output_type": "stream",
          "text": [
            "[[-6.40454219e-01  3.30944983e+00  6.33633872e-01  1.09537559e-01\n",
            "   1.67632253e+00 -7.00725440e-02 -3.32872003e-02 -3.34564335e-01\n",
            "   2.69809951e+00 -4.10842935e-01 -1.33258504e-01  1.62671948e+00\n",
            "  -5.04435529e-01  4.78964178e-01 -6.40454219e-01  3.30944983e+00\n",
            "   6.33633872e-01  1.09537559e-01  1.67632253e+00 -7.00725440e-02\n",
            "  -3.32872003e-02 -3.34564335e-01  2.69809951e+00 -4.10842935e-01\n",
            "  -1.33258504e-01  1.62671948e+00 -5.04435529e-01  4.78964178e-01\n",
            "  -6.40454219e-01 -4.15365869e-01 -1.89462561e-01  1.05899079e+00\n",
            "  -1.24044505e-01 -2.06259221e-01]\n",
            " [-6.40454219e-01  3.30944983e+00  6.33633872e-01  1.09537559e-01\n",
            "   1.77204746e+00 -7.17782996e-02 -3.49004875e-02 -3.34564335e-01\n",
            "   2.69809951e+00 -3.84288594e-01 -2.99139370e-03  1.62624660e+00\n",
            "  -5.18786429e-01  4.78220444e-01 -6.40454219e-01  3.30944983e+00\n",
            "   6.33633872e-01  1.09537559e-01  1.77204746e+00 -7.17782996e-02\n",
            "  -3.49004875e-02 -3.34564335e-01  2.69809951e+00 -3.84288594e-01\n",
            "  -2.99139370e-03  1.62624660e+00 -5.18786429e-01  4.78220444e-01\n",
            "  -6.40454219e-01 -4.15365869e-01 -1.89462561e-01  1.05899079e+00\n",
            "  -1.24044505e-01 -2.06259221e-01]\n",
            " [-6.40454219e-01 -3.77498225e-01 -2.32101577e-01 -8.53058331e-02\n",
            "   1.44113090e-01 -5.98380107e-02  2.31778513e-02 -6.21303747e-01\n",
            "  -6.78761509e-01 -4.10697311e-01 -2.99139370e-03 -5.21091408e-01\n",
            "  -7.25423575e-01 -3.08437605e-01 -6.40454219e-01 -3.77498225e-01\n",
            "  -2.32101577e-01 -8.53058331e-02  1.44113090e-01 -5.98380107e-02\n",
            "   2.31778513e-02 -6.21303747e-01 -6.78761509e-01 -4.10697311e-01\n",
            "  -2.99139370e-03 -5.21091408e-01 -7.25423575e-01 -3.08437605e-01\n",
            "  -6.40454219e-01 -4.15365869e-01 -1.89462561e-01  1.05899079e+00\n",
            "  -1.24044505e-01 -2.06259221e-01]]\n",
            "[[-0.64045422  3.92394118  0.77792311  0.14850624  1.75629188 -0.06666103\n",
            "  -0.03006063 -0.566959   -0.64358587 -0.4108425  -0.1332585   1.15478745\n",
            "   2.58593708 -0.00713238 -0.64045422  3.92394118  0.77792311  0.14850624\n",
            "   1.75629188 -0.06666103 -0.03006063 -0.566959   -0.64358587 -0.4108425\n",
            "  -0.1332585   1.15478745  2.58593708 -0.00713238 -0.64045422 -0.41536587\n",
            "  -0.18946256  1.05899079 -0.1240445  -0.20625922]\n",
            " [-0.64045422  3.92394118  0.77792311  0.14850624  1.75629188 -0.06666103\n",
            "  -0.03006063 -0.566959   -0.64358587 -0.39277773  0.38780994  1.15431457\n",
            "   2.57158618 -0.00787611 -0.64045422  3.92394118  0.77792311  0.14850624\n",
            "   1.75629188 -0.06666103 -0.03006063 -0.566959   -0.64358587 -0.39277773\n",
            "   0.38780994  1.15431457  2.57158618 -0.00787611 -0.64045422 -0.41536587\n",
            "  -0.18946256  1.05899079 -0.1240445  -0.20625922]\n",
            " [-0.64045422 -0.37749822 -0.23210158 -0.12427451 -0.65649211 -0.08371859\n",
            "  -0.0461935  -0.61175816 -0.78428842 -0.40861663 -0.1332585   1.1538417\n",
            "   2.55725426 -0.55386982 -0.64045422 -0.37749822 -0.23210158 -0.12427451\n",
            "  -0.65649211 -0.08371859 -0.0461935  -0.61175816 -0.78428842 -0.40861663\n",
            "  -0.1332585   1.1538417   2.55725426 -0.55386982 -0.64045422 -0.41536587\n",
            "  -0.18946256  1.05899079 -0.1240445  -0.20625922]]\n",
            "[[-0.64045422 -0.37749822 -0.23210158 -0.12427451 -0.65649211 -0.08371859\n",
            "  -0.0461935  -0.5041534  -0.74911278 -0.41080896 -0.1332585   0.26435859\n",
            "   2.43622349  0.84806872 -0.64045422 -0.37749822 -0.23210158 -0.12427451\n",
            "  -0.65649211 -0.08371859 -0.0461935  -0.5041534  -0.74911278 -0.41080896\n",
            "  -0.1332585   0.26435859  2.43622349  0.84806872 -0.64045422 -0.41536587\n",
            "  -0.18946256  1.05899079 -0.1240445  -0.20625922]\n",
            " [-0.64045422 -0.37749822  0.05647691 -0.00736848  1.04275646 -0.06836679\n",
            "  -0.04135364 -0.63562212 -0.74911278 -0.40765158  0.25754283  0.26388571\n",
            "   2.42197738  0.84732499 -0.64045422 -0.37749822  0.05647691 -0.00736848\n",
            "   1.04275646 -0.06836679 -0.04135364 -0.63562212 -0.74911278 -0.40765158\n",
            "   0.25754283  0.26388571  2.42197738  0.84732499 -0.64045422  2.40751606\n",
            "  -0.18946256 -0.94429528 -0.1240445  -0.20625922]\n",
            " [-0.64045422 -0.37749822 -0.23210158 -0.12427451 -0.65649211 -0.07689557\n",
            "  -0.04135364 -0.68638727 -0.78428842 -0.38590903 -0.1332585   0.26341283\n",
            "   2.40784893  0.84658126 -0.64045422 -0.37749822 -0.23210158 -0.12427451\n",
            "  -0.65649211 -0.07689557 -0.04135364 -0.68638727 -0.78428842 -0.38590903\n",
            "  -0.1332585   0.26341283  2.40784893  0.84658126 -0.64045422 -0.41536587\n",
            "   5.27808762 -0.94429528 -0.1240445  -0.20625922]]\n"
          ],
          "name": "stdout"
        }
      ]
    },
    {
      "cell_type": "code",
      "metadata": {
        "id": "ZNcuSWBQp2Ua",
        "colab_type": "code",
        "colab": {}
      },
      "source": [
        "def create_sampler(y):\n",
        "  _, counts = np.unique(y, return_counts=True)\n",
        "  n_samples = len(y)\n",
        "  class_weights = n_samples / counts\n",
        "  weights = class_weights[y]\n",
        "  return data.WeightedRandomSampler(weights=weights, num_samples=n_samples, replacement=True)"
      ],
      "execution_count": 0,
      "outputs": []
    },
    {
      "cell_type": "code",
      "metadata": {
        "id": "Fh6O6Nz6uC51",
        "colab_type": "code",
        "colab": {}
      },
      "source": [
        "sampler = create_sampler(y_train)"
      ],
      "execution_count": 0,
      "outputs": []
    },
    {
      "cell_type": "code",
      "metadata": {
        "id": "iP6L6GN22_bR",
        "colab_type": "code",
        "colab": {}
      },
      "source": [
        "x_train, y_train = torch.from_numpy(x_train), torch.from_numpy(y_train)\n",
        "x_val, y_val = torch.from_numpy(x_val), torch.from_numpy(y_val)\n",
        "x_test, y_test = torch.from_numpy(x_test), torch.from_numpy(y_test)"
      ],
      "execution_count": 0,
      "outputs": []
    },
    {
      "cell_type": "code",
      "metadata": {
        "id": "1XnnrzRjL3IP",
        "colab_type": "code",
        "colab": {}
      },
      "source": [
        "train_dataset = data.TensorDataset(x_train, y_train)\n",
        "val_dataset = data.TensorDataset(x_val, y_val)\n",
        "test_dataset = data.TensorDataset(x_test, y_test)\n",
        "\n",
        "train_dataloader = data.DataLoader(train_dataset, batch_size=512, sampler=sampler)\n",
        "val_dataloader = data.DataLoader(val_dataset, batch_size=32)\n",
        "test_dataloader = data.DataLoader(test_dataset, batch_size=32)"
      ],
      "execution_count": 0,
      "outputs": []
    },
    {
      "cell_type": "code",
      "metadata": {
        "id": "SHoY9-JcORo-",
        "colab_type": "code",
        "outputId": "bc9a6e16-6480-47f5-9c4d-8543ddb86f6e",
        "colab": {
          "base_uri": "https://localhost:8080/",
          "height": 833
        }
      },
      "source": [
        "inputs, targets = next(iter(train_dataloader))\n",
        "print(inputs[:3])\n",
        "print(targets[:3])\n",
        "\n",
        "inputs, targets = next(iter(val_dataloader))\n",
        "print(inputs[:3])\n",
        "print(targets[:3])\n",
        "\n",
        "inputs, targets = next(iter(test_dataloader))\n",
        "print(inputs[:3])\n",
        "print(targets[:3])"
      ],
      "execution_count": 145,
      "outputs": [
        {
          "output_type": "stream",
          "text": [
            "tensor([[-0.6405, -0.3775, -0.2321, -0.1243, -0.6565, -0.0752, -0.0478,  0.3836,\n",
            "         -0.6788, -0.3146, -0.1333,  1.2134,  0.1168, -0.4364, -0.6405, -0.3775,\n",
            "         -0.2321, -0.1243, -0.6565, -0.0752, -0.0478,  0.3836, -0.6788, -0.3146,\n",
            "         -0.1333,  1.2134,  0.1168, -0.4364, -0.6405, -0.4154, -0.1895,  1.0590,\n",
            "         -0.1240, -0.2063],\n",
            "        [-0.6405, -0.3775, -0.2321, -0.0853,  0.2242, -0.0445, -0.0075, -0.1184,\n",
            "         -0.1511, -0.4091, -0.0030,  0.3287,  0.4714,  0.4331, -0.6405, -0.3775,\n",
            "         -0.2321, -0.0853,  0.2242, -0.0445, -0.0075, -0.1184, -0.1511, -0.4091,\n",
            "         -0.0030,  0.3287,  0.4714,  0.4331, -0.6405, -0.4154, -0.1895,  1.0590,\n",
            "         -0.1240, -0.2063],\n",
            "        [-0.6405, -0.3775, -0.2321, -0.1243, -0.6565, -0.0837, -0.0462,  0.0339,\n",
            "         -0.1160, -0.3958, -0.1333, -0.8058, -0.8371, -0.6134, -0.6405, -0.3775,\n",
            "         -0.2321, -0.1243, -0.6565, -0.0837, -0.0462,  0.0339, -0.1160, -0.3958,\n",
            "         -0.1333, -0.8058, -0.8371, -0.6134, -0.6405, -0.4154, -0.1895,  1.0590,\n",
            "         -0.1240, -0.2063]], dtype=torch.float64)\n",
            "tensor([0, 1, 0], dtype=torch.int8)\n",
            "tensor([[-0.6405,  3.9239,  0.7779,  0.1485,  1.7563, -0.0667, -0.0301, -0.5670,\n",
            "         -0.6436, -0.4108, -0.1333,  1.1548,  2.5859, -0.0071, -0.6405,  3.9239,\n",
            "          0.7779,  0.1485,  1.7563, -0.0667, -0.0301, -0.5670, -0.6436, -0.4108,\n",
            "         -0.1333,  1.1548,  2.5859, -0.0071, -0.6405, -0.4154, -0.1895,  1.0590,\n",
            "         -0.1240, -0.2063],\n",
            "        [-0.6405,  3.9239,  0.7779,  0.1485,  1.7563, -0.0667, -0.0301, -0.5670,\n",
            "         -0.6436, -0.3928,  0.3878,  1.1543,  2.5716, -0.0079, -0.6405,  3.9239,\n",
            "          0.7779,  0.1485,  1.7563, -0.0667, -0.0301, -0.5670, -0.6436, -0.3928,\n",
            "          0.3878,  1.1543,  2.5716, -0.0079, -0.6405, -0.4154, -0.1895,  1.0590,\n",
            "         -0.1240, -0.2063],\n",
            "        [-0.6405, -0.3775, -0.2321, -0.1243, -0.6565, -0.0837, -0.0462, -0.6118,\n",
            "         -0.7843, -0.4086, -0.1333,  1.1538,  2.5573, -0.5539, -0.6405, -0.3775,\n",
            "         -0.2321, -0.1243, -0.6565, -0.0837, -0.0462, -0.6118, -0.7843, -0.4086,\n",
            "         -0.1333,  1.1538,  2.5573, -0.5539, -0.6405, -0.4154, -0.1895,  1.0590,\n",
            "         -0.1240, -0.2063]], dtype=torch.float64)\n",
            "tensor([0, 0, 0], dtype=torch.int8)\n",
            "tensor([[-0.6405, -0.3775, -0.2321, -0.1243, -0.6565, -0.0837, -0.0462, -0.5042,\n",
            "         -0.7491, -0.4108, -0.1333,  0.2644,  2.4362,  0.8481, -0.6405, -0.3775,\n",
            "         -0.2321, -0.1243, -0.6565, -0.0837, -0.0462, -0.5042, -0.7491, -0.4108,\n",
            "         -0.1333,  0.2644,  2.4362,  0.8481, -0.6405, -0.4154, -0.1895,  1.0590,\n",
            "         -0.1240, -0.2063],\n",
            "        [-0.6405, -0.3775,  0.0565, -0.0074,  1.0428, -0.0684, -0.0414, -0.6356,\n",
            "         -0.7491, -0.4077,  0.2575,  0.2639,  2.4220,  0.8473, -0.6405, -0.3775,\n",
            "          0.0565, -0.0074,  1.0428, -0.0684, -0.0414, -0.6356, -0.7491, -0.4077,\n",
            "          0.2575,  0.2639,  2.4220,  0.8473, -0.6405,  2.4075, -0.1895, -0.9443,\n",
            "         -0.1240, -0.2063],\n",
            "        [-0.6405, -0.3775, -0.2321, -0.1243, -0.6565, -0.0769, -0.0414, -0.6864,\n",
            "         -0.7843, -0.3859, -0.1333,  0.2634,  2.4078,  0.8466, -0.6405, -0.3775,\n",
            "         -0.2321, -0.1243, -0.6565, -0.0769, -0.0414, -0.6864, -0.7843, -0.3859,\n",
            "         -0.1333,  0.2634,  2.4078,  0.8466, -0.6405, -0.4154,  5.2781, -0.9443,\n",
            "         -0.1240, -0.2063]], dtype=torch.float64)\n",
            "tensor([1, 1, 0], dtype=torch.int8)\n"
          ],
          "name": "stdout"
        }
      ]
    },
    {
      "cell_type": "code",
      "metadata": {
        "id": "b-GctbL8E1oA",
        "colab_type": "code",
        "colab": {}
      },
      "source": [
        "class Classifier(nn.Module):\n",
        "  def __init__(self, input_size, hidden_size, drop_prob, epoch=None, val_loss=None):\n",
        "    super(Classifier, self).__init__()\n",
        "    self.input_size = input_size\n",
        "    self.hidden_size = hidden_size\n",
        "    self.drop_prob = drop_prob\n",
        "    self.epoch = epoch\n",
        "    self.val_loss = val_loss\n",
        "    self.fc1 = nn.Linear(input_size, hidden_size)\n",
        "    self.fc2 = nn.Linear(hidden_size, hidden_size)\n",
        "    self.fcout = nn.Linear(hidden_size, 1)\n",
        "    self.dropout = nn.Dropout(drop_prob)\n",
        "  \n",
        "  def forward(self, x):\n",
        "    x = torch.relu(self.fc1(x))\n",
        "    x = self.dropout(x)\n",
        "    x = torch.relu(self.fc2(x))\n",
        "    x = self.dropout(x)\n",
        "    x = torch.sigmoid(self.fcout(x))\n",
        "    return x"
      ],
      "execution_count": 0,
      "outputs": []
    },
    {
      "cell_type": "code",
      "metadata": {
        "id": "inpSePkGLTIs",
        "colab_type": "code",
        "outputId": "beafee17-4b01-42f7-b088-e434bb56e220",
        "colab": {
          "base_uri": "https://localhost:8080/",
          "height": 119
        }
      },
      "source": [
        "classifier = Classifier(input_size=x.shape[1], hidden_size=128, drop_prob=0.2)\n",
        "classifier"
      ],
      "execution_count": 147,
      "outputs": [
        {
          "output_type": "execute_result",
          "data": {
            "text/plain": [
              "Classifier(\n",
              "  (fc1): Linear(in_features=34, out_features=128, bias=True)\n",
              "  (fc2): Linear(in_features=128, out_features=128, bias=True)\n",
              "  (fcout): Linear(in_features=128, out_features=1, bias=True)\n",
              "  (dropout): Dropout(p=0.2, inplace=False)\n",
              ")"
            ]
          },
          "metadata": {
            "tags": []
          },
          "execution_count": 147
        }
      ]
    },
    {
      "cell_type": "code",
      "metadata": {
        "id": "vsT5eIrNoXAh",
        "colab_type": "code",
        "colab": {}
      },
      "source": [
        "filename = 'classifier.cpt'\n",
        "def save_classifier(classifier):\n",
        "  checkpoint = {\n",
        "      'input_size': classifier.input_size,\n",
        "      'hidden_size': classifier.hidden_size,\n",
        "      'drop_prob': classifier.drop_prob,\n",
        "      'val_loss': classifier.val_loss,\n",
        "      'epoch': classifier.epoch,\n",
        "      'state_dict': classifier.state_dict()\n",
        "  }\n",
        "  with open(filename, 'wb') as f:\n",
        "    torch.save(checkpoint, f)\n",
        "\n",
        "def load_classifier():\n",
        "  with open(filename, 'rb') as f:\n",
        "    checkpoint = torch.load(f)\n",
        "  classifier = Classifier(checkpoint['input_size'], checkpoint['hidden_size'], checkpoint['drop_prob'], checkpoint['epoch'], checkpoint['val_loss'])\n",
        "  classifier.load_state_dict(checkpoint['state_dict'])\n",
        "  return classifier"
      ],
      "execution_count": 0,
      "outputs": []
    },
    {
      "cell_type": "code",
      "metadata": {
        "id": "LX_eofKUq0ok",
        "colab_type": "code",
        "colab": {}
      },
      "source": [
        "save_classifier(classifier)\n",
        "classifier = load_classifier()"
      ],
      "execution_count": 0,
      "outputs": []
    },
    {
      "cell_type": "code",
      "metadata": {
        "id": "PR8s5ZA5rX-V",
        "colab_type": "code",
        "outputId": "744e9993-8cea-43ce-b04c-bb29b665e315",
        "colab": {
          "base_uri": "https://localhost:8080/",
          "height": 68
        }
      },
      "source": [
        "if torch.cuda.is_available():\n",
        "  classifier = classifier.cuda()\n",
        "  inputs = inputs.cuda()\n",
        "\n",
        "classifier(inputs[:3].float())"
      ],
      "execution_count": 150,
      "outputs": [
        {
          "output_type": "execute_result",
          "data": {
            "text/plain": [
              "tensor([[0.5093],\n",
              "        [0.5093],\n",
              "        [0.4769]], device='cuda:0', grad_fn=<SigmoidBackward>)"
            ]
          },
          "metadata": {
            "tags": []
          },
          "execution_count": 150
        }
      ]
    },
    {
      "cell_type": "code",
      "metadata": {
        "id": "arYOr5lMLYy7",
        "colab_type": "code",
        "colab": {}
      },
      "source": [
        "criterion = nn.BCELoss()\n",
        "optimizer = optim.Adam(params=classifier.parameters(), lr=0.003)"
      ],
      "execution_count": 0,
      "outputs": []
    },
    {
      "cell_type": "code",
      "metadata": {
        "id": "dFy03p96Lza1",
        "colab_type": "code",
        "outputId": "4f3ca7b8-ff21-488e-d885-6abd753f02f9",
        "colab": {
          "base_uri": "https://localhost:8080/",
          "height": 1000
        }
      },
      "source": [
        "train_loss = 0\n",
        "epochs = 200\n",
        "for epoch in range(epochs):\n",
        "  classifier.train()\n",
        "  for inputs, targets in train_dataloader:\n",
        "    if torch.cuda.is_available():\n",
        "      inputs, targets = inputs.cuda(), targets.cuda()\n",
        "\n",
        "    outputs = classifier(inputs.float())\n",
        "    loss = criterion(outputs.squeeze(), targets.float())\n",
        "    train_loss += loss.item()\n",
        "\n",
        "    optimizer.zero_grad()\n",
        "    loss.backward()\n",
        "    optimizer.step()\n",
        "  \n",
        "  with torch.no_grad():\n",
        "    classifier.eval()\n",
        "    val_loss = 0\n",
        "    for inputs, targets in val_dataloader:\n",
        "      if torch.cuda.is_available():\n",
        "        inputs, targets = inputs.cuda(), targets.cuda()\n",
        "\n",
        "      outputs = classifier(inputs.float())\n",
        "      loss = criterion(outputs.squeeze(), targets.float())\n",
        "      val_loss += loss.item()\n",
        "\n",
        "    train_loss = train_loss / len(train_dataloader)\n",
        "    val_loss = val_loss / len(val_dataloader)\n",
        "    print('Epoch: {}, Train loss: {}, Val loss: {}'.format(epoch, train_loss, val_loss))\n",
        "\n",
        "    if classifier.val_loss is None or val_loss < classifier.val_loss:\n",
        "      classifier.epoch = epoch\n",
        "      classifier.val_loss = val_loss\n",
        "      save_classifier(classifier)\n",
        "\n",
        "classifier.epoch = epoch\n",
        "classifier.val_loss = val_loss"
      ],
      "execution_count": 152,
      "outputs": [
        {
          "output_type": "stream",
          "text": [
            "Epoch: 0, Train loss: 0.5983631861837286, Val loss: 0.6388904071952167\n",
            "Epoch: 1, Train loss: 0.5725540070487521, Val loss: 0.6326992805851134\n",
            "Epoch: 2, Train loss: 0.5532092032431339, Val loss: 0.6410019013442492\n",
            "Epoch: 3, Train loss: 0.5313737671563468, Val loss: 0.5333803398044485\n",
            "Epoch: 4, Train loss: 0.5209893309259348, Val loss: 0.5400965076528097\n",
            "Epoch: 5, Train loss: 0.5218773006430424, Val loss: 0.6125810640422922\n",
            "Epoch: 6, Train loss: 0.5167021707459268, Val loss: 0.5621235547097105\n",
            "Epoch: 7, Train loss: 0.5079275572398356, Val loss: 0.5663272756102838\n",
            "Epoch: 8, Train loss: 0.5108815962392486, Val loss: 0.5050769177706618\n",
            "Epoch: 9, Train loss: 0.5023755547098904, Val loss: 0.5542106816643163\n",
            "Epoch: 10, Train loss: 0.4979012595893327, Val loss: 0.566965107658976\n",
            "Epoch: 11, Train loss: 0.4958647755867593, Val loss: 0.49700464386689036\n",
            "Epoch: 12, Train loss: 0.49144473036152847, Val loss: 0.5352682204622972\n",
            "Epoch: 13, Train loss: 0.49124717617244645, Val loss: 0.5296766085452155\n",
            "Epoch: 14, Train loss: 0.4873043831775615, Val loss: 0.5781163655613598\n",
            "Epoch: 15, Train loss: 0.48495292882278834, Val loss: 0.5341832355449074\n",
            "Epoch: 16, Train loss: 0.48848469561133345, Val loss: 0.49767415500000906\n",
            "Epoch: 17, Train loss: 0.48143298884907143, Val loss: 0.5530651984246153\n",
            "Epoch: 18, Train loss: 0.48119511846405344, Val loss: 0.5552876713244539\n",
            "Epoch: 19, Train loss: 0.484333354298405, Val loss: 0.5556929252649608\n",
            "Epoch: 20, Train loss: 0.47479161118373886, Val loss: 0.503546018349497\n",
            "Epoch: 21, Train loss: 0.47070502515814433, Val loss: 0.480434407529078\n",
            "Epoch: 22, Train loss: 0.474696180348904, Val loss: 0.5315634500431387\n",
            "Epoch: 23, Train loss: 0.47673279651229084, Val loss: 0.5497085848136952\n",
            "Epoch: 24, Train loss: 0.473179148375001, Val loss: 0.49841884562843725\n",
            "Epoch: 25, Train loss: 0.46600202632418347, Val loss: 0.5230581619237599\n",
            "Epoch: 26, Train loss: 0.4703792006594233, Val loss: 0.5060053205019549\n",
            "Epoch: 27, Train loss: 0.46514200450773374, Val loss: 0.49523554938404185\n",
            "Epoch: 28, Train loss: 0.4659710312835468, Val loss: 0.49263442641026095\n",
            "Epoch: 29, Train loss: 0.46275402627742107, Val loss: 0.5408514583189237\n",
            "Epoch: 30, Train loss: 0.4648414846372071, Val loss: 0.49868858037026303\n",
            "Epoch: 31, Train loss: 0.4594321752747722, Val loss: 0.532196425881825\n",
            "Epoch: 32, Train loss: 0.46227832584308115, Val loss: 0.5345082481048609\n",
            "Epoch: 33, Train loss: 0.4699188295552413, Val loss: 0.49807378728138774\n",
            "Epoch: 34, Train loss: 0.45590576091238616, Val loss: 0.5025891785166765\n",
            "Epoch: 35, Train loss: 0.45092863930914195, Val loss: 0.4959149052830119\n",
            "Epoch: 36, Train loss: 0.45283767531149566, Val loss: 0.5278919954833231\n",
            "Epoch: 37, Train loss: 0.4605164543447351, Val loss: 0.4725476830805603\n",
            "Epoch: 38, Train loss: 0.46218966422284236, Val loss: 0.5531640588060805\n",
            "Epoch: 39, Train loss: 0.4575291202721377, Val loss: 0.5446461623436526\n",
            "Epoch: 40, Train loss: 0.45571637840191886, Val loss: 0.4817635224838006\n",
            "Epoch: 41, Train loss: 0.45494484370505606, Val loss: 0.5341311893180797\n",
            "Epoch: 42, Train loss: 0.45235531645531085, Val loss: 0.5797308530462416\n",
            "Epoch: 43, Train loss: 0.44639549106817356, Val loss: 0.4716923993669058\n",
            "Epoch: 44, Train loss: 0.45237940091063605, Val loss: 0.4831692870510252\n",
            "Epoch: 45, Train loss: 0.4477700950644963, Val loss: 0.6076864078640938\n",
            "Epoch: 46, Train loss: 0.44642560278622345, Val loss: 0.49828961785686643\n",
            "Epoch: 47, Train loss: 0.44320778982556913, Val loss: 0.5622546619882709\n",
            "Epoch: 48, Train loss: 0.45047714494213653, Val loss: 0.540255842632369\n",
            "Epoch: 49, Train loss: 0.4530186674528334, Val loss: 0.4811991951183269\n",
            "Epoch: 50, Train loss: 0.43148955708410924, Val loss: 0.5060624793956154\n",
            "Epoch: 51, Train loss: 0.4471407156256381, Val loss: 0.4782864584734565\n",
            "Epoch: 52, Train loss: 0.44330609216258066, Val loss: 0.48961098139223297\n",
            "Epoch: 53, Train loss: 0.44518069618991724, Val loss: 0.5429432519564503\n",
            "Epoch: 54, Train loss: 0.4379770923586403, Val loss: 0.5330708068060247\n",
            "Epoch: 55, Train loss: 0.44119331520098265, Val loss: 0.5257015855688798\n",
            "Epoch: 56, Train loss: 0.4408858928976608, Val loss: 0.545527482111203\n",
            "Epoch: 57, Train loss: 0.4419680235519173, Val loss: 0.560272477371128\n",
            "Epoch: 58, Train loss: 0.44605672594155693, Val loss: 0.5113334185198734\n",
            "Epoch: 59, Train loss: 0.4446193921556195, Val loss: 0.4792992198153546\n",
            "Epoch: 60, Train loss: 0.4372181281917715, Val loss: 0.5087605987332369\n",
            "Epoch: 61, Train loss: 0.4326237047593673, Val loss: 0.570514300544011\n",
            "Epoch: 62, Train loss: 0.4416419163212464, Val loss: 0.5602696404645318\n",
            "Epoch: 63, Train loss: 0.43104939527382263, Val loss: 0.5902935131207893\n",
            "Epoch: 64, Train loss: 0.4360816036575379, Val loss: 0.5542048953081432\n",
            "Epoch: 65, Train loss: 0.43505908510902824, Val loss: 0.5054221008169023\n",
            "Epoch: 66, Train loss: 0.44016359627817264, Val loss: 0.5262593425026065\n",
            "Epoch: 67, Train loss: 0.4306035468924919, Val loss: 0.4986831132126482\n",
            "Epoch: 68, Train loss: 0.4370748419770778, Val loss: 0.5451882252175557\n",
            "Epoch: 69, Train loss: 0.44365644852113617, Val loss: 0.5490207909361312\n",
            "Epoch: 70, Train loss: 0.4411157770637336, Val loss: 0.5461496438242888\n",
            "Epoch: 71, Train loss: 0.4288679669919863, Val loss: 0.48157366776936933\n",
            "Epoch: 72, Train loss: 0.4320700529652292, Val loss: 0.4902793469005509\n",
            "Epoch: 73, Train loss: 0.431153426994978, Val loss: 0.5465648940911418\n",
            "Epoch: 74, Train loss: 0.4289928120591687, Val loss: 0.5380283745103761\n",
            "Epoch: 75, Train loss: 0.43182048134170725, Val loss: 0.6053813278282943\n",
            "Epoch: 76, Train loss: 0.43036026545056194, Val loss: 0.49521935064541667\n",
            "Epoch: 77, Train loss: 0.4339016097647287, Val loss: 0.5203519902731243\n",
            "Epoch: 78, Train loss: 0.4342920937503177, Val loss: 0.4921268440390888\n",
            "Epoch: 79, Train loss: 0.42297287013019597, Val loss: 0.5522007418698386\n",
            "Epoch: 80, Train loss: 0.4270704525149405, Val loss: 0.49383014401322917\n",
            "Epoch: 81, Train loss: 0.42269863381050277, Val loss: 0.5148411044164708\n",
            "Epoch: 82, Train loss: 0.43117544491407706, Val loss: 0.48253987631515455\n",
            "Epoch: 83, Train loss: 0.41854656852110367, Val loss: 0.5102050165204626\n",
            "Epoch: 84, Train loss: 0.42527473551056466, Val loss: 0.49596970136228363\n",
            "Epoch: 85, Train loss: 0.4306571767471395, Val loss: 0.5096092678998646\n",
            "Epoch: 86, Train loss: 0.4247800268252224, Val loss: 0.4916863310101785\n",
            "Epoch: 87, Train loss: 0.4265581420574259, Val loss: 0.5456457814495814\n",
            "Epoch: 88, Train loss: 0.4193562388198252, Val loss: 0.5261882972952566\n",
            "Epoch: 89, Train loss: 0.41722240212658174, Val loss: 0.5200538472517541\n",
            "Epoch: 90, Train loss: 0.43013753131897287, Val loss: 0.5694951764062831\n",
            "Epoch: 91, Train loss: 0.42728423173905233, Val loss: 0.5580725469871571\n",
            "Epoch: 92, Train loss: 0.4186864281159955, Val loss: 0.4892015451271283\n",
            "Epoch: 93, Train loss: 0.416054652146243, Val loss: 0.5116545957954306\n",
            "Epoch: 94, Train loss: 0.4206229256436423, Val loss: 0.5105454700165674\n",
            "Epoch: 95, Train loss: 0.42517598001278595, Val loss: 0.4848091221953693\n",
            "Epoch: 96, Train loss: 0.4176245688681323, Val loss: 0.488808705618507\n",
            "Epoch: 97, Train loss: 0.41455393888261366, Val loss: 0.5884535624400565\n",
            "Epoch: 98, Train loss: 0.4222269387249639, Val loss: 0.5233406055914728\n",
            "Epoch: 99, Train loss: 0.41816025823669606, Val loss: 0.49166278521481316\n",
            "Epoch: 100, Train loss: 0.41596630917576244, Val loss: 0.50078676209638\n",
            "Epoch: 101, Train loss: 0.4132905972909999, Val loss: 0.49761972321491493\n",
            "Epoch: 102, Train loss: 0.410928861281621, Val loss: 0.5054103834064383\n",
            "Epoch: 103, Train loss: 0.41245055475729986, Val loss: 0.5202192634736237\n",
            "Epoch: 104, Train loss: 0.4099301978890567, Val loss: 0.5491057565729869\n",
            "Epoch: 105, Train loss: 0.4132438819265796, Val loss: 0.4969941030599569\n",
            "Epoch: 106, Train loss: 0.41202620121642275, Val loss: 0.5278986435579626\n",
            "Epoch: 107, Train loss: 0.4118473523156696, Val loss: 0.5092364225144449\n",
            "Epoch: 108, Train loss: 0.4181962013069393, Val loss: 0.5480015840577451\n",
            "Epoch: 109, Train loss: 0.4102216606072783, Val loss: 0.4940217891217847\n",
            "Epoch: 110, Train loss: 0.40806881049414523, Val loss: 0.5011378426692987\n",
            "Epoch: 111, Train loss: 0.40782517598886764, Val loss: 0.508827402501514\n",
            "Epoch: 112, Train loss: 0.4092681236452229, Val loss: 0.4987221942528298\n",
            "Epoch: 113, Train loss: 0.41055994553363734, Val loss: 0.5348363977513815\n",
            "Epoch: 114, Train loss: 0.40799678530687733, Val loss: 0.54406014927908\n",
            "Epoch: 115, Train loss: 0.4120155811221962, Val loss: 0.48074591159820557\n",
            "Epoch: 116, Train loss: 0.40769444155042517, Val loss: 0.5319291998289133\n",
            "Epoch: 117, Train loss: 0.40957355453448996, Val loss: 0.48964282929113034\n",
            "Epoch: 118, Train loss: 0.40940725488460833, Val loss: 0.5148283651000575\n",
            "Epoch: 119, Train loss: 0.40686498103512925, Val loss: 0.5357275238554728\n",
            "Epoch: 120, Train loss: 0.4092342032722145, Val loss: 0.5573811489892634\n",
            "Epoch: 121, Train loss: 0.40694433940537017, Val loss: 0.4972265845066623\n",
            "Epoch: 122, Train loss: 0.399456800727752, Val loss: 0.5220730083161279\n",
            "Epoch: 123, Train loss: 0.4105532585452708, Val loss: 0.49138940380592094\n",
            "Epoch: 124, Train loss: 0.40063506474325195, Val loss: 0.5381441267305299\n",
            "Epoch: 125, Train loss: 0.4067587280247894, Val loss: 0.546505526884606\n",
            "Epoch: 126, Train loss: 0.40665075110755017, Val loss: 0.49043350892239496\n",
            "Epoch: 127, Train loss: 0.4049078908215912, Val loss: 0.5122380221360608\n",
            "Epoch: 128, Train loss: 0.40117547017087785, Val loss: 0.505841704771707\n",
            "Epoch: 129, Train loss: 0.3968578177329088, Val loss: 0.5483611169222155\n",
            "Epoch: 130, Train loss: 0.4041945429685769, Val loss: 0.5573267186746785\n",
            "Epoch: 131, Train loss: 0.4089221611672406, Val loss: 0.5501147926245865\n",
            "Epoch: 132, Train loss: 0.40207206171608223, Val loss: 0.5310438053780481\n",
            "Epoch: 133, Train loss: 0.4023970425552068, Val loss: 0.5340033869602179\n",
            "Epoch: 134, Train loss: 0.399947006609424, Val loss: 0.5256223649178681\n",
            "Epoch: 135, Train loss: 0.40008821584431703, Val loss: 0.5571989779801745\n",
            "Epoch: 136, Train loss: 0.4066150775336509, Val loss: 0.5224284015988049\n",
            "Epoch: 137, Train loss: 0.39928910212240537, Val loss: 0.49806896028550046\n",
            "Epoch: 138, Train loss: 0.40042457300229084, Val loss: 0.5189127822063471\n",
            "Epoch: 139, Train loss: 0.4047784915926695, Val loss: 0.4732446980319525\n",
            "Epoch: 140, Train loss: 0.4102231196441217, Val loss: 0.5334809369554645\n",
            "Epoch: 141, Train loss: 0.3984866258132823, Val loss: 0.5469170916629466\n",
            "Epoch: 142, Train loss: 0.39268049236093794, Val loss: 0.5208728952627433\n",
            "Epoch: 143, Train loss: 0.4009084418248594, Val loss: 0.5137376869587522\n",
            "Epoch: 144, Train loss: 0.39847108176620244, Val loss: 0.49129177080957515\n",
            "Epoch: 145, Train loss: 0.39899801487757225, Val loss: 0.5397098860458324\n",
            "Epoch: 146, Train loss: 0.39081188076290996, Val loss: 0.5003381374439126\n",
            "Epoch: 147, Train loss: 0.40227629062208, Val loss: 0.5554182442199243\n",
            "Epoch: 148, Train loss: 0.4029781978686317, Val loss: 0.5184591274316374\n",
            "Epoch: 149, Train loss: 0.40059605283005106, Val loss: 0.5212854045002084\n",
            "Epoch: 150, Train loss: 0.39320765044669914, Val loss: 0.5167044485478025\n",
            "Epoch: 151, Train loss: 0.39002936166273416, Val loss: 0.5662702001435193\n",
            "Epoch: 152, Train loss: 0.3920655052080873, Val loss: 0.48921085854894236\n",
            "Epoch: 153, Train loss: 0.3872090533642788, Val loss: 0.54090285065927\n",
            "Epoch: 154, Train loss: 0.3914860281904246, Val loss: 0.48100398461285393\n",
            "Epoch: 155, Train loss: 0.3916067318789784, Val loss: 0.5340443331944315\n",
            "Epoch: 156, Train loss: 0.39707963753340697, Val loss: 0.4908615207593692\n",
            "Epoch: 157, Train loss: 0.39070964463149194, Val loss: 0.5382020981296113\n",
            "Epoch: 158, Train loss: 0.39174171592258433, Val loss: 0.5101740132821234\n",
            "Epoch: 159, Train loss: 0.39337078424542177, Val loss: 0.5179400866557109\n",
            "Epoch: 160, Train loss: 0.38818984536022705, Val loss: 0.5070090072327539\n",
            "Epoch: 161, Train loss: 0.38288977802523677, Val loss: 0.5390822140401915\n",
            "Epoch: 162, Train loss: 0.3903705454345149, Val loss: 0.6146992527340588\n",
            "Epoch: 163, Train loss: 0.3861536116361503, Val loss: 0.5310482486690346\n",
            "Epoch: 164, Train loss: 0.3895694394670032, Val loss: 0.5342343432926818\n",
            "Epoch: 165, Train loss: 0.38721059283604253, Val loss: 0.5315333585205831\n",
            "Epoch: 166, Train loss: 0.38756617708190233, Val loss: 0.5335434761486555\n",
            "Epoch: 167, Train loss: 0.3868030215050003, Val loss: 0.5267646008808362\n",
            "Epoch: 168, Train loss: 0.3892610274510039, Val loss: 0.5314618641216504\n",
            "Epoch: 169, Train loss: 0.3790182649115629, Val loss: 0.5376500626535792\n",
            "Epoch: 170, Train loss: 0.3912559603364319, Val loss: 0.5487139085797887\n",
            "Epoch: 171, Train loss: 0.3809520370989281, Val loss: 0.502467547396296\n",
            "Epoch: 172, Train loss: 0.3920766854161475, Val loss: 0.4908280005972636\n",
            "Epoch: 173, Train loss: 0.38853388983919546, Val loss: 0.5178991216970118\n",
            "Epoch: 174, Train loss: 0.38724964307037213, Val loss: 0.5238744053793581\n",
            "Epoch: 175, Train loss: 0.3920217492199486, Val loss: 0.5601015282108596\n",
            "Epoch: 176, Train loss: 0.3869290203849907, Val loss: 0.5072413585884007\n",
            "Epoch: 177, Train loss: 0.38566788756795206, Val loss: 0.512484242159285\n",
            "Epoch: 178, Train loss: 0.38147439918077497, Val loss: 0.5235814567851392\n",
            "Epoch: 179, Train loss: 0.3822778093085886, Val loss: 0.5100197178360663\n",
            "Epoch: 180, Train loss: 0.3849855965356717, Val loss: 0.4988526956815469\n",
            "Epoch: 181, Train loss: 0.39004838703489275, Val loss: 0.5101293874414343\n",
            "Epoch: 182, Train loss: 0.38063153081777223, Val loss: 0.5666171239787027\n",
            "Epoch: 183, Train loss: 0.3892964562443376, Val loss: 0.48169366584012385\n",
            "Epoch: 184, Train loss: 0.3900790594666346, Val loss: 0.5264614647940585\n",
            "Epoch: 185, Train loss: 0.38434066841123693, Val loss: 0.5227471166535428\n",
            "Epoch: 186, Train loss: 0.3777898909410673, Val loss: 0.5197261899317566\n",
            "Epoch: 187, Train loss: 0.382477066395996, Val loss: 0.5245367332704758\n",
            "Epoch: 188, Train loss: 0.3866354562075075, Val loss: 0.5217770994885972\n",
            "Epoch: 189, Train loss: 0.38688702185224844, Val loss: 0.5284841810598185\n",
            "Epoch: 190, Train loss: 0.380795819403642, Val loss: 0.5138122464873289\n",
            "Epoch: 191, Train loss: 0.37749055218387884, Val loss: 0.5148446555984648\n",
            "Epoch: 192, Train loss: 0.37625381826091475, Val loss: 0.4861250307999159\n",
            "Epoch: 193, Train loss: 0.38194739752660944, Val loss: 0.5080932915994996\n",
            "Epoch: 194, Train loss: 0.38367272362731286, Val loss: 0.5292451150323215\n",
            "Epoch: 195, Train loss: 0.37766852764331, Val loss: 0.5101587968437296\n",
            "Epoch: 196, Train loss: 0.39072319310695525, Val loss: 0.5035021544287079\n",
            "Epoch: 197, Train loss: 0.38612367041325113, Val loss: 0.49192525720910024\n",
            "Epoch: 198, Train loss: 0.37472595073868714, Val loss: 0.49576251365636526\n",
            "Epoch: 199, Train loss: 0.3794800462163566, Val loss: 0.4731374437871732\n"
          ],
          "name": "stdout"
        }
      ]
    },
    {
      "cell_type": "code",
      "metadata": {
        "id": "QXw0R-Tkucgw",
        "colab_type": "code",
        "colab": {}
      },
      "source": [
        "def calculate_recalls(targets, predictions):\n",
        "  n_classes = 2\n",
        "  confusion_matrix, _, _ = np.histogram2d(targets.detach().cpu().numpy(), predictions.squeeze().detach().cpu().numpy(), bins=n_classes)\n",
        "  return np.diag(confusion_matrix) / (np.sum(confusion_matrix, axis=1))\n",
        "\n",
        "def gmean(classifier, dataloader):\n",
        "  with torch.no_grad():\n",
        "    classifier.eval()\n",
        "    recalls = np.zeros((2))\n",
        "    for inputs, targets in dataloader:\n",
        "      if torch.cuda.is_available():\n",
        "        inputs, targets = inputs.cuda(), targets.cuda()\n",
        "      \n",
        "      outputs = classifier(inputs.float())\n",
        "      predictions = torch.round(outputs).int()\n",
        "      recalls += calculate_recalls(targets, predictions)\n",
        "\n",
        "    recalls = recalls / len(dataloader)\n",
        "    return mstats.gmean(recalls)    "
      ],
      "execution_count": 0,
      "outputs": []
    },
    {
      "cell_type": "code",
      "metadata": {
        "id": "hlrNw0bEqAeh",
        "colab_type": "code",
        "colab": {}
      },
      "source": [
        "def evaluate(classifier):\n",
        "  if torch.cuda.is_available():\n",
        "    classifier = classifier.cuda()\n",
        "  train_accuracy = gmean(classifier, train_dataloader)\n",
        "  test_accuracy = gmean(classifier, test_dataloader)\n",
        "  print('Epoch: {}'.format(classifier.epoch))\n",
        "  print('Train g-mean: {}'.format(train_accuracy.item()))\n",
        "  print('Test g-mean: {}'.format(test_accuracy.item()))"
      ],
      "execution_count": 0,
      "outputs": []
    },
    {
      "cell_type": "code",
      "metadata": {
        "id": "FFoBTASdvqRv",
        "colab_type": "code",
        "colab": {
          "base_uri": "https://localhost:8080/",
          "height": 85
        },
        "outputId": "988e5d1c-2bc9-48e9-dd32-5e3b8f33c3e8"
      },
      "source": [
        "print('Best classifier')\n",
        "evaluate(load_classifier())"
      ],
      "execution_count": 155,
      "outputs": [
        {
          "output_type": "stream",
          "text": [
            "Best classifier\n",
            "Epoch: 43\n",
            "Train g-mean: 0.7856004447191606\n",
            "Test g-mean: 0.6946696759264889\n"
          ],
          "name": "stdout"
        }
      ]
    },
    {
      "cell_type": "code",
      "metadata": {
        "id": "918KM5F07hFl",
        "colab_type": "code",
        "colab": {
          "base_uri": "https://localhost:8080/",
          "height": 85
        },
        "outputId": "b1fd50e9-5716-4173-99d2-136d81985afe"
      },
      "source": [
        "print('Last classifier')\n",
        "evaluate(classifier)"
      ],
      "execution_count": 156,
      "outputs": [
        {
          "output_type": "stream",
          "text": [
            "Last classifier\n",
            "Epoch: 199\n",
            "Train g-mean: 0.8488336557180088\n",
            "Test g-mean: 0.6834778731184149\n"
          ],
          "name": "stdout"
        }
      ]
    },
    {
      "cell_type": "code",
      "metadata": {
        "id": "L_t4Gh43GYWl",
        "colab_type": "code",
        "colab": {}
      },
      "source": [
        ""
      ],
      "execution_count": 0,
      "outputs": []
    }
  ]
}