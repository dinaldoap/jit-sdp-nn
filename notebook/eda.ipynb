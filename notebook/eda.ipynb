{
  "nbformat": 4,
  "nbformat_minor": 0,
  "metadata": {
    "colab": {
      "name": "eda.ipynb",
      "provenance": [],
      "collapsed_sections": [],
      "include_colab_link": true
    },
    "kernelspec": {
      "name": "python3",
      "display_name": "Python 3",
      "language": "python"
    }
  },
  "cells": [
    {
      "cell_type": "markdown",
      "metadata": {
        "colab_type": "text",
        "id": "view-in-github"
      },
      "source": [
        "<a href=\"https://colab.research.google.com/github/dinaldoap/jit-sdp-nn/blob/master/eda.ipynb\" target=\"_parent\"><img src=\"https://colab.research.google.com/assets/colab-badge.svg\" alt=\"Open In Colab\"/></a>"
      ]
    },
    {
      "cell_type": "code",
      "execution_count": null,
      "metadata": {},
      "outputs": [],
      "source": [
        "from jitsdp.data import FEATURES, make_stream\n",
        "import numpy as np\n",
        "import pandas as pd\n",
        "from sklearn.decomposition import PCA\n",
        "from sklearn.manifold import TSNE\n",
        "from sklearn.preprocessing import StandardScaler\n",
        "import seaborn as sns; sns.set()\n",
        "import matplotlib.pyplot as plt\n",
        "from joblib import Memory"
      ]
    },
    {
      "cell_type": "code",
      "execution_count": null,
      "metadata": {},
      "outputs": [],
      "source": [
        "np.random.seed(42)\n",
        "memory = Memory(location='data', verbose=0)\n",
        "dataset = 'brackets'"
      ]
    },
    {
      "cell_type": "code",
      "execution_count": null,
      "metadata": {},
      "outputs": [],
      "source": [
        "df_prequential = make_stream(dataset)\n",
        "df_prequential.head()"
      ]
    },
    {
      "cell_type": "code",
      "execution_count": null,
      "metadata": {},
      "outputs": [],
      "source": [
        "X = df_prequential[FEATURES].values\n",
        "X = StandardScaler().fit_transform(X)\n",
        "X = pd.DataFrame(X, index=df_prequential.index, columns=df_prequential[FEATURES].columns)\n",
        "X.head()"
      ]
    },
    {
      "cell_type": "code",
      "execution_count": null,
      "metadata": {},
      "outputs": [],
      "source": [
        "@memory.cache\n",
        "def reduce_tsne(X):\n",
        "    return TSNE(n_components=2).fit_transform(X)\n",
        "\n",
        "def format_to_plot(X, freduce_dimension, df_aditional):\n",
        "    aditional_columns = list(set(df_aditional.columns) - set(X.columns))\n",
        "    #df_formatted = np.random.rand(len(X), 2)\n",
        "    df_formatted = freduce_dimension(X)\n",
        "    df_formatted = pd.DataFrame(df_formatted, X.index, columns=['x1', 'x2'])\n",
        "    df_formatted = pd.concat([df_formatted, X, df_aditional[aditional_columns]], axis='columns')\n",
        "    return df_formatted.rename(columns={'index': 'timestep'})\n",
        "\n",
        "def remove_outliers(df):\n",
        "  df_removed = df.copy()\n",
        "  for col in ['x1', 'x2']:\n",
        "    q_min, q_max = df_removed[col].quantile([0.01, 0.99])\n",
        "    print('({}, {})'.format(q_min, q_max))\n",
        "    df_removed = df_removed[df_removed[col] <= q_max]\n",
        "    df_removed = df_removed[df_removed[col] >= q_min]\n",
        "  return df_removed"
      ]
    },
    {
      "cell_type": "code",
      "execution_count": null,
      "metadata": {},
      "outputs": [],
      "source": [
        "def plot_drift(data):\n",
        "  n_bins = 6\n",
        "  bin_size = len(df) // n_bins\n",
        "  fig, ax = plt.subplots(nrows=n_bins, figsize=(18, 36), sharex=True, sharey=True, constrained_layout=True)\n",
        "  for bin in range(n_bins):\n",
        "    palette = 'coolwarm' if bin % 2 == 0 else 'coolwarm_r'\n",
        "    bin_data = data[data['timestep'] >= bin*bin_size]\n",
        "    bin_data = bin_data[bin_data['timestep'] <= (bin+1)*bin_size]    \n",
        "    sns.scatterplot(x=\"x1\", y=\"x2\", hue='timestep', palette=palette, data=bin_data, ax=ax[bin])\n",
        "  fig.show()\n",
        "\n",
        "def normal(data):\n",
        "  return data[data['y'] == 0]\n",
        "\n",
        "def bug(data):\n",
        "  return data[data['y'] == 1]\n",
        "\n",
        "def plot_drifts(data):\n",
        "  n_bins = 6\n",
        "  bin_size = len(df) // n_bins\n",
        "  fig, ax = plt.subplots(nrows=n_bins, ncols=2, figsize=(22, 36), sharex=True, sharey=True, constrained_layout=True)\n",
        "  for bin in range(n_bins):\n",
        "    palette = 'coolwarm' if bin % 2 == 0 else 'coolwarm_r'\n",
        "    bin_data = data[data['timestep'] >= bin*bin_size]\n",
        "    bin_data = bin_data[bin_data['timestep'] <= (bin+1)*bin_size]    \n",
        "    sns.scatterplot(x=\"x1\", y=\"x2\", hue='timestep', palette=palette, data=normal(bin_data), ax=ax[bin, 0])\n",
        "    sns.scatterplot(x=\"x1\", y=\"x2\", hue='timestep', palette=palette, data=bug(bin_data), ax=ax[bin, 1])\n",
        "  fig.show()\n",
        "\n",
        "def plot_by_label(data, title=None, filename=None, xlim=None, ylim=None):\n",
        "  plt.figure(figsize=(15,15))\n",
        "  flatui = [\"#AAAAAA\", \"#0000FF\", \"#FF0000\"]\n",
        "  ax = sns.scatterplot(x=\"x1\", y=\"x2\", hue='target', data=data, palette=flatui)\n",
        "  ax.set(xlim=xlim, ylim=ylim)\n",
        "  ax.set_title(label=title)\n",
        "  if filename is None:\n",
        "    plt.show()\n",
        "  else:\n",
        "    plt.savefig(filename)\n",
        "    plt.clf()\n",
        "\n",
        "def plot_drifts_by_label(data):\n",
        "  n_bins = 6\n",
        "  bin_size = len(df) // n_bins\n",
        "  fig, ax = plt.subplots(nrows=n_bins, ncols=1, figsize=(15, 30), sharex=True, sharey=True, constrained_layout=True)\n",
        "  for bin in range(n_bins):\n",
        "    bin_data = data[data['timestep'] >= bin*bin_size]\n",
        "    bin_data = bin_data[bin_data['timestep'] <= (bin+1)*bin_size]    \n",
        "    ax = sns.scatterplot(x=\"x1\", y=\"x2\", hue='y', data=bin_data, ax=ax[bin])        \n",
        "  fig.show()\n",
        "    "
      ]
    },
    {
      "cell_type": "code",
      "execution_count": null,
      "metadata": {},
      "outputs": [],
      "source": [
        "df_pts = format_to_plot(X, reduce_tsne, df_prequential)\n",
        "df_pts.head()\n"
      ]
    },
    {
      "cell_type": "code",
      "execution_count": null,
      "metadata": {},
      "outputs": [],
      "source": [
        "df_pts = remove_outliers(df_pts)\n",
        "print(len(df_pts))\n",
        "df_pts.head()"
      ]
    },
    {
      "cell_type": "code",
      "execution_count": null,
      "metadata": {},
      "outputs": [],
      "source": [
        "!rm logs/{dataset}/*.png"
      ]
    },
    {
      "cell_type": "code",
      "execution_count": null,
      "metadata": {
        "tags": [
          "outputPrepend"
        ]
      },
      "outputs": [],
      "source": [
        "margim = 1\n",
        "x1lim = (df_pts['x1'].min() - margim, df_pts['x1'].max() + margim)\n",
        "x2lim = (df_pts['x2'].min() - margim, df_pts['x2'].max() + margim)\n",
        "seconds_by_day = 24 * 60 * 60\n",
        "verification_latency = 90 * seconds_by_day  # seconds\n",
        "fold_size = 50\n",
        "df_placeholder = df_pts[:1].copy()\n",
        "placeholder_values = ['wait', 'train', 'test']\n",
        "df_placeholder = pd.concat([df_placeholder] * len(placeholder_values))\n",
        "df_placeholder['target'] = placeholder_values\n",
        "for i in range(fold_size, len(df_pts)-fold_size, fold_size):\n",
        "#for i in range(fold_size, 2 * fold_size + 1, fold_size):\n",
        "    df_train = df_pts[:i].copy()\n",
        "    df_test = df_pts[i:i + fold_size].copy()\n",
        "    train_timestamp = df_train['timestamp'].max()        \n",
        "    df_train['target'] = df_train.apply(lambda row: 'train' if row.timestamp_fix <= train_timestamp else (\n",
        "        'train' if row.timestamp <= train_timestamp - verification_latency else 'wait'), axis='columns')\n",
        "    df_test['target'] = 'test'\n",
        "    df_data = pd.concat([df_placeholder, df_train, df_test])\n",
        "    plot_by_label(df_data, title='{} {:05d}'.format(dataset, i), filename='logs/{}/{:05d}.png'.format(dataset, i), xlim=x1lim, ylim=x2lim)"
      ]
    },
    {
      "cell_type": "code",
      "execution_count": null,
      "metadata": {},
      "outputs": [],
      "source": [
        "#plot_drifts_by_label(df_pts):"
      ]
    },
    {
      "cell_type": "code",
      "execution_count": null,
      "metadata": {},
      "outputs": [],
      "source": [
        "#plot_by_label(df_pts)"
      ]
    },
    {
      "cell_type": "code",
      "execution_count": null,
      "metadata": {},
      "outputs": [],
      "source": [
        "#df_cluster = df_pts.copy()\n",
        "#df_cluster = df_cluster[df_cluster['x1'] >= 5]\n",
        "#df_cluster = df_cluster[df_cluster['x1'] <= 25]\n",
        "#df_cluster = df_cluster[df_cluster['x2'] >= 60]\n",
        "#df_cluster = df_cluster[df_cluster['x2'] <= 78]\n",
        "#df_cluster"
      ]
    },
    {
      "cell_type": "code",
      "execution_count": null,
      "metadata": {},
      "outputs": [],
      "source": [
        "a#print(len(df_cluster))\n",
        "#print(df_cluster['author_email'].unique())\n",
        "#print(df_cluster['author_date'].max(), df_cluster['author_date'].min())\n",
        "#print(df_cluster['fix'].unique())"
      ]
    }
  ]
}